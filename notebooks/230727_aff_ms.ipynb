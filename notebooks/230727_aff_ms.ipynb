{
 "cells": [
  {
   "cell_type": "code",
   "execution_count": 1,
   "id": "ec7991ec",
   "metadata": {},
   "outputs": [
    {
     "name": "stderr",
     "output_type": "stream",
     "text": [
      "C:\\Users\\richa\\anaconda3\\envs\\gene_env\\lib\\site-packages\\scipy\\__init__.py:146: UserWarning: A NumPy version >=1.17.3 and <1.25.0 is required for this version of SciPy (detected version 1.26.3\n",
      "  warnings.warn(f\"A NumPy version >={np_minversion} and <{np_maxversion}\"\n"
     ]
    }
   ],
   "source": [
    "import numpy as np\n",
    "import pandas as pd\n",
    "import scipy\n",
    "\n",
    "from IPython.display import clear_output\n",
    "\n",
    "import sys\n",
    "sys.path.append('../../../../Documents/GitHub/gustav/src/')\n",
    "\n",
    "from gustav import ebi, ncbi, nlm, biogrid, nih\n",
    "from gustav import publications\n",
    "from gustav import github\n",
    "from gustav import access_framework\n",
    "from gustav import mapper\n",
    "\n",
    "import matplotlib as mpl\n",
    "import matplotlib.pyplot as plt\n",
    "import seaborn as sns\n",
    "\n",
    "sys.path.append('../general/src/')\n",
    "from manuscript import export\n",
    "from manuscript import inout\n",
    "from manuscript import datasets\n",
    "from manuscript import tools\n",
    "\n",
    "from sklearn.metrics import auc\n",
    "from scipy.stats import fisher_exact\n",
    "pd.options.display.precision = 3\n",
    "pd.options.display.expand_frame_repr = False\n",
    "pd.options.display.max_columns = 20"
   ]
  },
  {
   "cell_type": "code",
   "execution_count": 2,
   "id": "ba0f2a60",
   "metadata": {},
   "outputs": [
    {
     "name": "stderr",
     "output_type": "stream",
     "text": [
      "C:\\Users\\richa\\Documents\\GitHub\\fmug_analysis\\notebooks\\../../../../Documents/GitHub/gustav/src\\gustav\\utils.py:52: FutureWarning: In a future version of pandas all arguments of DataFrame.drop except for the argument 'labels' will be keyword-only.\n",
      "  df_with_delimiter.drop(column, 1).reset_index(),\n",
      "C:\\Users\\richa\\Documents\\GitHub\\fmug_analysis\\notebooks\\../../../../Documents/GitHub/gustav/src\\gustav\\utils.py:63: FutureWarning: In a future version of pandas all arguments of DataFrame.drop except for the argument 'labels' will be keyword-only.\n",
      "  joined = joined.drop('helper_index', 1)\n",
      "C:\\Users\\richa\\Documents\\GitHub\\fmug_analysis\\notebooks\\../../../../Documents/GitHub/gustav/src\\gustav\\utils.py:52: FutureWarning: In a future version of pandas all arguments of DataFrame.drop except for the argument 'labels' will be keyword-only.\n",
      "  df_with_delimiter.drop(column, 1).reset_index(),\n",
      "C:\\Users\\richa\\Documents\\GitHub\\fmug_analysis\\notebooks\\../../../../Documents/GitHub/gustav/src\\gustav\\utils.py:63: FutureWarning: In a future version of pandas all arguments of DataFrame.drop except for the argument 'labels' will be keyword-only.\n",
      "  joined = joined.drop('helper_index', 1)\n"
     ]
    }
   ],
   "source": [
    "taxon = 9606\n",
    "gene_flavor = 'ou'\n",
    "ref_genes = datasets.reference_genes(taxon, gene_flavor)\n",
    "gene_info = ncbi.gene_info(taxon, mode='unambiguous_ensembl')"
   ]
  },
  {
   "cell_type": "code",
   "execution_count": 3,
   "id": "60eb53fd",
   "metadata": {},
   "outputs": [],
   "source": [
    "ref_literature = datasets.reference_publications(taxon)"
   ]
  },
  {
   "cell_type": "code",
   "execution_count": 4,
   "id": "61e9a6e1",
   "metadata": {},
   "outputs": [],
   "source": [
    "agg = []\n",
    "literature_flavor = 'pubtator_title_or_abstract_in_any_gene2pubmed_paper'\n",
    "\n",
    "gene2lit = datasets.reference_gene2lit(\n",
    "    taxon, \n",
    "    literature_flavor)\n",
    "gene2lit = gene2lit[\n",
    "    gene2lit['gene_ncbi'].isin(ref_genes) & \n",
    "    gene2lit['pubmed_id'].isin(ref_literature)\n",
    "].copy()"
   ]
  },
  {
   "cell_type": "code",
   "execution_count": 5,
   "id": "dd67ae5e",
   "metadata": {},
   "outputs": [
    {
     "name": "stdout",
     "output_type": "stream",
     "text": [
      "CPU times: total: 156 ms\n",
      "Wall time: 131 ms\n"
     ]
    }
   ],
   "source": [
    "%%time\n",
    "gene2pubmed = gene2lit #ncbi.gene2pubmed(taxon_ncbi=9606)\n",
    "large_pubs = gene2pubmed['pubmed_id'].value_counts()[gene2pubmed['pubmed_id'].value_counts() >= 100].index.values\n",
    "#gene2pubmed = gene2pubmed[~gene2pubmed['pubmed_id'].isin(large_pubs)]\n",
    "\n",
    "gene2pubmed_dict = gene2pubmed[~gene2pubmed['pubmed_id'].isin(large_pubs)].value_counts('gene_ncbi').to_dict()"
   ]
  },
  {
   "cell_type": "markdown",
   "id": "2b984946",
   "metadata": {},
   "source": [
    "# BioGRID"
   ]
  },
  {
   "cell_type": "code",
   "execution_count": 6,
   "id": "d78b522c",
   "metadata": {},
   "outputs": [],
   "source": [
    "biogrid_df = biogrid.biogrid('all')"
   ]
  },
  {
   "cell_type": "code",
   "execution_count": 7,
   "id": "daca821d",
   "metadata": {},
   "outputs": [
    {
     "data": {
      "text/plain": [
       "PUBMED:27708008    326623\n",
       "PUBMED:20093466     68044\n",
       "PUBMED:28514442     56431\n",
       "PUBMED:32296183     52408\n",
       "PUBMED:22681890     40846\n",
       "                    ...  \n",
       "PUBMED:25429067         1\n",
       "PUBMED:21912673         1\n",
       "PUBMED:19330023         1\n",
       "PUBMED:23298890         1\n",
       "PUBMED:1527169          1\n",
       "Name: publication_source, Length: 62154, dtype: int64"
      ]
     },
     "execution_count": 7,
     "metadata": {},
     "output_type": "execute_result"
    }
   ],
   "source": [
    "# all records\n",
    "biogrid_df['publication_source'].value_counts()"
   ]
  },
  {
   "cell_type": "code",
   "execution_count": 8,
   "id": "5b4d401c",
   "metadata": {},
   "outputs": [
    {
     "name": "stdout",
     "output_type": "stream",
     "text": [
      "PUBMED:28514442    56431\n",
      "PUBMED:26496610    29089\n",
      "PUBMED:26186194    23669\n",
      "PUBMED:22036573    10917\n",
      "PUBMED:16429126     7592\n",
      "                   ...  \n",
      "PUBMED:25139236        1\n",
      "PUBMED:23913922        1\n",
      "PUBMED:26718004        1\n",
      "PUBMED:16222229        1\n",
      "PUBMED:24277934        1\n",
      "Name: publication_source, Length: 1235, dtype: int64\n",
      "PUBMED:28514442    55822\n",
      "PUBMED:26496610    28952\n",
      "PUBMED:26186194    23379\n",
      "PUBMED:27173435     4885\n",
      "PUBMED:21145461     4487\n",
      "                   ...  \n",
      "PUBMED:31159502        1\n",
      "PUBMED:20388777        1\n",
      "PUBMED:24067369        1\n",
      "PUBMED:29228602        1\n",
      "PUBMED:19786094        1\n",
      "Name: publication_source, Length: 683, dtype: int64\n"
     ]
    }
   ],
   "source": [
    "# In Aff-MS\n",
    "biogrid_df = biogrid_df[(biogrid_df['throughput'] == 'High Throughput') & \n",
    "        (biogrid_df['experimental_system'] == 'Affinity Capture-MS')]\n",
    "print(biogrid_df['publication_source'].value_counts())\n",
    "\n",
    "# Bait proteins are human\n",
    "biogrid_df = biogrid_df[biogrid_df['gene_ncbi_interactor_b'].isin(gene_info['gene_ncbi'])]\n",
    "print(biogrid_df['publication_source'].value_counts())#['publication_source'].value_counts()"
   ]
  },
  {
   "cell_type": "code",
   "execution_count": 9,
   "id": "d224e139",
   "metadata": {},
   "outputs": [],
   "source": [
    "biogrid_df['pubmed_id'] = biogrid_df['publication_source'].apply(lambda x: int(x.split(':')[1]))"
   ]
  },
  {
   "cell_type": "code",
   "execution_count": 10,
   "id": "afc7590f",
   "metadata": {},
   "outputs": [],
   "source": [
    "biogrid_df = biogrid_df[biogrid_df['pubmed_id'].isin(gene2pubmed['pubmed_id'])]"
   ]
  },
  {
   "cell_type": "code",
   "execution_count": 11,
   "id": "6d3f6a96",
   "metadata": {},
   "outputs": [
    {
     "data": {
      "text/plain": [
       "27684187    3484\n",
       "28515276    2785\n",
       "31091453    2761\n",
       "29845934    2217\n",
       "29128334    1964\n",
       "            ... \n",
       "30760284       1\n",
       "26975375       1\n",
       "29434030       1\n",
       "30675521       1\n",
       "29426904       1\n",
       "Name: pubmed_id, Length: 461, dtype: int64"
      ]
     },
     "execution_count": 11,
     "metadata": {},
     "output_type": "execute_result"
    }
   ],
   "source": [
    "# Gene in title/abstract\n",
    "biogrid_df['pubmed_id'].value_counts()"
   ]
  },
  {
   "cell_type": "code",
   "execution_count": 12,
   "id": "5aa6cb78",
   "metadata": {},
   "outputs": [],
   "source": [
    "biogrid_df = biogrid_df.drop_duplicates(['pubmed_id', 'gene_ncbi_interactor_b']).copy()"
   ]
  },
  {
   "cell_type": "code",
   "execution_count": 13,
   "id": "0d75eac5",
   "metadata": {},
   "outputs": [],
   "source": [
    "biogrid_df['gene_ncbi'] = biogrid_df['gene_ncbi_interactor_b'].copy()"
   ]
  },
  {
   "cell_type": "code",
   "execution_count": 14,
   "id": "03f22699",
   "metadata": {},
   "outputs": [],
   "source": [
    "#biogrid_df[['pubmed_id']].drop_duplicates().to_csv('../data/aff_ms_pubmed_ids.csv', index=False)"
   ]
  },
  {
   "cell_type": "code",
   "execution_count": 15,
   "id": "9319f857",
   "metadata": {},
   "outputs": [
    {
     "name": "stdout",
     "output_type": "stream",
     "text": [
      "CPU times: total: 19.1 s\n",
      "Wall time: 20.5 s\n"
     ]
    }
   ],
   "source": [
    "%%time\n",
    "icite = nih.icite(dataset='citations')"
   ]
  },
  {
   "cell_type": "code",
   "execution_count": 16,
   "id": "d2936f4c",
   "metadata": {},
   "outputs": [],
   "source": [
    "def get_genes(gwas):\n",
    "    \n",
    "    prot_genes = set(gene_info[gene_info['type_of_gene'] == 'protein-coding']['gene_ncbi'])\n",
    "    \n",
    "    # apply filters and p-value threshold here\n",
    "    gwas = gwas[(gwas['pubmed_id'].isin(gene2pubmed['pubmed_id']))].copy()\n",
    "    \n",
    "    print(str(len(set(gwas['pubmed_id'].values))) + ' Aff-MS articles')\n",
    "    \n",
    "    icite_slice = icite[icite['referenced'].isin(gwas['pubmed_id'])].copy()\n",
    "    icite_slice = pd.merge(icite_slice, gene2pubmed, left_on='citing', right_on='pubmed_id')\n",
    "    \n",
    "    print(str(icite_slice['citing'].nunique()) + ' citing articles')\n",
    "    \n",
    "    de_dict = gwas.groupby('pubmed_id')['gene_ncbi'].apply(set).to_dict()\n",
    "    de_dict_mentioned_genes = (\n",
    "        gene2pubmed[gene2pubmed['pubmed_id']\n",
    "                    .isin(gwas['pubmed_id'])]\n",
    "        .groupby('pubmed_id')['gene_ncbi']\n",
    "        .apply(set).to_dict()\n",
    "    )\n",
    "    de_dict_citations_mentioned_genes = icite_slice.groupby('referenced')['gene_ncbi'].apply(set).to_dict()\n",
    "\n",
    "    np.random.seed(49)\n",
    "    n_samp = 100\n",
    "    de_sets = []\n",
    "    de_mentioned_sets = []\n",
    "    de_mentioned_sets_null = []\n",
    "    de_citations_mentioned_sets = []\n",
    "    citations_mentioned_sets = []\n",
    "    result_df_array = []\n",
    "    citing_articles_array = []\n",
    "    for comparison_key in np.unique(gwas['pubmed_id'].values):\n",
    "        \n",
    "        ### Collect all sets of unique genes\n",
    "        de_list = de_dict.get(comparison_key) & prot_genes\n",
    "\n",
    "        if de_dict_mentioned_genes.get(comparison_key):\n",
    "            de_list_mentioned_genes = de_dict_mentioned_genes.get(comparison_key) & de_list\n",
    "        else:\n",
    "            de_list_mentioned_genes = set()\n",
    "            \n",
    "        if de_dict_citations_mentioned_genes.get(comparison_key):\n",
    "            de_list_citations_mentioned_genes = de_dict_citations_mentioned_genes.get(comparison_key) & de_list\n",
    "        else:\n",
    "            de_list_citations_mentioned_genes = set()\n",
    "\n",
    "        citing_articles = []\n",
    "        citing_articles = icite_slice[(icite_slice['referenced'] == comparison_key) &\n",
    "                                          icite_slice['gene_ncbi'].isin(de_list)]['citing'].values\n",
    "        for citing_article in citing_articles:\n",
    "            citing_articles_array.append(citing_article)\n",
    "            \n",
    "        for n_n in range(n_samp):\n",
    "            de_mentioned_sets_null.append(set(np.random.choice(list(de_list), \n",
    "                                                               replace=False, size=len(de_list_mentioned_genes))))\n",
    "\n",
    "        de_sets.append(de_list)\n",
    "        de_mentioned_sets.append(de_list_mentioned_genes)\n",
    "        de_citations_mentioned_sets.append(de_list_citations_mentioned_genes)\n",
    "        \n",
    "        ### Impute transition probabilities\n",
    "        result_df = pd.DataFrame()\n",
    "        result_df['gene_ncbi'] = list(de_list)\n",
    "        result_df['comparison'] = comparison_key\n",
    "        result_df['mentioned'] = result_df['gene_ncbi'].isin(de_list_mentioned_genes)\n",
    "        result_df['mentioned_citations'] = result_df['gene_ncbi'].isin(de_list_citations_mentioned_genes)\n",
    "        result_df_array.append(result_df)\n",
    "        \n",
    "    ### Collect unique genes\n",
    "    de_list = set().union(*de_sets)\n",
    "    de_list_mentioned = set().union(*de_mentioned_sets)\n",
    "    de_list_mentioned_genes_null = set().union(*de_mentioned_sets_null)\n",
    "    de_list_citations_mentioned = set().union(*de_citations_mentioned_sets)\n",
    "    \n",
    "    ### Collect data for each set\n",
    "    result_df = pd.concat(result_df_array)\n",
    "    \n",
    "    helper = result_df.groupby('comparison').sum()#['mentioned']\n",
    "    prohib_ids = helper[helper['mentioned'] == 0].index.values\n",
    "    result_df = result_df[~result_df['comparison'].isin(prohib_ids)]\n",
    "    result_df['hit'] = True\n",
    "    result_df = result_df.rename(columns={'comparison':'pubmed_id'})\n",
    "    print(str(len(set(result_df['pubmed_id'].values))) + ' valid Aff-MS articles')\n",
    "    print(str(len(np.unique(citing_articles_array))) + ' valid citing articles')\n",
    "    \n",
    "    result_df.to_csv('../data/aff_ms_all_hits.csv', index=False)\n",
    "    return result_df"
   ]
  },
  {
   "cell_type": "code",
   "execution_count": 17,
   "id": "6c64acfe",
   "metadata": {
    "scrolled": true
   },
   "outputs": [
    {
     "name": "stdout",
     "output_type": "stream",
     "text": [
      "461 Aff-MS articles\n",
      "3239 citing articles\n",
      "296 valid Aff-MS articles\n",
      "1320 valid citing articles\n"
     ]
    }
   ],
   "source": [
    "result_df = get_genes(biogrid_df)"
   ]
  },
  {
   "cell_type": "code",
   "execution_count": 18,
   "id": "957d3cd4",
   "metadata": {},
   "outputs": [
    {
     "name": "stdout",
     "output_type": "stream",
     "text": [
      "7919\n",
      "311\n",
      "407\n"
     ]
    }
   ],
   "source": [
    "print(result_df[result_df['hit']]['gene_ncbi'].nunique())\n",
    "\n",
    "print(result_df[result_df['mentioned']]['gene_ncbi'].nunique())\n",
    "\n",
    "print(result_df[result_df['mentioned_citations']]['gene_ncbi'].nunique())"
   ]
  },
  {
   "cell_type": "code",
   "execution_count": null,
   "id": "60c9fd55",
   "metadata": {},
   "outputs": [],
   "source": []
  }
 ],
 "metadata": {
  "kernelspec": {
   "display_name": "Python 3 (ipykernel)",
   "language": "python",
   "name": "python3"
  },
  "language_info": {
   "codemirror_mode": {
    "name": "ipython",
    "version": 3
   },
   "file_extension": ".py",
   "mimetype": "text/x-python",
   "name": "python",
   "nbconvert_exporter": "python",
   "pygments_lexer": "ipython3",
   "version": "3.9.12"
  }
 },
 "nbformat": 4,
 "nbformat_minor": 5
}
