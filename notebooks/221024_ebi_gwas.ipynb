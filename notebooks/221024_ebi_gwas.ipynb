{
 "cells": [
  {
   "cell_type": "code",
   "execution_count": 1,
   "id": "ec7991ec",
   "metadata": {},
   "outputs": [],
   "source": [
    "import numpy as np\n",
    "import pandas as pd\n",
    "import scipy\n",
    "\n",
    "from IPython.display import clear_output\n",
    "\n",
    "import sys\n",
    "sys.path.append('../../../../Documents/GitHub/gustav/src/')\n",
    "\n",
    "from gustav import ebi, ncbi, nlm, biogrid, nih\n",
    "from gustav import publications\n",
    "from gustav import github\n",
    "from gustav import access_framework\n",
    "from gustav import mapper\n",
    "\n",
    "import matplotlib as mpl\n",
    "import matplotlib.pyplot as plt\n",
    "import seaborn as sns\n",
    "\n",
    "sys.path.append('../general/src/')\n",
    "from manuscript import export\n",
    "from manuscript import inout\n",
    "from manuscript import datasets\n",
    "from manuscript import tools\n",
    "\n",
    "from sklearn.metrics import auc\n",
    "from scipy.stats import fisher_exact\n",
    "pd.options.display.precision = 3\n",
    "pd.options.display.expand_frame_repr = False\n",
    "pd.options.display.max_columns = 20"
   ]
  },
  {
   "cell_type": "code",
   "execution_count": 2,
   "id": "ba0f2a60",
   "metadata": {},
   "outputs": [
    {
     "name": "stderr",
     "output_type": "stream",
     "text": [
      "C:\\Users\\richa\\Documents\\GitHub\\promising_genes\\notebooks\\../../../../Documents/GitHub/gustav/src\\gustav\\utils.py:52: FutureWarning: In a future version of pandas all arguments of DataFrame.drop except for the argument 'labels' will be keyword-only.\n",
      "  df_with_delimiter.drop(column, 1).reset_index(),\n",
      "C:\\Users\\richa\\Documents\\GitHub\\promising_genes\\notebooks\\../../../../Documents/GitHub/gustav/src\\gustav\\utils.py:63: FutureWarning: In a future version of pandas all arguments of DataFrame.drop except for the argument 'labels' will be keyword-only.\n",
      "  joined = joined.drop('helper_index', 1)\n",
      "C:\\Users\\richa\\Documents\\GitHub\\promising_genes\\notebooks\\../../../../Documents/GitHub/gustav/src\\gustav\\utils.py:52: FutureWarning: In a future version of pandas all arguments of DataFrame.drop except for the argument 'labels' will be keyword-only.\n",
      "  df_with_delimiter.drop(column, 1).reset_index(),\n",
      "C:\\Users\\richa\\Documents\\GitHub\\promising_genes\\notebooks\\../../../../Documents/GitHub/gustav/src\\gustav\\utils.py:63: FutureWarning: In a future version of pandas all arguments of DataFrame.drop except for the argument 'labels' will be keyword-only.\n",
      "  joined = joined.drop('helper_index', 1)\n"
     ]
    }
   ],
   "source": [
    "taxon = 9606\n",
    "gene_flavor = 'ou'\n",
    "ref_genes = datasets.reference_genes(taxon, gene_flavor)\n",
    "gene_info = ncbi.gene_info(taxon, mode='unambiguous_ensembl')"
   ]
  },
  {
   "cell_type": "code",
   "execution_count": 3,
   "id": "60eb53fd",
   "metadata": {},
   "outputs": [],
   "source": [
    "ref_literature = datasets.reference_publications(taxon)"
   ]
  },
  {
   "cell_type": "code",
   "execution_count": 4,
   "id": "61e9a6e1",
   "metadata": {},
   "outputs": [],
   "source": [
    "agg = []\n",
    "literature_flavor = 'pubtator_title_or_abstract_in_any_gene2pubmed_paper'\n",
    "\n",
    "gene2lit = datasets.reference_gene2lit(\n",
    "    taxon, \n",
    "    literature_flavor)\n",
    "gene2lit = gene2lit[\n",
    "    gene2lit['gene_ncbi'].isin(ref_genes) & \n",
    "    gene2lit['pubmed_id'].isin(ref_literature)\n",
    "].copy()"
   ]
  },
  {
   "cell_type": "code",
   "execution_count": 5,
   "id": "dd67ae5e",
   "metadata": {},
   "outputs": [
    {
     "name": "stdout",
     "output_type": "stream",
     "text": [
      "CPU times: total: 141 ms\n",
      "Wall time: 134 ms\n"
     ]
    }
   ],
   "source": [
    "%%time\n",
    "gene2pubmed = gene2lit #ncbi.gene2pubmed(taxon_ncbi=9606)\n",
    "large_pubs = gene2pubmed['pubmed_id'].value_counts()[gene2pubmed['pubmed_id'].value_counts() >= 100].index.values\n",
    "#gene2pubmed = gene2pubmed[~gene2pubmed['pubmed_id'].isin(large_pubs)]\n",
    "\n",
    "gene2pubmed_dict = gene2pubmed[~gene2pubmed['pubmed_id'].isin(large_pubs)].value_counts('gene_ncbi').to_dict()"
   ]
  },
  {
   "cell_type": "markdown",
   "id": "7d7d8029",
   "metadata": {},
   "source": [
    "# EBI-GWAS"
   ]
  },
  {
   "cell_type": "code",
   "execution_count": 27,
   "id": "b33bc275",
   "metadata": {},
   "outputs": [],
   "source": [
    "gwas = ebi.gwas(dataset='associations')"
   ]
  },
  {
   "cell_type": "code",
   "execution_count": 28,
   "id": "021b1937",
   "metadata": {},
   "outputs": [
    {
     "data": {
      "text/plain": [
       "35213538    18069\n",
       "34594039    17797\n",
       "32888494    16900\n",
       "30595370    14061\n",
       "34021172    13546\n",
       "            ...  \n",
       "21082022        1\n",
       "26198393        1\n",
       "27758888        1\n",
       "30971808        1\n",
       "21703177        1\n",
       "Name: pubmed_id, Length: 5162, dtype: int64"
      ]
     },
     "execution_count": 28,
     "metadata": {},
     "output_type": "execute_result"
    }
   ],
   "source": [
    "gwas['pubmed_id'].value_counts()"
   ]
  },
  {
   "cell_type": "code",
   "execution_count": 29,
   "id": "2ee10dea",
   "metadata": {},
   "outputs": [],
   "source": [
    "df_array = []\n",
    "\n",
    "# snp ids\n",
    "gwas_slice = gwas[gwas['snp_gene_ids'] != None].copy()\n",
    "\n",
    "gwas_slice['gene_id'] = gwas_slice['snp_gene_ids'].astype(str).str.split(', ')\n",
    "gwas_slice = gwas_slice.explode('gene_id')\n",
    "gwas_slice['type'] = 'snp'\n",
    "df_array.append(gwas_slice)\n",
    "\n",
    "# downstream ids\n",
    "gwas_slice = gwas[gwas['downstream_gene_id'] != None]\n",
    "gwas_slice['gene_id'] = gwas_slice['downstream_gene_id']\n",
    "gwas_slice['type'] = 'downstream'\n",
    "df_array.append(gwas_slice)\n",
    "\n",
    "# upstream ids\n",
    "gwas_slice = gwas[gwas['upstream_gene_id'] != None]\n",
    "gwas_slice['gene_id'] = gwas_slice['upstream_gene_id']\n",
    "gwas_slice['type'] = 'upstream'\n",
    "df_array.append(gwas_slice)\n",
    "\n",
    "gwas = pd.concat(df_array).dropna(subset=['gene_id'])\n",
    "gwas = gwas[(gwas['gene_id'].astype(str) != \"None\")]\n",
    "\n",
    "gwas = pd.merge(gwas, gene_info[['gene_ncbi', 'gene_ensembl']], left_on='gene_id', right_on='gene_ensembl')"
   ]
  },
  {
   "cell_type": "code",
   "execution_count": 30,
   "id": "41ed62f3",
   "metadata": {},
   "outputs": [
    {
     "data": {
      "text/plain": [
       "35213538    22721\n",
       "34594039    21592\n",
       "32888494    19722\n",
       "34503513    17612\n",
       "30595370    15661\n",
       "            ...  \n",
       "29097723        1\n",
       "21826085        1\n",
       "18987618        1\n",
       "29593015        1\n",
       "27455349        1\n",
       "Name: pubmed_id, Length: 4999, dtype: int64"
      ]
     },
     "execution_count": 30,
     "metadata": {},
     "output_type": "execute_result"
    }
   ],
   "source": [
    "gwas['pubmed_id'].value_counts()"
   ]
  },
  {
   "cell_type": "code",
   "execution_count": 31,
   "id": "dba45a08",
   "metadata": {},
   "outputs": [
    {
     "data": {
      "text/plain": [
       "35213538    22721\n",
       "34594039    21592\n",
       "32888494    19722\n",
       "34503513    17612\n",
       "30595370    14928\n",
       "            ...  \n",
       "32895509        1\n",
       "22452962        1\n",
       "29453196        1\n",
       "29059430        1\n",
       "25758998        1\n",
       "Name: pubmed_id, Length: 3887, dtype: int64"
      ]
     },
     "execution_count": 31,
     "metadata": {},
     "output_type": "execute_result"
    }
   ],
   "source": [
    "gwas[(gwas['pvalue_mlog'] >= -np.log10(5e-8))]['pubmed_id'].value_counts()"
   ]
  },
  {
   "cell_type": "code",
   "execution_count": 32,
   "id": "d39021e6",
   "metadata": {},
   "outputs": [
    {
     "data": {
      "text/plain": [
       "34503513    14772\n",
       "35213538    12476\n",
       "34594039    12382\n",
       "32888494    12120\n",
       "30595370     8862\n",
       "            ...  \n",
       "23297363        1\n",
       "28468790        1\n",
       "27601451        1\n",
       "25338677        1\n",
       "33542107        1\n",
       "Name: pubmed_id, Length: 3500, dtype: int64"
      ]
     },
     "execution_count": 32,
     "metadata": {},
     "output_type": "execute_result"
    }
   ],
   "source": [
    "gwas[(gwas['pvalue_mlog'] >= -np.log10(5e-8)) & (gwas['type'] == 'snp')]['pubmed_id'].value_counts()"
   ]
  },
  {
   "cell_type": "code",
   "execution_count": 16,
   "id": "97481abd",
   "metadata": {},
   "outputs": [
    {
     "data": {
      "text/plain": [
       "31761296    337\n",
       "29124443    112\n",
       "32581359     67\n",
       "26414677     45\n",
       "28754779     41\n",
       "           ... \n",
       "19561606      1\n",
       "21871595      1\n",
       "18327257      1\n",
       "18327256      1\n",
       "30992453      1\n",
       "Name: pubmed_id, Length: 651, dtype: int64"
      ]
     },
     "execution_count": 16,
     "metadata": {},
     "output_type": "execute_result"
    }
   ],
   "source": [
    "gwas[(gwas['pvalue_mlog'] >= -np.log10(1e-5)) & \n",
    "     (gwas['type'] == 'snp') & \n",
    "     (gwas['pubmed_id'].isin(gene2pubmed['pubmed_id']))]['pubmed_id'].value_counts()"
   ]
  },
  {
   "cell_type": "code",
   "execution_count": 8,
   "id": "1f2241fb",
   "metadata": {},
   "outputs": [],
   "source": [
    "gwas_slice = gwas[(gwas['type'] == 'snp') & \n",
    "                (gwas['pubmed_id'].isin(gene2pubmed['pubmed_id'])) &\n",
    "                (gwas['pvalue_mlog'] >= -np.log10(5e-8))].copy()"
   ]
  },
  {
   "cell_type": "code",
   "execution_count": 9,
   "id": "342a72be",
   "metadata": {},
   "outputs": [],
   "source": [
    "gwas_slice['pubmed_id'].drop_duplicates().to_csv('../data/gwas_pubmed_ids.csv', index=False)"
   ]
  },
  {
   "cell_type": "code",
   "execution_count": 187,
   "id": "9319f857",
   "metadata": {},
   "outputs": [
    {
     "name": "stdout",
     "output_type": "stream",
     "text": [
      "CPU times: total: 20.8 s\n",
      "Wall time: 23.5 s\n"
     ]
    }
   ],
   "source": [
    "%%time\n",
    "icite = nih.icite(dataset='citations')"
   ]
  },
  {
   "cell_type": "code",
   "execution_count": 80,
   "id": "226b3504",
   "metadata": {},
   "outputs": [
    {
     "data": {
      "text/plain": [
       "2646         20\n",
       "100048912    19\n",
       "28           15\n",
       "79068        15\n",
       "10452        14\n",
       "             ..\n",
       "56142         1\n",
       "56137         1\n",
       "56136         1\n",
       "56147         1\n",
       "5630          1\n",
       "Name: gene_ncbi, Length: 2991, dtype: int64"
      ]
     },
     "execution_count": 80,
     "metadata": {},
     "output_type": "execute_result"
    }
   ],
   "source": [
    "(\n",
    "gwas[(gwas['type'] == 'snp') & \n",
    "     (gwas['pubmed_id'].isin(gene2pubmed['pubmed_id']))]\n",
    ".drop_duplicates(['gene_ncbi', 'pubmed_id'])['gene_ncbi'].value_counts()\n",
    ")"
   ]
  },
  {
   "cell_type": "code",
   "execution_count": 10,
   "id": "f8efc824",
   "metadata": {},
   "outputs": [
    {
     "data": {
      "text/html": [
       "<div>\n",
       "<style scoped>\n",
       "    .dataframe tbody tr th:only-of-type {\n",
       "        vertical-align: middle;\n",
       "    }\n",
       "\n",
       "    .dataframe tbody tr th {\n",
       "        vertical-align: top;\n",
       "    }\n",
       "\n",
       "    .dataframe thead th {\n",
       "        text-align: right;\n",
       "    }\n",
       "</style>\n",
       "<table border=\"1\" class=\"dataframe\">\n",
       "  <thead>\n",
       "    <tr style=\"text-align: right;\">\n",
       "      <th></th>\n",
       "      <th>date added to catalog</th>\n",
       "      <th>pubmed_id</th>\n",
       "      <th>first author</th>\n",
       "      <th>date</th>\n",
       "      <th>journal</th>\n",
       "      <th>link</th>\n",
       "      <th>study</th>\n",
       "      <th>disease/trait</th>\n",
       "      <th>initial sample size</th>\n",
       "      <th>replication sample size</th>\n",
       "      <th>...</th>\n",
       "      <th>pvalue_mlog</th>\n",
       "      <th>p-value (text)</th>\n",
       "      <th>or or beta</th>\n",
       "      <th>95% ci (text)</th>\n",
       "      <th>platform [snps passing qc]</th>\n",
       "      <th>cnv</th>\n",
       "      <th>gene_id</th>\n",
       "      <th>type</th>\n",
       "      <th>gene_ncbi</th>\n",
       "      <th>gene_ensembl</th>\n",
       "    </tr>\n",
       "  </thead>\n",
       "  <tbody>\n",
       "    <tr>\n",
       "      <th>0</th>\n",
       "      <td>2009-12-14</td>\n",
       "      <td>19915573</td>\n",
       "      <td>Asano K</td>\n",
       "      <td>2009-11-15</td>\n",
       "      <td>Nat Genet</td>\n",
       "      <td>www.ncbi.nlm.nih.gov/pubmed/19915573</td>\n",
       "      <td>A genome-wide association study identifies thr...</td>\n",
       "      <td>Ulcerative colitis</td>\n",
       "      <td>376 Japanese ancestry cases, 934 Japanese ance...</td>\n",
       "      <td>376 Japanese ancestry cases, 1,097 Japanese an...</td>\n",
       "      <td>...</td>\n",
       "      <td>11.699</td>\n",
       "      <td>None</td>\n",
       "      <td>1.590</td>\n",
       "      <td>[1.39-1.82]</td>\n",
       "      <td>Illumina [513923]</td>\n",
       "      <td>N</td>\n",
       "      <td>ENSG00000143226</td>\n",
       "      <td>snp</td>\n",
       "      <td>2212</td>\n",
       "      <td>ENSG00000143226</td>\n",
       "    </tr>\n",
       "    <tr>\n",
       "      <th>1</th>\n",
       "      <td>2013-09-26</td>\n",
       "      <td>23652523</td>\n",
       "      <td>Mayerle J</td>\n",
       "      <td>2013-05-08</td>\n",
       "      <td>JAMA</td>\n",
       "      <td>www.ncbi.nlm.nih.gov/pubmed/23652523</td>\n",
       "      <td>Identification of genetic loci associated with...</td>\n",
       "      <td>Helicobacter pylori serologic status</td>\n",
       "      <td>2,623 European ancestry high titer cases, 7,86...</td>\n",
       "      <td>None</td>\n",
       "      <td>...</td>\n",
       "      <td>7.699</td>\n",
       "      <td>None</td>\n",
       "      <td>1.370</td>\n",
       "      <td>[1.23-1.54]</td>\n",
       "      <td>Affymetrix, Illumina [~ 2500000] (imputed)</td>\n",
       "      <td>N</td>\n",
       "      <td>ENSG00000143226</td>\n",
       "      <td>snp</td>\n",
       "      <td>2212</td>\n",
       "      <td>ENSG00000143226</td>\n",
       "    </tr>\n",
       "    <tr>\n",
       "      <th>2</th>\n",
       "      <td>2011-03-29</td>\n",
       "      <td>21297633</td>\n",
       "      <td>Anderson CA</td>\n",
       "      <td>2011-02-06</td>\n",
       "      <td>Nat Genet</td>\n",
       "      <td>www.ncbi.nlm.nih.gov/pubmed/21297633</td>\n",
       "      <td>Meta-analysis identifies 29 additional ulcerat...</td>\n",
       "      <td>Ulcerative colitis</td>\n",
       "      <td>6,687 European ancestry cases, 19,718 European...</td>\n",
       "      <td>9,628 European ancestry cases, 12,917 European...</td>\n",
       "      <td>...</td>\n",
       "      <td>19.699</td>\n",
       "      <td>None</td>\n",
       "      <td>1.210</td>\n",
       "      <td>[1.16-1.26]</td>\n",
       "      <td>Affymetrix, Illumina [~ 1100000] (imputed)</td>\n",
       "      <td>N</td>\n",
       "      <td>ENSG00000143226</td>\n",
       "      <td>snp</td>\n",
       "      <td>2212</td>\n",
       "      <td>ENSG00000143226</td>\n",
       "    </tr>\n",
       "    <tr>\n",
       "      <th>3</th>\n",
       "      <td>2020-06-17</td>\n",
       "      <td>32327693</td>\n",
       "      <td>Oskarsson GR</td>\n",
       "      <td>2020-04-23</td>\n",
       "      <td>Commun Biol</td>\n",
       "      <td>www.ncbi.nlm.nih.gov/pubmed/32327693</td>\n",
       "      <td>Predicted loss and gain of function mutations ...</td>\n",
       "      <td>Hemoglobin levels</td>\n",
       "      <td>684,122 European ancestry individuals</td>\n",
       "      <td>None</td>\n",
       "      <td>...</td>\n",
       "      <td>20.155</td>\n",
       "      <td>None</td>\n",
       "      <td>0.031</td>\n",
       "      <td>[NR] unit increase</td>\n",
       "      <td>Affymetrix, Illumina [43000000] (imputed)</td>\n",
       "      <td>N</td>\n",
       "      <td>ENSG00000143226</td>\n",
       "      <td>snp</td>\n",
       "      <td>2212</td>\n",
       "      <td>ENSG00000143226</td>\n",
       "    </tr>\n",
       "    <tr>\n",
       "      <th>4</th>\n",
       "      <td>2018-04-25</td>\n",
       "      <td>23749187</td>\n",
       "      <td>Cortes A</td>\n",
       "      <td>2013-07-01</td>\n",
       "      <td>Nat Genet</td>\n",
       "      <td>www.ncbi.nlm.nih.gov/pubmed/23749187</td>\n",
       "      <td>Identification of multiple risk variants for a...</td>\n",
       "      <td>Ankylosing spondylitis</td>\n",
       "      <td>9,069 European ancestry cases, 1,550 East Asia...</td>\n",
       "      <td>None</td>\n",
       "      <td>...</td>\n",
       "      <td>9.000</td>\n",
       "      <td>(EA)</td>\n",
       "      <td>1.120</td>\n",
       "      <td>None</td>\n",
       "      <td>Illumina [128935]</td>\n",
       "      <td>N</td>\n",
       "      <td>ENSG00000143226</td>\n",
       "      <td>snp</td>\n",
       "      <td>2212</td>\n",
       "      <td>ENSG00000143226</td>\n",
       "    </tr>\n",
       "    <tr>\n",
       "      <th>...</th>\n",
       "      <td>...</td>\n",
       "      <td>...</td>\n",
       "      <td>...</td>\n",
       "      <td>...</td>\n",
       "      <td>...</td>\n",
       "      <td>...</td>\n",
       "      <td>...</td>\n",
       "      <td>...</td>\n",
       "      <td>...</td>\n",
       "      <td>...</td>\n",
       "      <td>...</td>\n",
       "      <td>...</td>\n",
       "      <td>...</td>\n",
       "      <td>...</td>\n",
       "      <td>...</td>\n",
       "      <td>...</td>\n",
       "      <td>...</td>\n",
       "      <td>...</td>\n",
       "      <td>...</td>\n",
       "      <td>...</td>\n",
       "      <td>...</td>\n",
       "    </tr>\n",
       "    <tr>\n",
       "      <th>435507</th>\n",
       "      <td>2021-12-14</td>\n",
       "      <td>34594039</td>\n",
       "      <td>Sakaue S</td>\n",
       "      <td>2021-09-30</td>\n",
       "      <td>Nat Genet</td>\n",
       "      <td>www.ncbi.nlm.nih.gov/pubmed/34594039</td>\n",
       "      <td>A cross-population atlas of genetic associatio...</td>\n",
       "      <td>Serum total protein level</td>\n",
       "      <td>314,921 European ancestry individuals, 133,321...</td>\n",
       "      <td>None</td>\n",
       "      <td>...</td>\n",
       "      <td>8.046</td>\n",
       "      <td>None</td>\n",
       "      <td>0.015</td>\n",
       "      <td>[0.0097-0.0199] unit increase</td>\n",
       "      <td>Affymetrix, Illumina [20536782] (imputed)</td>\n",
       "      <td>N</td>\n",
       "      <td>ENSG00000153044</td>\n",
       "      <td>upstream</td>\n",
       "      <td>64946</td>\n",
       "      <td>ENSG00000153044</td>\n",
       "    </tr>\n",
       "    <tr>\n",
       "      <th>435508</th>\n",
       "      <td>2022-07-25</td>\n",
       "      <td>34077760</td>\n",
       "      <td>Alipanahi B</td>\n",
       "      <td>2021-06-01</td>\n",
       "      <td>Am J Hum Genet</td>\n",
       "      <td>www.ncbi.nlm.nih.gov/pubmed/34077760</td>\n",
       "      <td>Large-scale machine-learning-based phenotyping...</td>\n",
       "      <td>Vertical cup-disc ratio</td>\n",
       "      <td>65,680 European ancestry individuals</td>\n",
       "      <td>None</td>\n",
       "      <td>...</td>\n",
       "      <td>15.046</td>\n",
       "      <td>None</td>\n",
       "      <td>0.006</td>\n",
       "      <td>[0.0043-0.0071] unit increase</td>\n",
       "      <td>Affymetrix [13110443] (imputed)</td>\n",
       "      <td>N</td>\n",
       "      <td>ENSG00000251893</td>\n",
       "      <td>upstream</td>\n",
       "      <td>124900321</td>\n",
       "      <td>ENSG00000251893</td>\n",
       "    </tr>\n",
       "    <tr>\n",
       "      <th>435509</th>\n",
       "      <td>2022-07-25</td>\n",
       "      <td>34077760</td>\n",
       "      <td>Alipanahi B</td>\n",
       "      <td>2021-06-01</td>\n",
       "      <td>Am J Hum Genet</td>\n",
       "      <td>www.ncbi.nlm.nih.gov/pubmed/34077760</td>\n",
       "      <td>Large-scale machine-learning-based phenotyping...</td>\n",
       "      <td>Vertical cup-disc ratio</td>\n",
       "      <td>89,579 European ancestry individuals</td>\n",
       "      <td>None</td>\n",
       "      <td>...</td>\n",
       "      <td>13.398</td>\n",
       "      <td>None</td>\n",
       "      <td>0.043</td>\n",
       "      <td>[0.032-0.053] unit increase</td>\n",
       "      <td>Affymetrix [8600000] (imputed)</td>\n",
       "      <td>N</td>\n",
       "      <td>ENSG00000251893</td>\n",
       "      <td>upstream</td>\n",
       "      <td>124900321</td>\n",
       "      <td>ENSG00000251893</td>\n",
       "    </tr>\n",
       "    <tr>\n",
       "      <th>435510</th>\n",
       "      <td>2022-07-25</td>\n",
       "      <td>34077760</td>\n",
       "      <td>Alipanahi B</td>\n",
       "      <td>2021-06-01</td>\n",
       "      <td>Am J Hum Genet</td>\n",
       "      <td>www.ncbi.nlm.nih.gov/pubmed/34077760</td>\n",
       "      <td>Large-scale machine-learning-based phenotyping...</td>\n",
       "      <td>Vertical cup-disc ratio</td>\n",
       "      <td>89,579 European ancestry individuals</td>\n",
       "      <td>None</td>\n",
       "      <td>...</td>\n",
       "      <td>9.000</td>\n",
       "      <td>None</td>\n",
       "      <td>0.038</td>\n",
       "      <td>[0.025-0.052] unit decrease</td>\n",
       "      <td>Affymetrix [8600000] (imputed)</td>\n",
       "      <td>N</td>\n",
       "      <td>ENSG00000268812</td>\n",
       "      <td>upstream</td>\n",
       "      <td>91370</td>\n",
       "      <td>ENSG00000268812</td>\n",
       "    </tr>\n",
       "    <tr>\n",
       "      <th>435511</th>\n",
       "      <td>2022-07-25</td>\n",
       "      <td>34077760</td>\n",
       "      <td>Alipanahi B</td>\n",
       "      <td>2021-06-01</td>\n",
       "      <td>Am J Hum Genet</td>\n",
       "      <td>www.ncbi.nlm.nih.gov/pubmed/34077760</td>\n",
       "      <td>Large-scale machine-learning-based phenotyping...</td>\n",
       "      <td>Vertical cup-disc ratio</td>\n",
       "      <td>89,579 European ancestry individuals</td>\n",
       "      <td>None</td>\n",
       "      <td>...</td>\n",
       "      <td>8.000</td>\n",
       "      <td>None</td>\n",
       "      <td>0.028</td>\n",
       "      <td>[0.018-0.039] unit increase</td>\n",
       "      <td>Affymetrix [8600000] (imputed)</td>\n",
       "      <td>N</td>\n",
       "      <td>ENSG00000268812</td>\n",
       "      <td>upstream</td>\n",
       "      <td>91370</td>\n",
       "      <td>ENSG00000268812</td>\n",
       "    </tr>\n",
       "  </tbody>\n",
       "</table>\n",
       "<p>435512 rows × 38 columns</p>\n",
       "</div>"
      ],
      "text/plain": [
       "       date added to catalog  pubmed_id  first author        date         journal                                  link                                              study                         disease/trait                                initial sample size                            replication sample size  ... pvalue_mlog p-value (text) or or beta                  95% ci (text)                  platform [snps passing qc] cnv          gene_id      type  gene_ncbi     gene_ensembl\n",
       "0                 2009-12-14   19915573       Asano K  2009-11-15       Nat Genet  www.ncbi.nlm.nih.gov/pubmed/19915573  A genome-wide association study identifies thr...                    Ulcerative colitis  376 Japanese ancestry cases, 934 Japanese ance...  376 Japanese ancestry cases, 1,097 Japanese an...  ...      11.699           None      1.590                    [1.39-1.82]                           Illumina [513923]   N  ENSG00000143226       snp       2212  ENSG00000143226\n",
       "1                 2013-09-26   23652523     Mayerle J  2013-05-08            JAMA  www.ncbi.nlm.nih.gov/pubmed/23652523  Identification of genetic loci associated with...  Helicobacter pylori serologic status  2,623 European ancestry high titer cases, 7,86...                                               None  ...       7.699           None      1.370                    [1.23-1.54]  Affymetrix, Illumina [~ 2500000] (imputed)   N  ENSG00000143226       snp       2212  ENSG00000143226\n",
       "2                 2011-03-29   21297633   Anderson CA  2011-02-06       Nat Genet  www.ncbi.nlm.nih.gov/pubmed/21297633  Meta-analysis identifies 29 additional ulcerat...                    Ulcerative colitis  6,687 European ancestry cases, 19,718 European...  9,628 European ancestry cases, 12,917 European...  ...      19.699           None      1.210                    [1.16-1.26]  Affymetrix, Illumina [~ 1100000] (imputed)   N  ENSG00000143226       snp       2212  ENSG00000143226\n",
       "3                 2020-06-17   32327693  Oskarsson GR  2020-04-23     Commun Biol  www.ncbi.nlm.nih.gov/pubmed/32327693  Predicted loss and gain of function mutations ...                     Hemoglobin levels              684,122 European ancestry individuals                                               None  ...      20.155           None      0.031             [NR] unit increase   Affymetrix, Illumina [43000000] (imputed)   N  ENSG00000143226       snp       2212  ENSG00000143226\n",
       "4                 2018-04-25   23749187      Cortes A  2013-07-01       Nat Genet  www.ncbi.nlm.nih.gov/pubmed/23749187  Identification of multiple risk variants for a...                Ankylosing spondylitis  9,069 European ancestry cases, 1,550 East Asia...                                               None  ...       9.000           (EA)      1.120                           None                           Illumina [128935]   N  ENSG00000143226       snp       2212  ENSG00000143226\n",
       "...                      ...        ...           ...         ...             ...                                   ...                                                ...                                   ...                                                ...                                                ...  ...         ...            ...        ...                            ...                                         ...  ..              ...       ...        ...              ...\n",
       "435507            2021-12-14   34594039      Sakaue S  2021-09-30       Nat Genet  www.ncbi.nlm.nih.gov/pubmed/34594039  A cross-population atlas of genetic associatio...             Serum total protein level  314,921 European ancestry individuals, 133,321...                                               None  ...       8.046           None      0.015  [0.0097-0.0199] unit increase   Affymetrix, Illumina [20536782] (imputed)   N  ENSG00000153044  upstream      64946  ENSG00000153044\n",
       "435508            2022-07-25   34077760   Alipanahi B  2021-06-01  Am J Hum Genet  www.ncbi.nlm.nih.gov/pubmed/34077760  Large-scale machine-learning-based phenotyping...               Vertical cup-disc ratio               65,680 European ancestry individuals                                               None  ...      15.046           None      0.006  [0.0043-0.0071] unit increase             Affymetrix [13110443] (imputed)   N  ENSG00000251893  upstream  124900321  ENSG00000251893\n",
       "435509            2022-07-25   34077760   Alipanahi B  2021-06-01  Am J Hum Genet  www.ncbi.nlm.nih.gov/pubmed/34077760  Large-scale machine-learning-based phenotyping...               Vertical cup-disc ratio               89,579 European ancestry individuals                                               None  ...      13.398           None      0.043    [0.032-0.053] unit increase              Affymetrix [8600000] (imputed)   N  ENSG00000251893  upstream  124900321  ENSG00000251893\n",
       "435510            2022-07-25   34077760   Alipanahi B  2021-06-01  Am J Hum Genet  www.ncbi.nlm.nih.gov/pubmed/34077760  Large-scale machine-learning-based phenotyping...               Vertical cup-disc ratio               89,579 European ancestry individuals                                               None  ...       9.000           None      0.038    [0.025-0.052] unit decrease              Affymetrix [8600000] (imputed)   N  ENSG00000268812  upstream      91370  ENSG00000268812\n",
       "435511            2022-07-25   34077760   Alipanahi B  2021-06-01  Am J Hum Genet  www.ncbi.nlm.nih.gov/pubmed/34077760  Large-scale machine-learning-based phenotyping...               Vertical cup-disc ratio               89,579 European ancestry individuals                                               None  ...       8.000           None      0.028    [0.018-0.039] unit increase              Affymetrix [8600000] (imputed)   N  ENSG00000268812  upstream      91370  ENSG00000268812\n",
       "\n",
       "[435512 rows x 38 columns]"
      ]
     },
     "execution_count": 10,
     "metadata": {},
     "output_type": "execute_result"
    }
   ],
   "source": [
    "gwas"
   ]
  },
  {
   "cell_type": "code",
   "execution_count": 197,
   "id": "3fc79341",
   "metadata": {},
   "outputs": [],
   "source": [
    "def get_genes(gwas, pval_thresh = 5e-8):\n",
    "    # apply filters and p-value threshold here\n",
    "    gwas = gwas[(gwas['type'] == 'snp') & \n",
    "                (gwas['pubmed_id'].isin(gene2pubmed['pubmed_id'])) &\n",
    "                (gwas['pvalue_mlog'] >= -np.log10(pval_thresh))].copy()\n",
    "    \n",
    "    print(str(len(set(gwas['pubmed_id'].values))) + ' GWAS articles')\n",
    "\n",
    "    de_dict = gwas.groupby('pubmed_id')['gene_ncbi'].apply(set).to_dict()\n",
    "    de_dict_mentioned_genes = (\n",
    "        gene2pubmed[gene2pubmed['pubmed_id']\n",
    "                    .isin(gwas['pubmed_id'])]\n",
    "        .groupby('pubmed_id')['gene_ncbi']\n",
    "        .apply(set).to_dict()\n",
    "    )\n",
    "\n",
    "    np.random.seed(49)\n",
    "    n_samp = 100\n",
    "    de_sets = []\n",
    "    de_mentioned_sets = []\n",
    "    de_mentioned_sets_null = []\n",
    "    de_citations_mentioned_sets = []\n",
    "    citations_mentioned_sets = []\n",
    "    for comparison_key in np.unique(gwas['pubmed_id'].values):\n",
    "        de_list = de_dict.get(comparison_key)\n",
    "\n",
    "        if de_dict_mentioned_genes.get(comparison_key):\n",
    "            de_list_mentioned_genes = de_dict_mentioned_genes.get(comparison_key)\n",
    "        else:\n",
    "            de_list_mentioned_genes = set()\n",
    "\n",
    "        for n_n in range(n_samp):\n",
    "            de_mentioned_sets_null.append(set(np.random.choice(list(de_list), \n",
    "                                                               replace=False, size=len(de_list_mentioned_genes & de_list))))\n",
    "\n",
    "        de_sets.append(de_list)\n",
    "        de_mentioned_sets.append(de_list_mentioned_genes)\n",
    "    de_list_mentioned_genes_null = set().union(*de_mentioned_sets_null)\n",
    "\n",
    "    icite_slice = icite[icite['referenced'].isin(gwas['pubmed_id'])].copy()\n",
    "\n",
    "    icite_slice = pd.merge(icite_slice, gene2pubmed, left_on='citing', right_on='pubmed_id')\n",
    "\n",
    "    icite_slice = pd.merge(gwas[['gene_ncbi', 'pubmed_id']].drop_duplicates(), \n",
    "                     icite_slice, \n",
    "                     left_on='pubmed_id', right_on='referenced')\n",
    "\n",
    "    icite_slice = icite_slice[icite_slice['gene_ncbi_x'] == icite_slice['gene_ncbi_y']]\n",
    "\n",
    "    fig = plt.figure(figsize=(8,5))\n",
    "    ax = plt.gca()\n",
    "    pad = 0.2\n",
    "\n",
    "    prot_genes = set(gene_info[gene_info['type_of_gene'] == 'protein-coding']['gene_ncbi'])\n",
    "\n",
    "    de_list = set(gwas['gene_ncbi']) & prot_genes #.union(*de_sets) & prot_genes\n",
    "    de_list_mentioned_genes = de_list & set(gene2pubmed[gene2pubmed['pubmed_id'].isin(gwas['pubmed_id'])]['gene_ncbi']) & prot_genes\n",
    "    de_list_mentioned_genes_null = set().union(*de_mentioned_sets_null) & prot_genes\n",
    "    de_citations_mentioned_sets = de_list & set(icite_slice['gene_ncbi_y'])\n",
    "    #itations_mentioned_sets = set().union(*citations_mentioned_sets) & prot_genes\n",
    "    medianprops = dict(linestyle='solid', linewidth=2, color='k')\n",
    "    whiskerprops = dict(linestyle='solid', linewidth=2, color='k')\n",
    "    capprops = dict(linestyle='solid', linewidth=2, color='k')\n",
    "\n",
    "    data = [(pd.DataFrame([gene2pubmed_dict.get(x) for x in prot_genes]).fillna(0.0) + 1)[0].values,\n",
    "            (pd.DataFrame([gene2pubmed_dict.get(x) for x in de_list]).fillna(0.0) + 1)[0].values,\n",
    "            (pd.DataFrame([gene2pubmed_dict.get(x) for x in de_list_mentioned_genes_null]).fillna(0.0) + 1)[0].values,\n",
    "           (pd.DataFrame([gene2pubmed_dict.get(x) for x in de_list_mentioned_genes]).fillna(0.0) + 1)[0].values, \n",
    "            (pd.DataFrame([gene2pubmed_dict.get(x) for x in de_citations_mentioned_sets]).fillna(0.0) + 1)[0].values]\n",
    "\n",
    "    ax.boxplot(data, widths=2*pad-(pad/4), positions=np.arange(len(data))+1, whis=[2.5,97.5], patch_artist=True,\n",
    "               boxprops=dict(facecolor=sns.color_palette()[0], linewidth=2), \n",
    "               whiskerprops=whiskerprops, capprops=capprops, medianprops=medianprops)\n",
    "\n",
    "    ax.set_xlim([1-2.5*pad, 5+2.5*pad])\n",
    "    ax.set_yscale('log')\n",
    "    ax.set_xticks([1,2,3,4,5], labels=['all protein-\\ncoding genes',\n",
    "                                     'GWAS hits', \n",
    "                                     'null expectation',\n",
    "                                   'GWAS hits\\npromoted to\\ntitle/abstract', \n",
    "                                   'GWAS hits\\npromoted to\\ntitle/abstract\\nin citing papers'])\n",
    "\n",
    "    df_array = []\n",
    "    for gene_set, label in zip([prot_genes, \n",
    "                de_list, \n",
    "                de_list_mentioned_genes_null, \n",
    "                de_list_mentioned_genes, \n",
    "                de_citations_mentioned_sets],\n",
    "                       ['genome', \n",
    "                        'hits', \n",
    "                        'mentioned_hits_null',\n",
    "                        'mentioned_hits', \n",
    "                        'citations_mentioned_hits']):\n",
    "        temp_df = pd.DataFrame({'gene_ncbi':list(gene_set)})\n",
    "        temp_df['set'] = label\n",
    "        df_array.append(temp_df)\n",
    "    temp_df = pd.concat(df_array)\n",
    "\n",
    "    temp_df.to_csv('../data/gwas_hits_' + str(pval_thresh) + '.csv', index=False)"
   ]
  },
  {
   "cell_type": "code",
   "execution_count": 198,
   "id": "e28534cd",
   "metadata": {
    "scrolled": false
   },
   "outputs": [
    {
     "name": "stdout",
     "output_type": "stream",
     "text": [
      "800 GWAS articles\n",
      "651 GWAS articles\n",
      "568 GWAS articles\n",
      "475 GWAS articles\n",
      "421 GWAS articles\n"
     ]
    },
    {
     "data": {
      "image/png": "[encoded data removed]",
      "text/plain": [
       "<Figure size 576x360 with 1 Axes>"
      ]
     },
     "metadata": {
      "needs_background": "light"
     },
     "output_type": "display_data"
    },
    {
     "data": {
      "image/png": "[encoded data removed]",
      "text/plain": [
       "<Figure size 576x360 with 1 Axes>"
      ]
     },
     "metadata": {
      "needs_background": "light"
     },
     "output_type": "display_data"
    },
    {
     "data": {
      "image/png": "[encoded data removed]",
      "text/plain": [
       "<Figure size 576x360 with 1 Axes>"
      ]
     },
     "metadata": {
      "needs_background": "light"
     },
     "output_type": "display_data"
    },
    {
     "data": {
      "image/png": "[encoded data removed]",
      "text/plain": [
       "<Figure size 576x360 with 1 Axes>"
      ]
     },
     "metadata": {
      "needs_background": "light"
     },
     "output_type": "display_data"
    },
    {
     "data": {
      "image/png": "[encoded data removed]",
      "text/plain": [
       "<Figure size 576x360 with 1 Axes>"
      ]
     },
     "metadata": {
      "needs_background": "light"
     },
     "output_type": "display_data"
    }
   ],
   "source": [
    "get_genes(gwas, pval_thresh=1e-5)\n",
    "get_genes(gwas, pval_thresh=5e-8)\n",
    "get_genes(gwas, pval_thresh=1e-8)\n",
    "get_genes(gwas, pval_thresh=1e-9)\n",
    "get_genes(gwas, pval_thresh=1e-10)"
   ]
  },
  {
   "cell_type": "markdown",
   "id": "28c90f8c",
   "metadata": {},
   "source": [
    "# Scraps below"
   ]
  },
  {
   "cell_type": "code",
   "execution_count": 173,
   "id": "1c8d7322",
   "metadata": {},
   "outputs": [],
   "source": [
    "# apply filters and p-value threshold here\n",
    "gwas = gwas[(gwas['type'] == 'snp') & \n",
    "            (gwas['pubmed_id'].isin(gene2pubmed['pubmed_id'])) &\n",
    "            (gwas['pvalue_mlog'] > 10)]"
   ]
  },
  {
   "cell_type": "code",
   "execution_count": 174,
   "id": "61120567",
   "metadata": {},
   "outputs": [],
   "source": [
    "de_dict = gwas.groupby('pubmed_id')['gene_ncbi'].apply(set).to_dict()\n",
    "de_dict_mentioned_genes = (\n",
    "    gene2pubmed[gene2pubmed['pubmed_id']\n",
    "                .isin(gwas['pubmed_id'])]\n",
    "    .groupby('pubmed_id')['gene_ncbi']\n",
    "    .apply(set).to_dict()\n",
    ")"
   ]
  },
  {
   "cell_type": "code",
   "execution_count": 175,
   "id": "25ad30d3",
   "metadata": {},
   "outputs": [],
   "source": [
    "np.random.seed(49)\n",
    "n_samp = 100\n",
    "de_sets = []\n",
    "de_mentioned_sets = []\n",
    "de_mentioned_sets_null = []\n",
    "de_citations_mentioned_sets = []\n",
    "citations_mentioned_sets = []\n",
    "for comparison_key in np.unique(gwas['pubmed_id'].values):\n",
    "    de_list = de_dict.get(comparison_key)\n",
    "    \n",
    "    if de_dict_mentioned_genes.get(comparison_key):\n",
    "        de_list_mentioned_genes = de_dict_mentioned_genes.get(comparison_key)\n",
    "    else:\n",
    "        de_list_mentioned_genes = set()\n",
    "        \n",
    "    for n_n in range(n_samp):\n",
    "        de_mentioned_sets_null.append(set(np.random.choice(list(de_list), \n",
    "                                                           replace=False, size=len(de_list_mentioned_genes & de_list))))\n",
    "        \n",
    "    de_sets.append(de_list)\n",
    "    de_mentioned_sets.append(de_list_mentioned_genes)\n",
    "de_list_mentioned_genes_null = set().union(*de_mentioned_sets_null)"
   ]
  },
  {
   "cell_type": "code",
   "execution_count": 177,
   "id": "3dc56f18",
   "metadata": {},
   "outputs": [
    {
     "name": "stdout",
     "output_type": "stream",
     "text": [
      "CPU times: total: 4.66 s\n",
      "Wall time: 4.65 s\n"
     ]
    }
   ],
   "source": [
    "icite_slice = icite[icite['referenced'].isin(gwas['pubmed_id'])].copy()"
   ]
  },
  {
   "cell_type": "code",
   "execution_count": 178,
   "id": "13b194b8",
   "metadata": {},
   "outputs": [
    {
     "name": "stdout",
     "output_type": "stream",
     "text": [
      "CPU times: total: 62.5 ms\n",
      "Wall time: 67.1 ms\n"
     ]
    }
   ],
   "source": [
    "icite_slice = pd.merge(icite_slice, gene2pubmed, left_on='citing', right_on='pubmed_id')"
   ]
  },
  {
   "cell_type": "code",
   "execution_count": 179,
   "id": "ac0da639",
   "metadata": {},
   "outputs": [],
   "source": [
    "icite_slice = pd.merge(gwas[['gene_ncbi', 'pubmed_id']].drop_duplicates(), \n",
    "                 icite_slice, \n",
    "                 left_on='pubmed_id', right_on='referenced')"
   ]
  },
  {
   "cell_type": "code",
   "execution_count": 180,
   "id": "dc9b9480",
   "metadata": {},
   "outputs": [],
   "source": [
    "icite_slice = icite_slice[icite_slice['gene_ncbi_x'] == icite_slice['gene_ncbi_y']]"
   ]
  },
  {
   "cell_type": "code",
   "execution_count": 181,
   "id": "ef94d935",
   "metadata": {},
   "outputs": [
    {
     "data": {
      "text/plain": [
       "[<matplotlib.axis.XTick at 0x1a68fa110d0>,\n",
       " <matplotlib.axis.XTick at 0x1a68fa11250>,\n",
       " <matplotlib.axis.XTick at 0x1a68e670a30>,\n",
       " <matplotlib.axis.XTick at 0x1a68e5f6d30>,\n",
       " <matplotlib.axis.XTick at 0x1a68f9cfd00>]"
      ]
     },
     "execution_count": 181,
     "metadata": {},
     "output_type": "execute_result"
    },
    {
     "data": {
      "image/png": "[encoded data removed]",
      "text/plain": [
       "<Figure size 576x360 with 1 Axes>"
      ]
     },
     "metadata": {
      "needs_background": "light"
     },
     "output_type": "display_data"
    }
   ],
   "source": [
    "fig = plt.figure(figsize=(8,5))\n",
    "ax = plt.gca()\n",
    "pad = 0.2\n",
    "\n",
    "prot_genes = set(gene_info[gene_info['type_of_gene'] == 'protein-coding']['gene_ncbi'])\n",
    "\n",
    "de_list = set(gwas['gene_ncbi']) & prot_genes #.union(*de_sets) & prot_genes\n",
    "de_list_mentioned_genes = de_list & set(gene2pubmed[gene2pubmed['pubmed_id'].isin(gwas['pubmed_id'])]['gene_ncbi']) & prot_genes\n",
    "de_list_mentioned_genes_null = set().union(*de_mentioned_sets_null) & prot_genes\n",
    "de_citations_mentioned_sets = de_list & set(icite['gene_ncbi_y'])\n",
    "#itations_mentioned_sets = set().union(*citations_mentioned_sets) & prot_genes\n",
    "medianprops = dict(linestyle='solid', linewidth=2, color='k')\n",
    "whiskerprops = dict(linestyle='solid', linewidth=2, color='k')\n",
    "capprops = dict(linestyle='solid', linewidth=2, color='k')\n",
    "\n",
    "data = [(pd.DataFrame([gene2pubmed_dict.get(x) for x in prot_genes]).fillna(0.0) + 1)[0].values,\n",
    "        (pd.DataFrame([gene2pubmed_dict.get(x) for x in de_list]).fillna(0.0) + 1)[0].values,\n",
    "        (pd.DataFrame([gene2pubmed_dict.get(x) for x in de_list_mentioned_genes_null]).fillna(0.0) + 1)[0].values,\n",
    "       (pd.DataFrame([gene2pubmed_dict.get(x) for x in de_list_mentioned_genes]).fillna(0.0) + 1)[0].values, \n",
    "        (pd.DataFrame([gene2pubmed_dict.get(x) for x in de_citations_mentioned_sets]).fillna(0.0) + 1)[0].values]\n",
    "\n",
    "ax.boxplot(data, widths=2*pad-(pad/4), positions=np.arange(len(data))+1, whis=[2.5,97.5], patch_artist=True,\n",
    "           boxprops=dict(facecolor=sns.color_palette()[0], linewidth=2), \n",
    "           whiskerprops=whiskerprops, capprops=capprops, medianprops=medianprops)\n",
    "\n",
    "ax.set_xlim([1-2.5*pad, 5+2.5*pad])\n",
    "ax.set_yscale('log')\n",
    "ax.set_xticks([1,2,3,4,5], labels=['all protein-\\ncoding genes',\n",
    "                                 'GWAS hits', \n",
    "                                 'null expectation',\n",
    "                               'GWAS hits\\npromoted to\\ntitle/abstract', \n",
    "                               'GWAS hits\\npromoted to\\ntitle/abstract\\nin citing papers'])"
   ]
  },
  {
   "cell_type": "code",
   "execution_count": 162,
   "id": "5875c11a",
   "metadata": {},
   "outputs": [],
   "source": [
    "df_array = []\n",
    "for gene_set, label in zip([prot_genes, \n",
    "            de_list, \n",
    "            de_list_mentioned_genes_null, \n",
    "            de_list_mentioned_genes, \n",
    "            de_citations_mentioned_sets],\n",
    "                   ['genome', \n",
    "                    'hits', \n",
    "                    'mentioned_hits_null',\n",
    "                    'mentioned_hits', \n",
    "                    'citations_mentioned_hits']):\n",
    "    temp_df = pd.DataFrame({'gene_ncbi':list(gene_set)})\n",
    "    temp_df['set'] = label\n",
    "    df_array.append(temp_df)\n",
    "temp_df = pd.concat(df_array)\n",
    "\n",
    "temp_df.to_csv('../data/gwas_hits_221015.csv', index=False)"
   ]
  },
  {
   "cell_type": "code",
   "execution_count": 171,
   "id": "e7fc0181",
   "metadata": {},
   "outputs": [
    {
     "data": {
      "text/plain": [
       "MannwhitneyuResult(statistic=7835763.5, pvalue=5.600518443833819e-109)"
      ]
     },
     "execution_count": 171,
     "metadata": {},
     "output_type": "execute_result"
    }
   ],
   "source": [
    "scipy.stats.mannwhitneyu(data[0], data[1])"
   ]
  },
  {
   "cell_type": "code",
   "execution_count": null,
   "id": "88323bd2",
   "metadata": {},
   "outputs": [],
   "source": []
  }
 ],
 "metadata": {
  "kernelspec": {
   "display_name": "Python 3 (ipykernel)",
   "language": "python",
   "name": "python3"
  },
  "language_info": {
   "codemirror_mode": {
    "name": "ipython",
    "version": 3
   },
   "file_extension": ".py",
   "mimetype": "text/x-python",
   "name": "python",
   "nbconvert_exporter": "python",
   "pygments_lexer": "ipython3",
   "version": "3.9.12"
  }
 },
 "nbformat": 4,
 "nbformat_minor": 5
}
