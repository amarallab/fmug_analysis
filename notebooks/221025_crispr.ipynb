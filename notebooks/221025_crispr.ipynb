{
 "cells": [
  {
   "cell_type": "code",
   "execution_count": 1,
   "id": "ec7991ec",
   "metadata": {},
   "outputs": [],
   "source": [
    "import numpy as np\n",
    "import pandas as pd\n",
    "import scipy\n",
    "\n",
    "from IPython.display import clear_output\n",
    "\n",
    "import sys\n",
    "sys.path.append('../../../../Documents/GitHub/gustav/src/')\n",
    "\n",
    "from gustav import ebi, ncbi, nlm, biogrid, nih\n",
    "from gustav import publications\n",
    "from gustav import github\n",
    "from gustav import access_framework\n",
    "from gustav import mapper\n",
    "\n",
    "import matplotlib as mpl\n",
    "import matplotlib.pyplot as plt\n",
    "import seaborn as sns\n",
    "\n",
    "sys.path.append('../general/src/')\n",
    "from manuscript import export\n",
    "from manuscript import inout\n",
    "from manuscript import datasets\n",
    "from manuscript import tools\n",
    "\n",
    "from sklearn.metrics import auc\n",
    "from scipy.stats import fisher_exact\n",
    "pd.options.display.precision = 3\n",
    "pd.options.display.expand_frame_repr = False\n",
    "pd.options.display.max_columns = 20"
   ]
  },
  {
   "cell_type": "code",
   "execution_count": 2,
   "id": "ba0f2a60",
   "metadata": {},
   "outputs": [
    {
     "name": "stderr",
     "output_type": "stream",
     "text": [
      "C:\\Users\\richa\\Documents\\GitHub\\promising_genes\\notebooks\\../../../../Documents/GitHub/gustav/src\\gustav\\utils.py:52: FutureWarning: In a future version of pandas all arguments of DataFrame.drop except for the argument 'labels' will be keyword-only.\n",
      "  df_with_delimiter.drop(column, 1).reset_index(),\n",
      "C:\\Users\\richa\\Documents\\GitHub\\promising_genes\\notebooks\\../../../../Documents/GitHub/gustav/src\\gustav\\utils.py:63: FutureWarning: In a future version of pandas all arguments of DataFrame.drop except for the argument 'labels' will be keyword-only.\n",
      "  joined = joined.drop('helper_index', 1)\n",
      "C:\\Users\\richa\\Documents\\GitHub\\promising_genes\\notebooks\\../../../../Documents/GitHub/gustav/src\\gustav\\utils.py:52: FutureWarning: In a future version of pandas all arguments of DataFrame.drop except for the argument 'labels' will be keyword-only.\n",
      "  df_with_delimiter.drop(column, 1).reset_index(),\n",
      "C:\\Users\\richa\\Documents\\GitHub\\promising_genes\\notebooks\\../../../../Documents/GitHub/gustav/src\\gustav\\utils.py:63: FutureWarning: In a future version of pandas all arguments of DataFrame.drop except for the argument 'labels' will be keyword-only.\n",
      "  joined = joined.drop('helper_index', 1)\n"
     ]
    }
   ],
   "source": [
    "taxon = 9606\n",
    "gene_flavor = 'ou'\n",
    "ref_genes = datasets.reference_genes(taxon, gene_flavor)\n",
    "gene_info = ncbi.gene_info(taxon, mode='unambiguous_ensembl')"
   ]
  },
  {
   "cell_type": "code",
   "execution_count": 3,
   "id": "60eb53fd",
   "metadata": {},
   "outputs": [],
   "source": [
    "ref_literature = datasets.reference_publications(taxon)"
   ]
  },
  {
   "cell_type": "code",
   "execution_count": 4,
   "id": "61e9a6e1",
   "metadata": {},
   "outputs": [],
   "source": [
    "agg = []\n",
    "literature_flavor = 'pubtator_title_or_abstract_in_any_gene2pubmed_paper'\n",
    "\n",
    "gene2lit = datasets.reference_gene2lit(\n",
    "    taxon, \n",
    "    literature_flavor)\n",
    "gene2lit = gene2lit[\n",
    "    gene2lit['gene_ncbi'].isin(ref_genes) & \n",
    "    gene2lit['pubmed_id'].isin(ref_literature)\n",
    "].copy()"
   ]
  },
  {
   "cell_type": "code",
   "execution_count": 5,
   "id": "dd67ae5e",
   "metadata": {},
   "outputs": [
    {
     "name": "stdout",
     "output_type": "stream",
     "text": [
      "CPU times: total: 156 ms\n",
      "Wall time: 145 ms\n"
     ]
    }
   ],
   "source": [
    "%%time\n",
    "gene2pubmed = gene2lit #ncbi.gene2pubmed(taxon_ncbi=9606)\n",
    "large_pubs = gene2pubmed['pubmed_id'].value_counts()[gene2pubmed['pubmed_id'].value_counts() >= 100].index.values\n",
    "#gene2pubmed = gene2pubmed[~gene2pubmed['pubmed_id'].isin(large_pubs)]\n",
    "\n",
    "gene2pubmed_dict = gene2pubmed[~gene2pubmed['pubmed_id'].isin(large_pubs)].value_counts('gene_ncbi').to_dict()"
   ]
  },
  {
   "cell_type": "markdown",
   "id": "2b984946",
   "metadata": {},
   "source": [
    "# BioGRID ORCS"
   ]
  },
  {
   "cell_type": "code",
   "execution_count": 22,
   "id": "4c593d49",
   "metadata": {},
   "outputs": [],
   "source": [
    "orcs_results = biogrid.orcs('results')\n",
    "orcs_studies = biogrid.orcs('studies')"
   ]
  },
  {
   "cell_type": "code",
   "execution_count": 23,
   "id": "7baf1ba7",
   "metadata": {},
   "outputs": [
    {
     "data": {
      "text/plain": [
       "29083409    340\n",
       "30971826    325\n",
       "29526696     45\n",
       "27260156     33\n",
       "28162770     19\n",
       "           ... \n",
       "32728216      1\n",
       "30898113      1\n",
       "32005668      1\n",
       "31353312      1\n",
       "28768188      1\n",
       "Name: source_id, Length: 114, dtype: int64"
      ]
     },
     "execution_count": 23,
     "metadata": {},
     "output_type": "execute_result"
    }
   ],
   "source": [
    "orcs_studies['source_id'].value_counts()"
   ]
  },
  {
   "cell_type": "code",
   "execution_count": 24,
   "id": "33961cec",
   "metadata": {},
   "outputs": [
    {
     "name": "stdout",
     "output_type": "stream",
     "text": [
      "113\n",
      "99\n"
     ]
    }
   ],
   "source": [
    "orcs_studies = orcs_studies[(orcs_studies['source_type'] == 'pubmed')]\n",
    "print(len(orcs_studies['source_id'].value_counts()))\n",
    "orcs_studies = orcs_studies[(orcs_studies['taxon_ncbi'] == 9606)]\n",
    "print(len(orcs_studies['source_id'].value_counts()))"
   ]
  },
  {
   "cell_type": "code",
   "execution_count": 25,
   "id": "da6a256d",
   "metadata": {},
   "outputs": [],
   "source": [
    "orcs_studies = orcs_studies[(orcs_studies['source_type'] == 'pubmed') & \n",
    "                            (orcs_studies['taxon_ncbi'] == 9606)]\n",
    "orcs_studies['source_id'] = orcs_studies['source_id'].astype(int)\n",
    "orcs_studies['pubmed_id'] = orcs_studies['source_id']\n",
    "orcs_studies = orcs_studies[orcs_studies['pubmed_id'].isin(gene2pubmed['pubmed_id'])]"
   ]
  },
  {
   "cell_type": "code",
   "execution_count": 26,
   "id": "775bb4fa",
   "metadata": {},
   "outputs": [
    {
     "data": {
      "text/plain": [
       "21"
      ]
     },
     "execution_count": 26,
     "metadata": {},
     "output_type": "execute_result"
    }
   ],
   "source": [
    "len(orcs_studies['source_id'].value_counts())"
   ]
  },
  {
   "cell_type": "code",
   "execution_count": 28,
   "id": "a953ddeb",
   "metadata": {},
   "outputs": [],
   "source": [
    "orcs_results = pd.merge(orcs_results, orcs_studies[['orcs_screen_id', 'pubmed_id']])\n",
    "orcs_results = orcs_results[orcs_results['hit'] == True].copy()\n",
    "orcs_results = orcs_results.drop_duplicates(['gene_ncbi', 'pubmed_id'])"
   ]
  },
  {
   "cell_type": "code",
   "execution_count": 30,
   "id": "3ba327e3",
   "metadata": {},
   "outputs": [
    {
     "data": {
      "text/plain": [
       "21"
      ]
     },
     "execution_count": 30,
     "metadata": {},
     "output_type": "execute_result"
    }
   ],
   "source": [
    "len(orcs_results['pubmed_id'].value_counts())"
   ]
  },
  {
   "cell_type": "code",
   "execution_count": 8,
   "id": "0549bf95",
   "metadata": {},
   "outputs": [],
   "source": [
    "orcs_results['pubmed_id'].drop_duplicates().to_csv('../data/crispr_pubmed_ids.csv', index=False)"
   ]
  },
  {
   "cell_type": "code",
   "execution_count": 21,
   "id": "2bc09baf",
   "metadata": {},
   "outputs": [
    {
     "name": "stderr",
     "output_type": "stream",
     "text": [
      "C:\\Users\\richa\\anaconda3\\envs\\gene_env\\lib\\site-packages\\seaborn\\distributions.py:2619: FutureWarning: `distplot` is a deprecated function and will be removed in a future version. Please adapt your code to use either `displot` (a figure-level function with similar flexibility) or `histplot` (an axes-level function for histograms).\n",
      "  warnings.warn(msg, FutureWarning)\n"
     ]
    },
    {
     "data": {
      "text/plain": [
       "(-20.0, 60.0)"
      ]
     },
     "execution_count": 21,
     "metadata": {},
     "output_type": "execute_result"
    },
    {
     "data": {
      "image/png": "[encoded data removed]",
      "text/plain": [
       "<Figure size 432x288 with 1 Axes>"
      ]
     },
     "metadata": {
      "needs_background": "light"
     },
     "output_type": "display_data"
    }
   ],
   "source": [
    "bins = np.arange(-20,40,1)\n",
    "sns.distplot(orcs_results['score.1'], bins=bins)\n",
    "plt.xlim([-20,60])"
   ]
  },
  {
   "cell_type": "code",
   "execution_count": 47,
   "id": "9319f857",
   "metadata": {},
   "outputs": [
    {
     "name": "stdout",
     "output_type": "stream",
     "text": [
      "CPU times: total: 21.4 s\n",
      "Wall time: 25.6 s\n"
     ]
    }
   ],
   "source": [
    "%%time\n",
    "icite = nih.icite(dataset='citations')"
   ]
  },
  {
   "cell_type": "code",
   "execution_count": 63,
   "id": "3fc79341",
   "metadata": {},
   "outputs": [],
   "source": [
    "def get_genes(gwas):\n",
    "    # apply filters and p-value threshold here\n",
    "    gwas = gwas[(gwas['pubmed_id'].isin(gene2pubmed['pubmed_id']))].copy()\n",
    "    \n",
    "    print(str(len(set(gwas['pubmed_id'].values))) + ' CRISPR articles')\n",
    "\n",
    "    de_dict = gwas.groupby('pubmed_id')['gene_ncbi'].apply(set).to_dict()\n",
    "    de_dict_mentioned_genes = (\n",
    "        gene2pubmed[gene2pubmed['pubmed_id']\n",
    "                    .isin(gwas['pubmed_id'])]\n",
    "        .groupby('pubmed_id')['gene_ncbi']\n",
    "        .apply(set).to_dict()\n",
    "    )\n",
    "\n",
    "    np.random.seed(49)\n",
    "    n_samp = 100\n",
    "    de_sets = []\n",
    "    de_mentioned_sets = []\n",
    "    de_mentioned_sets_null = []\n",
    "    de_citations_mentioned_sets = []\n",
    "    citations_mentioned_sets = []\n",
    "    for comparison_key in np.unique(gwas['pubmed_id'].values):\n",
    "        de_list = de_dict.get(comparison_key)\n",
    "\n",
    "        if de_dict_mentioned_genes.get(comparison_key):\n",
    "            de_list_mentioned_genes = de_dict_mentioned_genes.get(comparison_key)\n",
    "        else:\n",
    "            de_list_mentioned_genes = set()\n",
    "\n",
    "        for n_n in range(n_samp):\n",
    "            de_mentioned_sets_null.append(set(np.random.choice(list(de_list), \n",
    "                                                               replace=False, \n",
    "                                                               size=len(de_list_mentioned_genes & de_list))))\n",
    "\n",
    "        de_sets.append(de_list)\n",
    "        de_mentioned_sets.append(de_list_mentioned_genes)\n",
    "    de_list_mentioned_genes_null = set().union(*de_mentioned_sets_null)\n",
    "\n",
    "    icite_slice = icite[icite['referenced'].isin(gwas['pubmed_id'])].copy()\n",
    "\n",
    "    icite_slice = pd.merge(icite_slice, gene2pubmed, left_on='citing', right_on='pubmed_id')\n",
    "\n",
    "    icite_slice = pd.merge(gwas[['gene_ncbi', 'pubmed_id']].drop_duplicates(), \n",
    "                     icite_slice, \n",
    "                     left_on='pubmed_id', right_on='referenced')\n",
    "\n",
    "    icite_slice = icite_slice[icite_slice['gene_ncbi_x'] == icite_slice['gene_ncbi_y']]\n",
    "\n",
    "    fig = plt.figure(figsize=(8,5))\n",
    "    ax = plt.gca()\n",
    "    pad = 0.2\n",
    "\n",
    "    prot_genes = set(gene_info[gene_info['type_of_gene'] == 'protein-coding']['gene_ncbi'])\n",
    "\n",
    "    de_list = set(gwas['gene_ncbi']) & prot_genes #.union(*de_sets) & prot_genes\n",
    "    de_list_mentioned_genes = de_list & set(gene2pubmed[gene2pubmed['pubmed_id'].isin(gwas['pubmed_id'])]['gene_ncbi']) & prot_genes\n",
    "    de_list_mentioned_genes_null = set().union(*de_mentioned_sets_null) & prot_genes\n",
    "    de_citations_mentioned_sets = de_list & set(icite_slice['gene_ncbi_y'])\n",
    "    #itations_mentioned_sets = set().union(*citations_mentioned_sets) & prot_genes\n",
    "    medianprops = dict(linestyle='solid', linewidth=2, color='k')\n",
    "    whiskerprops = dict(linestyle='solid', linewidth=2, color='k')\n",
    "    capprops = dict(linestyle='solid', linewidth=2, color='k')\n",
    "\n",
    "    data = [(pd.DataFrame([gene2pubmed_dict.get(x) for x in prot_genes]).fillna(0.0) + 1)[0].values,\n",
    "            (pd.DataFrame([gene2pubmed_dict.get(x) for x in de_list]).fillna(0.0) + 1)[0].values,\n",
    "            (pd.DataFrame([gene2pubmed_dict.get(x) for x in de_list_mentioned_genes_null]).fillna(0.0) + 1)[0].values,\n",
    "           (pd.DataFrame([gene2pubmed_dict.get(x) for x in de_list_mentioned_genes]).fillna(0.0) + 1)[0].values, \n",
    "            (pd.DataFrame([gene2pubmed_dict.get(x) for x in de_citations_mentioned_sets]).fillna(0.0) + 1)[0].values]\n",
    "\n",
    "    ax.boxplot(data, widths=2*pad-(pad/4), positions=np.arange(len(data))+1, whis=[2.5,97.5], patch_artist=True,\n",
    "               boxprops=dict(facecolor=sns.color_palette()[0], linewidth=2), \n",
    "               whiskerprops=whiskerprops, capprops=capprops, medianprops=medianprops)\n",
    "\n",
    "    ax.set_xlim([1-2.5*pad, 5+2.5*pad])\n",
    "    ax.set_yscale('log')\n",
    "    ax.set_xticks([1,2,3,4,5], labels=['all protein-\\ncoding genes',\n",
    "                                     'CRISPR hits', \n",
    "                                     'null expectation',\n",
    "                                   'CRISPR hits\\npromoted to\\ntitle/abstract', \n",
    "                                   'CRISPR hits\\npromoted to\\ntitle/abstract\\nin citing papers'])\n",
    "\n",
    "    df_array = []\n",
    "    for gene_set, label in zip([prot_genes, \n",
    "                de_list, \n",
    "                de_list_mentioned_genes_null, \n",
    "                de_list_mentioned_genes, \n",
    "                de_citations_mentioned_sets],\n",
    "                       ['genome', \n",
    "                        'hits', \n",
    "                        'mentioned_hits_null',\n",
    "                        'mentioned_hits', \n",
    "                        'citations_mentioned_hits']):\n",
    "        temp_df = pd.DataFrame({'gene_ncbi':list(gene_set)})\n",
    "        temp_df['set'] = label\n",
    "        df_array.append(temp_df)\n",
    "    temp_df = pd.concat(df_array)\n",
    "\n",
    "    temp_df.to_csv('../data/crispr_hits.csv', index=False)"
   ]
  },
  {
   "cell_type": "code",
   "execution_count": 64,
   "id": "e28534cd",
   "metadata": {
    "scrolled": false
   },
   "outputs": [
    {
     "name": "stdout",
     "output_type": "stream",
     "text": [
      "21 CRISPR articles\n"
     ]
    },
    {
     "data": {
      "image/png": "[encoded data removed]",
      "text/plain": [
       "<Figure size 576x360 with 1 Axes>"
      ]
     },
     "metadata": {
      "needs_background": "light"
     },
     "output_type": "display_data"
    }
   ],
   "source": [
    "get_genes(orcs_results)"
   ]
  },
  {
   "cell_type": "code",
   "execution_count": 58,
   "id": "d2936f4c",
   "metadata": {},
   "outputs": [
    {
     "data": {
      "text/plain": [
       "genome                      19243\n",
       "hits                        10064\n",
       "mentioned_hits_null          1422\n",
       "mentioned_hits                 27\n",
       "citations_mentioned_hits       19\n",
       "Name: set, dtype: int64"
      ]
     },
     "execution_count": 58,
     "metadata": {},
     "output_type": "execute_result"
    }
   ],
   "source": [
    "pd.read_csv('../data/crispr_hits.csv')['set'].value_counts()"
   ]
  },
  {
   "cell_type": "code",
   "execution_count": 62,
   "id": "bda0e29c",
   "metadata": {},
   "outputs": [
    {
     "data": {
      "text/plain": [
       "21"
      ]
     },
     "execution_count": 62,
     "metadata": {},
     "output_type": "execute_result"
    }
   ],
   "source": [
    "len(orcs_results['pubmed_id'].value_counts())"
   ]
  },
  {
   "cell_type": "code",
   "execution_count": null,
   "id": "a7381666",
   "metadata": {},
   "outputs": [],
   "source": []
  }
 ],
 "metadata": {
  "kernelspec": {
   "display_name": "Python 3 (ipykernel)",
   "language": "python",
   "name": "python3"
  },
  "language_info": {
   "codemirror_mode": {
    "name": "ipython",
    "version": 3
   },
   "file_extension": ".py",
   "mimetype": "text/x-python",
   "name": "python",
   "nbconvert_exporter": "python",
   "pygments_lexer": "ipython3",
   "version": "3.9.12"
  }
 },
 "nbformat": 4,
 "nbformat_minor": 5
}
