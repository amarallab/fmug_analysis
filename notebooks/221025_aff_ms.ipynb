{
 "cells": [
  {
   "cell_type": "code",
   "execution_count": 1,
   "id": "ec7991ec",
   "metadata": {},
   "outputs": [],
   "source": [
    "import numpy as np\n",
    "import pandas as pd\n",
    "import scipy\n",
    "\n",
    "from IPython.display import clear_output\n",
    "\n",
    "import sys\n",
    "sys.path.append('../../../../Documents/GitHub/gustav/src/')\n",
    "\n",
    "from gustav import ebi, ncbi, nlm, biogrid, nih\n",
    "from gustav import publications\n",
    "from gustav import github\n",
    "from gustav import access_framework\n",
    "from gustav import mapper\n",
    "\n",
    "import matplotlib as mpl\n",
    "import matplotlib.pyplot as plt\n",
    "import seaborn as sns\n",
    "\n",
    "sys.path.append('../general/src/')\n",
    "from manuscript import export\n",
    "from manuscript import inout\n",
    "from manuscript import datasets\n",
    "from manuscript import tools\n",
    "\n",
    "from sklearn.metrics import auc\n",
    "from scipy.stats import fisher_exact\n",
    "pd.options.display.precision = 3\n",
    "pd.options.display.expand_frame_repr = False\n",
    "pd.options.display.max_columns = 20"
   ]
  },
  {
   "cell_type": "code",
   "execution_count": 2,
   "id": "ba0f2a60",
   "metadata": {},
   "outputs": [
    {
     "name": "stderr",
     "output_type": "stream",
     "text": [
      "C:\\Users\\richa\\Documents\\GitHub\\promising_genes\\notebooks\\../../../../Documents/GitHub/gustav/src\\gustav\\utils.py:52: FutureWarning: In a future version of pandas all arguments of DataFrame.drop except for the argument 'labels' will be keyword-only.\n",
      "  df_with_delimiter.drop(column, 1).reset_index(),\n",
      "C:\\Users\\richa\\Documents\\GitHub\\promising_genes\\notebooks\\../../../../Documents/GitHub/gustav/src\\gustav\\utils.py:63: FutureWarning: In a future version of pandas all arguments of DataFrame.drop except for the argument 'labels' will be keyword-only.\n",
      "  joined = joined.drop('helper_index', 1)\n",
      "C:\\Users\\richa\\Documents\\GitHub\\promising_genes\\notebooks\\../../../../Documents/GitHub/gustav/src\\gustav\\utils.py:52: FutureWarning: In a future version of pandas all arguments of DataFrame.drop except for the argument 'labels' will be keyword-only.\n",
      "  df_with_delimiter.drop(column, 1).reset_index(),\n",
      "C:\\Users\\richa\\Documents\\GitHub\\promising_genes\\notebooks\\../../../../Documents/GitHub/gustav/src\\gustav\\utils.py:63: FutureWarning: In a future version of pandas all arguments of DataFrame.drop except for the argument 'labels' will be keyword-only.\n",
      "  joined = joined.drop('helper_index', 1)\n"
     ]
    }
   ],
   "source": [
    "taxon = 9606\n",
    "gene_flavor = 'ou'\n",
    "ref_genes = datasets.reference_genes(taxon, gene_flavor)\n",
    "gene_info = ncbi.gene_info(taxon, mode='unambiguous_ensembl')"
   ]
  },
  {
   "cell_type": "code",
   "execution_count": 3,
   "id": "60eb53fd",
   "metadata": {},
   "outputs": [],
   "source": [
    "ref_literature = datasets.reference_publications(taxon)"
   ]
  },
  {
   "cell_type": "code",
   "execution_count": 4,
   "id": "61e9a6e1",
   "metadata": {},
   "outputs": [],
   "source": [
    "agg = []\n",
    "literature_flavor = 'pubtator_title_or_abstract_in_any_gene2pubmed_paper'\n",
    "\n",
    "gene2lit = datasets.reference_gene2lit(\n",
    "    taxon, \n",
    "    literature_flavor)\n",
    "gene2lit = gene2lit[\n",
    "    gene2lit['gene_ncbi'].isin(ref_genes) & \n",
    "    gene2lit['pubmed_id'].isin(ref_literature)\n",
    "].copy()"
   ]
  },
  {
   "cell_type": "code",
   "execution_count": 5,
   "id": "dd67ae5e",
   "metadata": {},
   "outputs": [
    {
     "name": "stdout",
     "output_type": "stream",
     "text": [
      "CPU times: total: 141 ms\n",
      "Wall time: 144 ms\n"
     ]
    }
   ],
   "source": [
    "%%time\n",
    "gene2pubmed = gene2lit #ncbi.gene2pubmed(taxon_ncbi=9606)\n",
    "large_pubs = gene2pubmed['pubmed_id'].value_counts()[gene2pubmed['pubmed_id'].value_counts() >= 100].index.values\n",
    "#gene2pubmed = gene2pubmed[~gene2pubmed['pubmed_id'].isin(large_pubs)]\n",
    "\n",
    "gene2pubmed_dict = gene2pubmed[~gene2pubmed['pubmed_id'].isin(large_pubs)].value_counts('gene_ncbi').to_dict()"
   ]
  },
  {
   "cell_type": "markdown",
   "id": "2b984946",
   "metadata": {},
   "source": [
    "# BioGRID"
   ]
  },
  {
   "cell_type": "code",
   "execution_count": 29,
   "id": "d78b522c",
   "metadata": {},
   "outputs": [],
   "source": [
    "biogrid_df = biogrid.biogrid('all')"
   ]
  },
  {
   "cell_type": "code",
   "execution_count": 30,
   "id": "daca821d",
   "metadata": {},
   "outputs": [
    {
     "data": {
      "text/plain": [
       "PUBMED:27708008    326623\n",
       "PUBMED:20093466     68044\n",
       "PUBMED:28514442     56431\n",
       "PUBMED:32296183     52408\n",
       "PUBMED:22681890     40846\n",
       "                    ...  \n",
       "PUBMED:25429067         1\n",
       "PUBMED:21912673         1\n",
       "PUBMED:19330023         1\n",
       "PUBMED:23298890         1\n",
       "PUBMED:1527169          1\n",
       "Name: publication_source, Length: 62154, dtype: int64"
      ]
     },
     "execution_count": 30,
     "metadata": {},
     "output_type": "execute_result"
    }
   ],
   "source": [
    "biogrid_df['publication_source'].value_counts()"
   ]
  },
  {
   "cell_type": "code",
   "execution_count": 31,
   "id": "5b4d401c",
   "metadata": {},
   "outputs": [
    {
     "name": "stdout",
     "output_type": "stream",
     "text": [
      "PUBMED:28514442    56431\n",
      "PUBMED:26496610    29089\n",
      "PUBMED:26186194    23669\n",
      "PUBMED:22036573    10917\n",
      "PUBMED:16429126     7592\n",
      "                   ...  \n",
      "PUBMED:25139236        1\n",
      "PUBMED:23913922        1\n",
      "PUBMED:26718004        1\n",
      "PUBMED:16222229        1\n",
      "PUBMED:24277934        1\n",
      "Name: publication_source, Length: 1235, dtype: int64\n",
      "PUBMED:28514442    55822\n",
      "PUBMED:26496610    28952\n",
      "PUBMED:26186194    23379\n",
      "PUBMED:27173435     4885\n",
      "PUBMED:21145461     4487\n",
      "                   ...  \n",
      "PUBMED:31159502        1\n",
      "PUBMED:20388777        1\n",
      "PUBMED:24067369        1\n",
      "PUBMED:29228602        1\n",
      "PUBMED:19786094        1\n",
      "Name: publication_source, Length: 683, dtype: int64\n"
     ]
    }
   ],
   "source": [
    "biogrid_df = biogrid_df[(biogrid_df['throughput'] == 'High Throughput') & \n",
    "        (biogrid_df['experimental_system'] == 'Affinity Capture-MS')]\n",
    "print(biogrid_df['publication_source'].value_counts())\n",
    "biogrid_df = biogrid_df[biogrid_df['gene_ncbi_interactor_b'].isin(gene_info['gene_ncbi'])]\n",
    "print(biogrid_df['publication_source'].value_counts())#['publication_source'].value_counts()"
   ]
  },
  {
   "cell_type": "code",
   "execution_count": 32,
   "id": "d224e139",
   "metadata": {},
   "outputs": [],
   "source": [
    "biogrid_df['pubmed_id'] = biogrid_df['publication_source'].apply(lambda x: int(x.split(':')[1]))"
   ]
  },
  {
   "cell_type": "code",
   "execution_count": 33,
   "id": "afc7590f",
   "metadata": {},
   "outputs": [],
   "source": [
    "biogrid_df = biogrid_df[biogrid_df['pubmed_id'].isin(gene2pubmed['pubmed_id'])]"
   ]
  },
  {
   "cell_type": "code",
   "execution_count": 34,
   "id": "6d3f6a96",
   "metadata": {},
   "outputs": [
    {
     "data": {
      "text/plain": [
       "27684187    3484\n",
       "28515276    2785\n",
       "31091453    2761\n",
       "29845934    2217\n",
       "29128334    1964\n",
       "            ... \n",
       "30760284       1\n",
       "26975375       1\n",
       "29434030       1\n",
       "30675521       1\n",
       "29426904       1\n",
       "Name: pubmed_id, Length: 461, dtype: int64"
      ]
     },
     "execution_count": 34,
     "metadata": {},
     "output_type": "execute_result"
    }
   ],
   "source": [
    "biogrid_df['pubmed_id'].value_counts()"
   ]
  },
  {
   "cell_type": "code",
   "execution_count": 35,
   "id": "5aa6cb78",
   "metadata": {},
   "outputs": [],
   "source": [
    "biogrid_df = biogrid_df.drop_duplicates(['pubmed_id', 'gene_ncbi_interactor_b']).copy()"
   ]
  },
  {
   "cell_type": "code",
   "execution_count": 36,
   "id": "0d75eac5",
   "metadata": {},
   "outputs": [],
   "source": [
    "biogrid_df['gene_ncbi'] = biogrid_df['gene_ncbi_interactor_b'].copy()"
   ]
  },
  {
   "cell_type": "code",
   "execution_count": 37,
   "id": "03f22699",
   "metadata": {},
   "outputs": [],
   "source": [
    "biogrid_df[['pubmed_id']].drop_duplicates().to_csv('../data/aff_ms_pubmed_ids.csv', index=False)"
   ]
  },
  {
   "cell_type": "code",
   "execution_count": 14,
   "id": "9319f857",
   "metadata": {},
   "outputs": [
    {
     "name": "stdout",
     "output_type": "stream",
     "text": [
      "CPU times: total: 20.9 s\n",
      "Wall time: 23.4 s\n"
     ]
    }
   ],
   "source": [
    "%%time\n",
    "icite = nih.icite(dataset='citations')"
   ]
  },
  {
   "cell_type": "code",
   "execution_count": 49,
   "id": "3fc79341",
   "metadata": {},
   "outputs": [],
   "source": [
    "def get_genes(gwas):\n",
    "    # apply filters and p-value threshold here\n",
    "    gwas = gwas[(gwas['pubmed_id'].isin(gene2pubmed['pubmed_id']))].copy()\n",
    "    \n",
    "    print(str(len(set(gwas['pubmed_id'].values))) + ' Aff MS articles')\n",
    "\n",
    "    de_dict = gwas.groupby('pubmed_id')['gene_ncbi'].apply(set).to_dict()\n",
    "    de_dict_mentioned_genes = (\n",
    "        gene2pubmed[gene2pubmed['pubmed_id']\n",
    "                    .isin(gwas['pubmed_id'])]\n",
    "        .groupby('pubmed_id')['gene_ncbi']\n",
    "        .apply(set).to_dict()\n",
    "    )\n",
    "\n",
    "    np.random.seed(49)\n",
    "    n_samp = 100\n",
    "    de_sets = []\n",
    "    de_mentioned_sets = []\n",
    "    de_mentioned_sets_null = []\n",
    "    de_citations_mentioned_sets = []\n",
    "    citations_mentioned_sets = []\n",
    "    for comparison_key in np.unique(gwas['pubmed_id'].values):\n",
    "        de_list = de_dict.get(comparison_key)\n",
    "\n",
    "        if de_dict_mentioned_genes.get(comparison_key):\n",
    "            de_list_mentioned_genes = de_dict_mentioned_genes.get(comparison_key)\n",
    "        else:\n",
    "            de_list_mentioned_genes = set()\n",
    "\n",
    "        for n_n in range(n_samp):\n",
    "            de_mentioned_sets_null.append(set(np.random.choice(list(de_list), \n",
    "                                                               replace=False, \n",
    "                                                               size=len(de_list_mentioned_genes & de_list))))\n",
    "\n",
    "        de_sets.append(de_list)\n",
    "        de_mentioned_sets.append(de_list_mentioned_genes)\n",
    "    de_list_mentioned_genes_null = set().union(*de_mentioned_sets_null)\n",
    "\n",
    "    icite_slice = icite[icite['referenced'].isin(gwas['pubmed_id'])].copy()\n",
    "\n",
    "    icite_slice = pd.merge(icite_slice, gene2pubmed, left_on='citing', right_on='pubmed_id')\n",
    "\n",
    "    icite_slice = pd.merge(gwas[['gene_ncbi', 'pubmed_id']].drop_duplicates(), \n",
    "                     icite_slice, \n",
    "                     left_on='pubmed_id', right_on='referenced')\n",
    "\n",
    "    icite_slice = icite_slice[icite_slice['gene_ncbi_x'] == icite_slice['gene_ncbi_y']]\n",
    "\n",
    "    fig = plt.figure(figsize=(8,5))\n",
    "    ax = plt.gca()\n",
    "    pad = 0.2\n",
    "\n",
    "    prot_genes = set(gene_info[gene_info['type_of_gene'] == 'protein-coding']['gene_ncbi'])\n",
    "\n",
    "    de_list = set(gwas['gene_ncbi']) & prot_genes #.union(*de_sets) & prot_genes\n",
    "    de_list_mentioned_genes = de_list & set(gene2pubmed[gene2pubmed['pubmed_id'].isin(gwas['pubmed_id'])]['gene_ncbi']) & prot_genes\n",
    "    de_list_mentioned_genes_null = set().union(*de_mentioned_sets_null) & prot_genes\n",
    "    de_citations_mentioned_sets = de_list & set(icite_slice['gene_ncbi_y'])\n",
    "    #itations_mentioned_sets = set().union(*citations_mentioned_sets) & prot_genes\n",
    "    medianprops = dict(linestyle='solid', linewidth=2, color='k')\n",
    "    whiskerprops = dict(linestyle='solid', linewidth=2, color='k')\n",
    "    capprops = dict(linestyle='solid', linewidth=2, color='k')\n",
    "\n",
    "    data = [(pd.DataFrame([gene2pubmed_dict.get(x) for x in prot_genes]).fillna(0.0) + 1)[0].values,\n",
    "            (pd.DataFrame([gene2pubmed_dict.get(x) for x in de_list]).fillna(0.0) + 1)[0].values,\n",
    "            (pd.DataFrame([gene2pubmed_dict.get(x) for x in de_list_mentioned_genes_null]).fillna(0.0) + 1)[0].values,\n",
    "           (pd.DataFrame([gene2pubmed_dict.get(x) for x in de_list_mentioned_genes]).fillna(0.0) + 1)[0].values, \n",
    "            (pd.DataFrame([gene2pubmed_dict.get(x) for x in de_citations_mentioned_sets]).fillna(0.0) + 1)[0].values]\n",
    "\n",
    "    ax.boxplot(data, widths=2*pad-(pad/4), positions=np.arange(len(data))+1, whis=[2.5,97.5], patch_artist=True,\n",
    "               boxprops=dict(facecolor=sns.color_palette()[0], linewidth=2), \n",
    "               whiskerprops=whiskerprops, capprops=capprops, medianprops=medianprops)\n",
    "\n",
    "    ax.set_xlim([1-2.5*pad, 5+2.5*pad])\n",
    "    ax.set_yscale('log')\n",
    "    ax.set_xticks([1,2,3,4,5], labels=['all protein-\\ncoding genes',\n",
    "                                     'Aff-MS hits', \n",
    "                                     'null expectation',\n",
    "                                   'Aff-MS hits\\npromoted to\\ntitle/abstract', \n",
    "                                   'Aff-MS hits\\npromoted to\\ntitle/abstract\\nin citing papers'])\n",
    "\n",
    "    df_array = []\n",
    "    for gene_set, label in zip([prot_genes, \n",
    "                de_list, \n",
    "                de_list_mentioned_genes_null, \n",
    "                de_list_mentioned_genes, \n",
    "                de_citations_mentioned_sets],\n",
    "                       ['genome', \n",
    "                        'hits', \n",
    "                        'mentioned_hits_null',\n",
    "                        'mentioned_hits', \n",
    "                        'citations_mentioned_hits']):\n",
    "        temp_df = pd.DataFrame({'gene_ncbi':list(gene_set)})\n",
    "        temp_df['set'] = label\n",
    "        df_array.append(temp_df)\n",
    "    temp_df = pd.concat(df_array)\n",
    "\n",
    "    temp_df.to_csv('../data/aff_ms_hits.csv', index=False)"
   ]
  },
  {
   "cell_type": "code",
   "execution_count": 50,
   "id": "e28534cd",
   "metadata": {
    "scrolled": false
   },
   "outputs": [
    {
     "name": "stdout",
     "output_type": "stream",
     "text": [
      "461 Aff MS articles\n"
     ]
    },
    {
     "data": {
      "image/png": "[encoded data removed]",
      "text/plain": [
       "<Figure size 576x360 with 1 Axes>"
      ]
     },
     "metadata": {
      "needs_background": "light"
     },
     "output_type": "display_data"
    }
   ],
   "source": [
    "get_genes(biogrid_df)"
   ]
  },
  {
   "cell_type": "code",
   "execution_count": 44,
   "id": "88323bd2",
   "metadata": {},
   "outputs": [],
   "source": [
    "orcs_results = biogrid.orcs('results')\n",
    "orcs_studies = biogrid.orcs('studies')\n",
    "orcs_studies = orcs_studies[orcs_studies['source_type'] == 'pubmed']"
   ]
  },
  {
   "cell_type": "code",
   "execution_count": 65,
   "id": "3a56b423",
   "metadata": {},
   "outputs": [
    {
     "data": {
      "text/html": [
       "<div>\n",
       "<style scoped>\n",
       "    .dataframe tbody tr th:only-of-type {\n",
       "        vertical-align: middle;\n",
       "    }\n",
       "\n",
       "    .dataframe tbody tr th {\n",
       "        vertical-align: top;\n",
       "    }\n",
       "\n",
       "    .dataframe thead th {\n",
       "        text-align: right;\n",
       "    }\n",
       "</style>\n",
       "<table border=\"1\" class=\"dataframe\">\n",
       "  <thead>\n",
       "    <tr style=\"text-align: right;\">\n",
       "      <th></th>\n",
       "      <th>orcs_screen_id</th>\n",
       "      <th>source_id</th>\n",
       "      <th>source_type</th>\n",
       "      <th>author</th>\n",
       "      <th>screen_name</th>\n",
       "      <th>scores_size</th>\n",
       "      <th>full_size</th>\n",
       "      <th>full_size_available</th>\n",
       "      <th>number_of_hits</th>\n",
       "      <th>analysis</th>\n",
       "      <th>...</th>\n",
       "      <th>score.1_type</th>\n",
       "      <th>score.2_type</th>\n",
       "      <th>score.3_type</th>\n",
       "      <th>score.4_type</th>\n",
       "      <th>score.5_type</th>\n",
       "      <th>taxon_ncbi</th>\n",
       "      <th>organism_official</th>\n",
       "      <th>notes</th>\n",
       "      <th>source</th>\n",
       "      <th>screen_rationale</th>\n",
       "    </tr>\n",
       "  </thead>\n",
       "  <tbody>\n",
       "    <tr>\n",
       "      <th>44</th>\n",
       "      <td>141</td>\n",
       "      <td>27869803</td>\n",
       "      <td>pubmed</td>\n",
       "      <td>Steinhart Z (2017)</td>\n",
       "      <td>1-PMID27869803</td>\n",
       "      <td>17226</td>\n",
       "      <td>17226</td>\n",
       "      <td>Yes</td>\n",
       "      <td>2174</td>\n",
       "      <td>BAGEL</td>\n",
       "      <td>...</td>\n",
       "      <td>Bayes Factor</td>\n",
       "      <td>-</td>\n",
       "      <td>-</td>\n",
       "      <td>-</td>\n",
       "      <td>-</td>\n",
       "      <td>9606</td>\n",
       "      <td>H. sapiens</td>\n",
       "      <td>Genes with a Bayes Factor (BF) above the thres...</td>\n",
       "      <td>BioGRID ORCS</td>\n",
       "      <td>Cell-essential genes</td>\n",
       "    </tr>\n",
       "    <tr>\n",
       "      <th>45</th>\n",
       "      <td>142</td>\n",
       "      <td>27869803</td>\n",
       "      <td>pubmed</td>\n",
       "      <td>Steinhart Z (2017)</td>\n",
       "      <td>2-PMID27869803</td>\n",
       "      <td>17226</td>\n",
       "      <td>17226</td>\n",
       "      <td>Yes</td>\n",
       "      <td>2072</td>\n",
       "      <td>BAGEL</td>\n",
       "      <td>...</td>\n",
       "      <td>Bayes Factor</td>\n",
       "      <td>-</td>\n",
       "      <td>-</td>\n",
       "      <td>-</td>\n",
       "      <td>-</td>\n",
       "      <td>9606</td>\n",
       "      <td>H. sapiens</td>\n",
       "      <td>Genes with a Bayes Factor (BF) above the thres...</td>\n",
       "      <td>BioGRID ORCS</td>\n",
       "      <td>Cell-essential genes</td>\n",
       "    </tr>\n",
       "    <tr>\n",
       "      <th>46</th>\n",
       "      <td>143</td>\n",
       "      <td>27869803</td>\n",
       "      <td>pubmed</td>\n",
       "      <td>Steinhart Z (2017)</td>\n",
       "      <td>3-PMID27869803</td>\n",
       "      <td>17226</td>\n",
       "      <td>17226</td>\n",
       "      <td>Yes</td>\n",
       "      <td>936</td>\n",
       "      <td>BAGEL</td>\n",
       "      <td>...</td>\n",
       "      <td>Bayes Factor</td>\n",
       "      <td>-</td>\n",
       "      <td>-</td>\n",
       "      <td>-</td>\n",
       "      <td>-</td>\n",
       "      <td>9606</td>\n",
       "      <td>H. sapiens</td>\n",
       "      <td>Genes with a Bayes Factor (BF) above the thres...</td>\n",
       "      <td>BioGRID ORCS</td>\n",
       "      <td>Cell-essential genes</td>\n",
       "    </tr>\n",
       "    <tr>\n",
       "      <th>69</th>\n",
       "      <td>178</td>\n",
       "      <td>28894007</td>\n",
       "      <td>pubmed</td>\n",
       "      <td>Gulbranson DR (2017)</td>\n",
       "      <td>1-PMID28894007</td>\n",
       "      <td>18737</td>\n",
       "      <td>18737</td>\n",
       "      <td>Yes</td>\n",
       "      <td>329</td>\n",
       "      <td>MaGeCK</td>\n",
       "      <td>...</td>\n",
       "      <td>p-Value</td>\n",
       "      <td>FDR</td>\n",
       "      <td>-</td>\n",
       "      <td>-</td>\n",
       "      <td>-</td>\n",
       "      <td>9606</td>\n",
       "      <td>H. sapiens</td>\n",
       "      <td>Authors screened cells for exocytosis defects....</td>\n",
       "      <td>BioGRID ORCS</td>\n",
       "      <td>Exocytosis</td>\n",
       "    </tr>\n",
       "    <tr>\n",
       "      <th>293</th>\n",
       "      <td>405</td>\n",
       "      <td>28775154</td>\n",
       "      <td>pubmed</td>\n",
       "      <td>Stewart SE (2017)</td>\n",
       "      <td>1-PMID28775154</td>\n",
       "      <td>20916</td>\n",
       "      <td>20916</td>\n",
       "      <td>Yes</td>\n",
       "      <td>1174</td>\n",
       "      <td>RSA</td>\n",
       "      <td>...</td>\n",
       "      <td>Log10 (p-value)</td>\n",
       "      <td>-</td>\n",
       "      <td>-</td>\n",
       "      <td>-</td>\n",
       "      <td>-</td>\n",
       "      <td>9606</td>\n",
       "      <td>H. sapiens</td>\n",
       "      <td>Authors screened for genes  required for cell ...</td>\n",
       "      <td>BioGRID ORCS</td>\n",
       "      <td>Regulators or GAL3 surface localization</td>\n",
       "    </tr>\n",
       "    <tr>\n",
       "      <th>...</th>\n",
       "      <td>...</td>\n",
       "      <td>...</td>\n",
       "      <td>...</td>\n",
       "      <td>...</td>\n",
       "      <td>...</td>\n",
       "      <td>...</td>\n",
       "      <td>...</td>\n",
       "      <td>...</td>\n",
       "      <td>...</td>\n",
       "      <td>...</td>\n",
       "      <td>...</td>\n",
       "      <td>...</td>\n",
       "      <td>...</td>\n",
       "      <td>...</td>\n",
       "      <td>...</td>\n",
       "      <td>...</td>\n",
       "      <td>...</td>\n",
       "      <td>...</td>\n",
       "      <td>...</td>\n",
       "      <td>...</td>\n",
       "      <td>...</td>\n",
       "    </tr>\n",
       "    <tr>\n",
       "      <th>958</th>\n",
       "      <td>1164</td>\n",
       "      <td>31801065</td>\n",
       "      <td>pubmed</td>\n",
       "      <td>Hyrina A (2019)</td>\n",
       "      <td>2-PMID31801065</td>\n",
       "      <td>19049</td>\n",
       "      <td>19049</td>\n",
       "      <td>Yes</td>\n",
       "      <td>38</td>\n",
       "      <td>RSA</td>\n",
       "      <td>...</td>\n",
       "      <td>Log2</td>\n",
       "      <td>RSA</td>\n",
       "      <td>-</td>\n",
       "      <td>-</td>\n",
       "      <td>-</td>\n",
       "      <td>9606</td>\n",
       "      <td>H. sapiens</td>\n",
       "      <td>authors stained Hep-G2(HBV) cells with an HBsA...</td>\n",
       "      <td>BioGRID ORCS</td>\n",
       "      <td>Anti-HBsAg (hepatitis B virus surface antigen)...</td>\n",
       "    </tr>\n",
       "    <tr>\n",
       "      <th>959</th>\n",
       "      <td>1165</td>\n",
       "      <td>31801065</td>\n",
       "      <td>pubmed</td>\n",
       "      <td>Hyrina A (2019)</td>\n",
       "      <td>3-PMID31801065</td>\n",
       "      <td>19049</td>\n",
       "      <td>19049</td>\n",
       "      <td>Yes</td>\n",
       "      <td>1</td>\n",
       "      <td>RSA</td>\n",
       "      <td>...</td>\n",
       "      <td>Log2</td>\n",
       "      <td>RSA</td>\n",
       "      <td>-</td>\n",
       "      <td>-</td>\n",
       "      <td>-</td>\n",
       "      <td>9606</td>\n",
       "      <td>H. sapiens</td>\n",
       "      <td>KO of PARP10 potentiates activity of RG7834, a...</td>\n",
       "      <td>BioGRID ORCS</td>\n",
       "      <td>Decreased hepatitis B virus antigen surface ex...</td>\n",
       "    </tr>\n",
       "    <tr>\n",
       "      <th>960</th>\n",
       "      <td>1166</td>\n",
       "      <td>31801065</td>\n",
       "      <td>pubmed</td>\n",
       "      <td>Hyrina A (2019)</td>\n",
       "      <td>4-PMID31801065</td>\n",
       "      <td>19049</td>\n",
       "      <td>19049</td>\n",
       "      <td>Yes</td>\n",
       "      <td>3</td>\n",
       "      <td>RSA</td>\n",
       "      <td>...</td>\n",
       "      <td>Log2</td>\n",
       "      <td>RSA</td>\n",
       "      <td>-</td>\n",
       "      <td>-</td>\n",
       "      <td>-</td>\n",
       "      <td>9606</td>\n",
       "      <td>H. sapiens</td>\n",
       "      <td>KO of hit genes suppresses the activity of RG7...</td>\n",
       "      <td>BioGRID ORCS</td>\n",
       "      <td>Increased hepatitis B virus antigen surface ex...</td>\n",
       "    </tr>\n",
       "    <tr>\n",
       "      <th>1005</th>\n",
       "      <td>1216</td>\n",
       "      <td>30860482</td>\n",
       "      <td>pubmed</td>\n",
       "      <td>Hong AL (2019)</td>\n",
       "      <td>1-PMID30860482</td>\n",
       "      <td>135</td>\n",
       "      <td>444</td>\n",
       "      <td>No</td>\n",
       "      <td>135</td>\n",
       "      <td>RIGER</td>\n",
       "      <td>...</td>\n",
       "      <td>p-Value</td>\n",
       "      <td>NES (Normalized enrichment score)</td>\n",
       "      <td>-</td>\n",
       "      <td>-</td>\n",
       "      <td>-</td>\n",
       "      <td>9606</td>\n",
       "      <td>H. sapiens</td>\n",
       "      <td>-</td>\n",
       "      <td>BioGRID ORCS</td>\n",
       "      <td>Cell-essential genes</td>\n",
       "    </tr>\n",
       "    <tr>\n",
       "      <th>1006</th>\n",
       "      <td>1217</td>\n",
       "      <td>30860482</td>\n",
       "      <td>pubmed</td>\n",
       "      <td>Hong AL (2019)</td>\n",
       "      <td>2-PMID30860482</td>\n",
       "      <td>124</td>\n",
       "      <td>444</td>\n",
       "      <td>No</td>\n",
       "      <td>124</td>\n",
       "      <td>RIGER</td>\n",
       "      <td>...</td>\n",
       "      <td>p-Value</td>\n",
       "      <td>NES (Normalized enrichment score)</td>\n",
       "      <td>-</td>\n",
       "      <td>-</td>\n",
       "      <td>-</td>\n",
       "      <td>9606</td>\n",
       "      <td>H. sapiens</td>\n",
       "      <td>-</td>\n",
       "      <td>BioGRID ORCS</td>\n",
       "      <td>Cell-essential genes</td>\n",
       "    </tr>\n",
       "  </tbody>\n",
       "</table>\n",
       "<p>87 rows × 38 columns</p>\n",
       "</div>"
      ],
      "text/plain": [
       "      orcs_screen_id source_id source_type                author     screen_name  scores_size  full_size full_size_available  number_of_hits analysis  ...     score.1_type                       score.2_type score.3_type score.4_type score.5_type taxon_ncbi organism_official                                              notes        source                                   screen_rationale\n",
       "44               141  27869803      pubmed    Steinhart Z (2017)  1-PMID27869803        17226      17226                 Yes            2174    BAGEL  ...     Bayes Factor                                  -            -            -            -       9606        H. sapiens  Genes with a Bayes Factor (BF) above the thres...  BioGRID ORCS                               Cell-essential genes\n",
       "45               142  27869803      pubmed    Steinhart Z (2017)  2-PMID27869803        17226      17226                 Yes            2072    BAGEL  ...     Bayes Factor                                  -            -            -            -       9606        H. sapiens  Genes with a Bayes Factor (BF) above the thres...  BioGRID ORCS                               Cell-essential genes\n",
       "46               143  27869803      pubmed    Steinhart Z (2017)  3-PMID27869803        17226      17226                 Yes             936    BAGEL  ...     Bayes Factor                                  -            -            -            -       9606        H. sapiens  Genes with a Bayes Factor (BF) above the thres...  BioGRID ORCS                               Cell-essential genes\n",
       "69               178  28894007      pubmed  Gulbranson DR (2017)  1-PMID28894007        18737      18737                 Yes             329   MaGeCK  ...          p-Value                                FDR            -            -            -       9606        H. sapiens  Authors screened cells for exocytosis defects....  BioGRID ORCS                                         Exocytosis\n",
       "293              405  28775154      pubmed     Stewart SE (2017)  1-PMID28775154        20916      20916                 Yes            1174      RSA  ...  Log10 (p-value)                                  -            -            -            -       9606        H. sapiens  Authors screened for genes  required for cell ...  BioGRID ORCS            Regulators or GAL3 surface localization\n",
       "...              ...       ...         ...                   ...             ...          ...        ...                 ...             ...      ...  ...              ...                                ...          ...          ...          ...        ...               ...                                                ...           ...                                                ...\n",
       "958             1164  31801065      pubmed       Hyrina A (2019)  2-PMID31801065        19049      19049                 Yes              38      RSA  ...             Log2                                RSA            -            -            -       9606        H. sapiens  authors stained Hep-G2(HBV) cells with an HBsA...  BioGRID ORCS  Anti-HBsAg (hepatitis B virus surface antigen)...\n",
       "959             1165  31801065      pubmed       Hyrina A (2019)  3-PMID31801065        19049      19049                 Yes               1      RSA  ...             Log2                                RSA            -            -            -       9606        H. sapiens  KO of PARP10 potentiates activity of RG7834, a...  BioGRID ORCS  Decreased hepatitis B virus antigen surface ex...\n",
       "960             1166  31801065      pubmed       Hyrina A (2019)  4-PMID31801065        19049      19049                 Yes               3      RSA  ...             Log2                                RSA            -            -            -       9606        H. sapiens  KO of hit genes suppresses the activity of RG7...  BioGRID ORCS  Increased hepatitis B virus antigen surface ex...\n",
       "1005            1216  30860482      pubmed        Hong AL (2019)  1-PMID30860482          135        444                  No             135    RIGER  ...          p-Value  NES (Normalized enrichment score)            -            -            -       9606        H. sapiens                                                  -  BioGRID ORCS                               Cell-essential genes\n",
       "1006            1217  30860482      pubmed        Hong AL (2019)  2-PMID30860482          124        444                  No             124    RIGER  ...          p-Value  NES (Normalized enrichment score)            -            -            -       9606        H. sapiens                                                  -  BioGRID ORCS                               Cell-essential genes\n",
       "\n",
       "[87 rows x 38 columns]"
      ]
     },
     "execution_count": 65,
     "metadata": {},
     "output_type": "execute_result"
    }
   ],
   "source": [
    "orcs_studies[orcs_studies['source_id'].astype(int).isin(gene2pubmed['pubmed_id']) & \n",
    "             (orcs_studies['taxon_ncbi'] == 9606)]#['source_id'].value_counts()"
   ]
  },
  {
   "cell_type": "code",
   "execution_count": 71,
   "id": "208cc941",
   "metadata": {},
   "outputs": [
    {
     "data": {
      "text/plain": [
       "0"
      ]
     },
     "execution_count": 71,
     "metadata": {},
     "output_type": "execute_result"
    }
   ],
   "source": [
    "(orcs_results[orcs_results['orcs_screen_id'].isin([1216, 1217])]['gene_ncbi'] == 11065).sum()"
   ]
  },
  {
   "cell_type": "code",
   "execution_count": null,
   "id": "d2936f4c",
   "metadata": {},
   "outputs": [],
   "source": []
  }
 ],
 "metadata": {
  "kernelspec": {
   "display_name": "Python 3 (ipykernel)",
   "language": "python",
   "name": "python3"
  },
  "language_info": {
   "codemirror_mode": {
    "name": "ipython",
    "version": 3
   },
   "file_extension": ".py",
   "mimetype": "text/x-python",
   "name": "python",
   "nbconvert_exporter": "python",
   "pygments_lexer": "ipython3",
   "version": "3.9.12"
  }
 },
 "nbformat": 4,
 "nbformat_minor": 5
}
