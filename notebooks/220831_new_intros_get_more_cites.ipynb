{
 "cells": [
  {
   "cell_type": "code",
   "execution_count": 1,
   "id": "ed0ada52",
   "metadata": {},
   "outputs": [],
   "source": [
    "import numpy as np\n",
    "import pandas as pd\n",
    "import scipy\n",
    "\n",
    "from IPython.display import clear_output\n",
    "\n",
    "import sys\n",
    "sys.path.append('../../../../Documents/GitHub/gustav/src/')\n",
    "\n",
    "from gustav import ebi, ncbi, nlm, biogrid, nih\n",
    "from gustav import publications\n",
    "from gustav import github\n",
    "from gustav import access_framework\n",
    "from gustav import mapper\n",
    "\n",
    "import matplotlib as mpl\n",
    "import matplotlib.pyplot as plt\n",
    "import seaborn as sns\n",
    "\n",
    "sys.path.append('../general/src/')\n",
    "from manuscript import export\n",
    "from manuscript import inout\n",
    "from manuscript import datasets\n",
    "from manuscript import tools\n",
    "\n",
    "from sklearn.metrics import auc\n",
    "from scipy.stats import fisher_exact\n",
    "pd.options.display.precision = 3\n",
    "pd.options.display.expand_frame_repr = False\n",
    "pd.options.display.max_columns = 20"
   ]
  },
  {
   "cell_type": "code",
   "execution_count": 2,
   "id": "e4ace651",
   "metadata": {},
   "outputs": [],
   "source": [
    "taxon = 9606"
   ]
  },
  {
   "cell_type": "code",
   "execution_count": 3,
   "id": "bef22e77",
   "metadata": {},
   "outputs": [
    {
     "name": "stderr",
     "output_type": "stream",
     "text": [
      "C:\\Users\\richa\\Documents\\GitHub\\promising_genes\\notebooks\\../../../../Documents/GitHub/gustav/src\\gustav\\utils.py:52: FutureWarning: In a future version of pandas all arguments of DataFrame.drop except for the argument 'labels' will be keyword-only.\n",
      "  df_with_delimiter.drop(column, 1).reset_index(),\n",
      "C:\\Users\\richa\\Documents\\GitHub\\promising_genes\\notebooks\\../../../../Documents/GitHub/gustav/src\\gustav\\utils.py:63: FutureWarning: In a future version of pandas all arguments of DataFrame.drop except for the argument 'labels' will be keyword-only.\n",
      "  joined = joined.drop('helper_index', 1)\n"
     ]
    }
   ],
   "source": [
    "gene_flavor = 'ou'\n",
    "ref_genes = datasets.reference_genes(taxon, gene_flavor)"
   ]
  },
  {
   "cell_type": "code",
   "execution_count": 4,
   "id": "c782763c",
   "metadata": {},
   "outputs": [],
   "source": [
    "ref_literature = datasets.reference_publications(taxon)"
   ]
  },
  {
   "cell_type": "code",
   "execution_count": 5,
   "id": "5fb06166",
   "metadata": {},
   "outputs": [],
   "source": [
    "agg = []\n",
    "literature_flavor = 'pubtator_title_or_abstract_in_any_gene2pubmed_paper'\n",
    "\n",
    "gene2lit = datasets.reference_gene2lit(\n",
    "    taxon, \n",
    "    literature_flavor)\n",
    "gene2lit = gene2lit[\n",
    "    gene2lit['gene_ncbi'].isin(ref_genes) & \n",
    "    gene2lit['pubmed_id'].isin(ref_literature)\n",
    "].copy()"
   ]
  },
  {
   "cell_type": "code",
   "execution_count": 6,
   "id": "eb6d1b71",
   "metadata": {},
   "outputs": [
    {
     "name": "stdout",
     "output_type": "stream",
     "text": [
      "CPU times: total: 1.81 s\n",
      "Wall time: 2.21 s\n"
     ]
    }
   ],
   "source": [
    "%%time\n",
    "ml = ncbi.pubmed('main', ['pubmed_id', 'year'])"
   ]
  },
  {
   "cell_type": "code",
   "execution_count": 7,
   "id": "343cda8e",
   "metadata": {},
   "outputs": [
    {
     "name": "stdout",
     "output_type": "stream",
     "text": [
      "CPU times: total: 125 ms\n",
      "Wall time: 124 ms\n"
     ]
    }
   ],
   "source": [
    "%%time\n",
    "gene2pubmed = gene2lit #ncbi.gene2pubmed(taxon_ncbi=9606)\n",
    "large_pubs = gene2pubmed['pubmed_id'].value_counts()[gene2pubmed['pubmed_id'].value_counts() >= 100].index.values\n",
    "#gene2pubmed = gene2pubmed[~gene2pubmed['pubmed_id'].isin(large_pubs)]\n",
    "\n",
    "gene2pubmed_dict = gene2pubmed[~gene2pubmed['pubmed_id'].isin(large_pubs)].value_counts('gene_ncbi').to_dict()"
   ]
  },
  {
   "cell_type": "code",
   "execution_count": 8,
   "id": "cdb1a726",
   "metadata": {},
   "outputs": [],
   "source": [
    "time_range_of_interest = range(2014, 2019)\n",
    "taxon_of_interest = 9606\n",
    "\n",
    "#gene2pubmed = ncbi.gene2pubmed(taxon_ncbi=taxon_of_interest)\n",
    "#large_pubs = gene2pubmed['pubmed_id'].value_counts()[gene2pubmed['pubmed_id'].value_counts() >= 100].index.values\n",
    "#gene2pubmed = gene2pubmed[~gene2pubmed['pubmed_id'].isin(large_pubs)]\n",
    "\n",
    "gene2pubmed = pd.merge(\n",
    "    gene2pubmed[['gene_ncbi', 'pubmed_id']].drop_duplicates(),\n",
    "    ncbi.pubmed('main', ['pubmed_id', 'year']).drop_duplicates()\n",
    ")\n",
    "\n",
    "agg = dict()\n",
    "for year in time_range_of_interest:\n",
    "     agg[year] = gene2pubmed[\n",
    "         gene2pubmed['year']<year\n",
    "     ]['gene_ncbi'].value_counts().reindex(ref_genes).fillna(0)\n",
    "\n",
    "popularity = pd.DataFrame(agg).rename_axis(index='gene_ncbi', columns='year')\n",
    "popularity = popularity.rank(pct=True).stack().to_frame('popularity_percentile').reset_index()\n",
    "\n",
    "icite_studies = nih.icite(\n",
    "    'studies', \n",
    "    columns=['pubmed_id', 'year', 'citations_per_year']\n",
    ").drop_duplicates().dropna()\n",
    "\n",
    "icite_studies = icite_studies[\n",
    "    icite_studies['pubmed_id'].isin(gene2pubmed['pubmed_id'])].copy()\n",
    "\n",
    "citations = icite_studies.set_index(\n",
    "    'pubmed_id', verify_integrity=True\n",
    ").groupby('year')['citations_per_year'].rank(pct=True).to_frame('citation_percentile').reset_index()\n",
    "\n",
    "\n",
    "meshs = ncbi.pubmed('mesh_terms')\n",
    "\n",
    "# get publications corresponding to introduction of a MeSH term (note: does not consider children of MeSH)\n",
    "helper = pd.merge(\n",
    "    gene2pubmed, \n",
    "    meshs)\n",
    "\n",
    "all_gene_pubs = pd.merge(helper, citations)\n",
    "all_gene_pubs = all_gene_pubs[all_gene_pubs['year'].isin(time_range_of_interest)]\n",
    "\n",
    "keeper = helper.groupby(['gene_ncbi', 'mesh_terms'])['year'].min().to_frame('year').reset_index()\n",
    "helper = pd.merge(helper, keeper)\n",
    "\n",
    "toy = pd.merge(helper, citations)\n",
    "toy = pd.merge(toy, popularity)"
   ]
  },
  {
   "cell_type": "code",
   "execution_count": 9,
   "id": "3f3f9592",
   "metadata": {},
   "outputs": [],
   "source": [
    "results = pd.DataFrame(all_gene_pubs.groupby('mesh_terms').median()['citation_percentile'])\n",
    "results.columns = ['citation_percentile_all']\n",
    "results['citation_percentile_intro'] = toy.groupby('mesh_terms').median()['citation_percentile']\n",
    "results['n_pubs_all'] = all_gene_pubs.groupby('mesh_terms').nunique()['pubmed_id']\n",
    "results['n_pubs_intro'] = toy.groupby('mesh_terms').nunique()['pubmed_id']\n",
    "results = results.reset_index()\n",
    "results = results.rename(columns={'mesh_terms':'term'})"
   ]
  },
  {
   "cell_type": "code",
   "execution_count": 10,
   "id": "5e709505",
   "metadata": {},
   "outputs": [],
   "source": [
    "mesh_library = nlm.mesh('ui2mn')\n",
    "disease_ui = mesh_library[mesh_library['mn'].str.startswith('C')]['ui'].values\n",
    "results['ui'] = results['term'].apply(lambda x: x.split(':')[0])"
   ]
  },
  {
   "cell_type": "code",
   "execution_count": 12,
   "id": "cc535b1b",
   "metadata": {},
   "outputs": [],
   "source": [
    "results['disease_term'] = results['ui'].isin(disease_ui)"
   ]
  },
  {
   "cell_type": "code",
   "execution_count": 13,
   "id": "2355deeb",
   "metadata": {},
   "outputs": [],
   "source": [
    "results.to_csv('../data/new_gene_introductions_vs_old_genes_by_mesh.csv', index=False)"
   ]
  },
  {
   "cell_type": "code",
   "execution_count": 60,
   "id": "3a429655",
   "metadata": {},
   "outputs": [
    {
     "name": "stderr",
     "output_type": "stream",
     "text": [
      "meta NOT subset; don't know how to subset; dropped\n",
      "meta NOT subset; don't know how to subset; dropped\n"
     ]
    },
    {
     "data": {
      "image/png": "[encoded data removed]",
      "text/plain": [
       "<Figure size 360x360 with 1 Axes>"
      ]
     },
     "metadata": {
      "needs_background": "light"
     },
     "output_type": "display_data"
    }
   ],
   "source": [
    "fig = plt.figure(figsize=(5,5))\n",
    "ax = plt.gca()\n",
    "\n",
    "results_slice = results[(results['ui'].isin(disease_ui)) & \n",
    "                        (results['n_pubs_all'] - results['n_pubs_intro'] >= 15) & \n",
    "                        (results['n_pubs_intro'] >= 15)].copy()\n",
    "\n",
    "stat, p = scipy.stats.wilcoxon(results_slice['citation_percentile_all'], \n",
    "                     results_slice['citation_percentile_intro'])\n",
    "\n",
    "ax.scatter(results_slice['citation_percentile_all'], \n",
    "            results_slice['citation_percentile_intro'], \n",
    "           alpha=0.25, linewidth=0)\n",
    "\n",
    "ax.plot([0,1], [0,1], \n",
    "        zorder=-1, color='k', alpha=0.5, linestyle='dashed')\n",
    "\n",
    "pc_above = np.mean(results_slice['citation_percentile_all'] < results_slice['citation_percentile_intro'])\n",
    "\n",
    "ax.text(s='{:.1f}%'.format(100*pc_above), \n",
    "        x=0.25, y=0.75, \n",
    "        ha='center', va='center', \n",
    "        fontsize=16)\n",
    "\n",
    "ax.text(s='{:.1f}%'.format(100*(1-pc_above)), \n",
    "        x=0.75, y=0.25, \n",
    "        ha='center', va='center', \n",
    "        fontsize=16)\n",
    "\n",
    "ax.text(s='\\nn = {:.0f}'.format(len(results_slice)) + \n",
    "        '\\nW = {:.0f}'.format(stat) + '\\np = {:.2e}'.format(p), \n",
    "        x=1, y=0.4, \n",
    "        ha='left', va='center', \n",
    "        fontsize=16)\n",
    "\n",
    "ax.tick_params(labelsize=14)\n",
    "ax.set_ylabel('Citation percentile, gene intros', fontsize=16)\n",
    "ax.set_xlabel('Citation percentile, all gene articles', fontsize=16)\n",
    "[ax.spines[i].set_linewidth(1.5) for i in ax.spines]\n",
    "ax.spines['top'].set_visible(False)\n",
    "ax.spines['right'].set_visible(False)\n",
    "ax.set_xlim([-0.03,1.03])\n",
    "ax.set_ylim([-0.03,1.03])\n",
    "ax.set_xticks([0,0.25,0.5,0.75,1.0], labels=[0,25,50,75,100])\n",
    "ax.set_yticks([0,0.25,0.5,0.75,1.0], labels=[0,25,50,75,100])\n",
    "\n",
    "plt.savefig('../img/supp_fig_intros_get_more_220831.png', dpi=200, bbox_inches='tight')\n",
    "plt.savefig('../img/supp_fig_intros_get_more_220831.pdf', bbox_inches='tight')\n",
    "\n",
    "export.image('general', p='figures/supp_fig_intros_get_more_.pdf', date=True)\n",
    "export.raster_image('general', p='figures/supp_fig_intros_get_more_.png', date=True, dpi=600)"
   ]
  },
  {
   "cell_type": "code",
   "execution_count": 56,
   "id": "081b0cd1",
   "metadata": {},
   "outputs": [
    {
     "data": {
      "text/plain": [
       "0.6053571428571428"
      ]
     },
     "execution_count": 56,
     "metadata": {},
     "output_type": "execute_result"
    }
   ],
   "source": [
    "np.mean(results_slice['citation_percentile_all'] < results_slice['citation_percentile_intro'])"
   ]
  },
  {
   "cell_type": "code",
   "execution_count": 57,
   "id": "b01c366a",
   "metadata": {},
   "outputs": [
    {
     "data": {
      "text/plain": [
       "WilcoxonResult(statistic=38186.5, pvalue=1.0609319938931437e-17)"
      ]
     },
     "execution_count": 57,
     "metadata": {},
     "output_type": "execute_result"
    }
   ],
   "source": [
    "scipy.stats.wilcoxon(results_slice['citation_percentile_all'], \n",
    "                     results_slice['citation_percentile_intro'])"
   ]
  },
  {
   "cell_type": "code",
   "execution_count": 58,
   "id": "6f689f29",
   "metadata": {},
   "outputs": [
    {
     "data": {
      "text/plain": [
       "1.0609319938931437e-17"
      ]
     },
     "execution_count": 58,
     "metadata": {},
     "output_type": "execute_result"
    }
   ],
   "source": [
    "p"
   ]
  },
  {
   "cell_type": "code",
   "execution_count": 61,
   "id": "075deba8",
   "metadata": {},
   "outputs": [],
   "source": [
    "results_slice['delta'] = results_slice['citation_percentile_intro'] - results_slice['citation_percentile_all']"
   ]
  },
  {
   "cell_type": "code",
   "execution_count": 65,
   "id": "cd3d7f2f",
   "metadata": {},
   "outputs": [
    {
     "data": {
      "text/html": [
       "<div>\n",
       "<style scoped>\n",
       "    .dataframe tbody tr th:only-of-type {\n",
       "        vertical-align: middle;\n",
       "    }\n",
       "\n",
       "    .dataframe tbody tr th {\n",
       "        vertical-align: top;\n",
       "    }\n",
       "\n",
       "    .dataframe thead th {\n",
       "        text-align: right;\n",
       "    }\n",
       "</style>\n",
       "<table border=\"1\" class=\"dataframe\">\n",
       "  <thead>\n",
       "    <tr style=\"text-align: right;\">\n",
       "      <th></th>\n",
       "      <th>term</th>\n",
       "      <th>citation_percentile_all</th>\n",
       "      <th>citation_percentile_intro</th>\n",
       "      <th>n_pubs_all</th>\n",
       "      <th>n_pubs_intro</th>\n",
       "      <th>ui</th>\n",
       "      <th>delta</th>\n",
       "    </tr>\n",
       "  </thead>\n",
       "  <tbody>\n",
       "    <tr>\n",
       "      <th>9088</th>\n",
       "      <td>D014071:Tooth Abnormalities</td>\n",
       "      <td>0.377</td>\n",
       "      <td>0.704</td>\n",
       "      <td>44</td>\n",
       "      <td>16.0</td>\n",
       "      <td>D014071</td>\n",
       "      <td>0.327</td>\n",
       "    </tr>\n",
       "    <tr>\n",
       "      <th>6566</th>\n",
       "      <td>D009503:Neutropenia</td>\n",
       "      <td>0.407</td>\n",
       "      <td>0.722</td>\n",
       "      <td>75</td>\n",
       "      <td>23.0</td>\n",
       "      <td>D009503</td>\n",
       "      <td>0.316</td>\n",
       "    </tr>\n",
       "    <tr>\n",
       "      <th>6344</th>\n",
       "      <td>D009136:Muscular Dystrophies</td>\n",
       "      <td>0.455</td>\n",
       "      <td>0.754</td>\n",
       "      <td>68</td>\n",
       "      <td>27.0</td>\n",
       "      <td>D009136</td>\n",
       "      <td>0.299</td>\n",
       "    </tr>\n",
       "    <tr>\n",
       "      <th>10885</th>\n",
       "      <td>D017545:Aortic Aneurysm, Thoracic</td>\n",
       "      <td>0.508</td>\n",
       "      <td>0.802</td>\n",
       "      <td>63</td>\n",
       "      <td>32.0</td>\n",
       "      <td>D017545</td>\n",
       "      <td>0.294</td>\n",
       "    </tr>\n",
       "    <tr>\n",
       "      <th>6822</th>\n",
       "      <td>D010009:Osteochondrodysplasias</td>\n",
       "      <td>0.342</td>\n",
       "      <td>0.633</td>\n",
       "      <td>148</td>\n",
       "      <td>57.0</td>\n",
       "      <td>D010009</td>\n",
       "      <td>0.291</td>\n",
       "    </tr>\n",
       "    <tr>\n",
       "      <th>3141</th>\n",
       "      <td>D003560:Cysts</td>\n",
       "      <td>0.421</td>\n",
       "      <td>0.684</td>\n",
       "      <td>54</td>\n",
       "      <td>29.0</td>\n",
       "      <td>D003560</td>\n",
       "      <td>0.263</td>\n",
       "    </tr>\n",
       "    <tr>\n",
       "      <th>4019</th>\n",
       "      <td>D005199:Fanconi Anemia</td>\n",
       "      <td>0.542</td>\n",
       "      <td>0.792</td>\n",
       "      <td>95</td>\n",
       "      <td>28.0</td>\n",
       "      <td>D005199</td>\n",
       "      <td>0.249</td>\n",
       "    </tr>\n",
       "    <tr>\n",
       "      <th>10390</th>\n",
       "      <td>D016511:Severe Combined Immunodeficiency</td>\n",
       "      <td>0.573</td>\n",
       "      <td>0.812</td>\n",
       "      <td>38</td>\n",
       "      <td>15.0</td>\n",
       "      <td>D016511</td>\n",
       "      <td>0.239</td>\n",
       "    </tr>\n",
       "    <tr>\n",
       "      <th>14049</th>\n",
       "      <td>D049288:Muscular Dystrophies, Limb-Girdle</td>\n",
       "      <td>0.377</td>\n",
       "      <td>0.610</td>\n",
       "      <td>79</td>\n",
       "      <td>20.0</td>\n",
       "      <td>D049288</td>\n",
       "      <td>0.233</td>\n",
       "    </tr>\n",
       "    <tr>\n",
       "      <th>13492</th>\n",
       "      <td>D040181:Genetic Diseases, X-Linked</td>\n",
       "      <td>0.396</td>\n",
       "      <td>0.617</td>\n",
       "      <td>202</td>\n",
       "      <td>71.0</td>\n",
       "      <td>D040181</td>\n",
       "      <td>0.221</td>\n",
       "    </tr>\n",
       "  </tbody>\n",
       "</table>\n",
       "</div>"
      ],
      "text/plain": [
       "                                            term  citation_percentile_all  citation_percentile_intro  n_pubs_all  n_pubs_intro       ui  delta\n",
       "9088                 D014071:Tooth Abnormalities                    0.377                      0.704          44          16.0  D014071  0.327\n",
       "6566                         D009503:Neutropenia                    0.407                      0.722          75          23.0  D009503  0.316\n",
       "6344                D009136:Muscular Dystrophies                    0.455                      0.754          68          27.0  D009136  0.299\n",
       "10885          D017545:Aortic Aneurysm, Thoracic                    0.508                      0.802          63          32.0  D017545  0.294\n",
       "6822              D010009:Osteochondrodysplasias                    0.342                      0.633         148          57.0  D010009  0.291\n",
       "3141                               D003560:Cysts                    0.421                      0.684          54          29.0  D003560  0.263\n",
       "4019                      D005199:Fanconi Anemia                    0.542                      0.792          95          28.0  D005199  0.249\n",
       "10390   D016511:Severe Combined Immunodeficiency                    0.573                      0.812          38          15.0  D016511  0.239\n",
       "14049  D049288:Muscular Dystrophies, Limb-Girdle                    0.377                      0.610          79          20.0  D049288  0.233\n",
       "13492         D040181:Genetic Diseases, X-Linked                    0.396                      0.617         202          71.0  D040181  0.221"
      ]
     },
     "execution_count": 65,
     "metadata": {},
     "output_type": "execute_result"
    }
   ],
   "source": [
    "results_slice.sort_values('delta', ascending=False).head(10)"
   ]
  },
  {
   "cell_type": "code",
   "execution_count": null,
   "id": "6084ab2a",
   "metadata": {},
   "outputs": [],
   "source": []
  }
 ],
 "metadata": {
  "kernelspec": {
   "display_name": "Python 3 (ipykernel)",
   "language": "python",
   "name": "python3"
  },
  "language_info": {
   "codemirror_mode": {
    "name": "ipython",
    "version": 3
   },
   "file_extension": ".py",
   "mimetype": "text/x-python",
   "name": "python",
   "nbconvert_exporter": "python",
   "pygments_lexer": "ipython3",
   "version": "3.9.12"
  }
 },
 "nbformat": 4,
 "nbformat_minor": 5
}
