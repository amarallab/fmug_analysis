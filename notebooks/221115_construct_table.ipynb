{
 "cells": [
  {
   "cell_type": "code",
   "execution_count": 1,
   "id": "78ee4f42",
   "metadata": {},
   "outputs": [],
   "source": [
    "import numpy as np\n",
    "import pandas as pd\n",
    "import scipy\n",
    "\n",
    "from IPython.display import clear_output\n",
    "\n",
    "import sys\n",
    "sys.path.append('../../../../Documents/GitHub/gustav/src/')\n",
    "\n",
    "from gustav import ebi, ncbi, nlm, biogrid, nih\n",
    "from gustav import publications\n",
    "from gustav import github\n",
    "from gustav import access_framework\n",
    "from gustav import mapper\n",
    "\n",
    "import matplotlib as mpl\n",
    "import matplotlib.pyplot as plt\n",
    "import seaborn as sns\n",
    "\n",
    "sys.path.append('../general/src/')\n",
    "from manuscript import export\n",
    "from manuscript import inout\n",
    "from manuscript import datasets\n",
    "from manuscript import tools\n",
    "\n",
    "from sklearn.metrics import auc\n",
    "from scipy.stats import fisher_exact\n",
    "pd.options.display.precision = 3\n",
    "pd.options.display.expand_frame_repr = False\n",
    "pd.options.display.max_columns = 20"
   ]
  },
  {
   "cell_type": "markdown",
   "id": "145110ea",
   "metadata": {},
   "source": [
    "Number of publications, P(DE), selected vs not selected for title/abstract"
   ]
  },
  {
   "cell_type": "code",
   "execution_count": 2,
   "id": "7aa06e35",
   "metadata": {},
   "outputs": [
    {
     "name": "stderr",
     "output_type": "stream",
     "text": [
      "C:\\Users\\richa\\Documents\\GitHub\\promising_genes\\notebooks\\../../../../Documents/GitHub/gustav/src\\gustav\\utils.py:52: FutureWarning: In a future version of pandas all arguments of DataFrame.drop except for the argument 'labels' will be keyword-only.\n",
      "  df_with_delimiter.drop(column, 1).reset_index(),\n",
      "C:\\Users\\richa\\Documents\\GitHub\\promising_genes\\notebooks\\../../../../Documents/GitHub/gustav/src\\gustav\\utils.py:63: FutureWarning: In a future version of pandas all arguments of DataFrame.drop except for the argument 'labels' will be keyword-only.\n",
      "  joined = joined.drop('helper_index', 1)\n"
     ]
    },
    {
     "name": "stdout",
     "output_type": "stream",
     "text": [
      "CPU times: total: 23.1 s\n",
      "Wall time: 23.6 s\n"
     ]
    }
   ],
   "source": [
    "%%time\n",
    "\n",
    "taxon = 9606\n",
    "\n",
    "gene_info = ncbi.gene_info(taxon, mode='unambiguous_ensembl')\n",
    "\n",
    "ref_genes = gene_info[\n",
    "    (gene_info['type_of_gene']=='protein-coding') &\n",
    "    (gene_info['nomenclature_status']=='O')   # Carries an official gene symbol\n",
    "]['gene_ncbi']\n",
    "\n",
    "de = ebi.gxa(\n",
    "    'de_{}_entrez'.format(taxon),\n",
    "    columns=['comparison_key', 'gene_ncbi', 'p-value', 'log2foldchange']\n",
    ")\n",
    "\n",
    "de = de.drop_duplicates(subset=['comparison_key', 'gene_ncbi'], keep='first')\n",
    "\n",
    "contrasts = ebi.gxa(\n",
    "    'contrasts',\n",
    "    columns=['comparison_key', 'experiment']\n",
    ")\n",
    "\n",
    "studies = ebi.gxa(\n",
    "    'studies',\n",
    "    columns=['experiment', 'qualifier', 'value']\n",
    ")\n",
    "\n",
    "study_types = studies[\n",
    "    studies['qualifier'].str.contains('[AEExperimentType]', regex=False)\n",
    "].drop_duplicates()\n",
    "study_types['value'] = study_types['value'].str.strip(' ').str.strip('\"')\n",
    "study_types = study_types[['experiment', 'value']].rename(columns={'value': 'type'})\n",
    "study_types = study_types.drop_duplicates()\n",
    "\n",
    "study_types = study_types.drop_duplicates('experiment', keep=False)\n",
    "\n",
    "study_types = study_types[\n",
    "    study_types['type'].isin(\n",
    "        [\n",
    "           'transcription profiling by array',\n",
    "           'RNA-seq of coding RNA' \n",
    "        ]\n",
    "    )\n",
    "].replace(\n",
    "    {\n",
    "       'transcription profiling by array': 'array',\n",
    "       'RNA-seq of coding RNA': 'rna_seq' \n",
    "    }\n",
    ")\n",
    "\n",
    "main = pd.merge(\n",
    "    de,\n",
    "    pd.merge(\n",
    "        contrasts,\n",
    "        study_types\n",
    "    )[['comparison_key', 'type']]\n",
    ")\n",
    "\n",
    "main = main[main['gene_ncbi'].isin(ref_genes)]"
   ]
  },
  {
   "cell_type": "code",
   "execution_count": 3,
   "id": "2594340c",
   "metadata": {},
   "outputs": [],
   "source": [
    "table = gene_info.set_index('gene_ncbi')"
   ]
  },
  {
   "cell_type": "code",
   "execution_count": 4,
   "id": "bcef38ae",
   "metadata": {},
   "outputs": [
    {
     "name": "stderr",
     "output_type": "stream",
     "text": [
      "C:\\Users\\richa\\Documents\\GitHub\\promising_genes\\notebooks\\../../../../Documents/GitHub/gustav/src\\gustav\\utils.py:52: FutureWarning: In a future version of pandas all arguments of DataFrame.drop except for the argument 'labels' will be keyword-only.\n",
      "  df_with_delimiter.drop(column, 1).reset_index(),\n",
      "C:\\Users\\richa\\Documents\\GitHub\\promising_genes\\notebooks\\../../../../Documents/GitHub/gustav/src\\gustav\\utils.py:63: FutureWarning: In a future version of pandas all arguments of DataFrame.drop except for the argument 'labels' will be keyword-only.\n",
      "  joined = joined.drop('helper_index', 1)\n"
     ]
    }
   ],
   "source": [
    "gene_flavor = 'ou'\n",
    "ref_genes = datasets.reference_genes(taxon, gene_flavor)"
   ]
  },
  {
   "cell_type": "code",
   "execution_count": 5,
   "id": "1e61417d",
   "metadata": {},
   "outputs": [],
   "source": [
    "ref_literature = datasets.reference_publications(taxon)"
   ]
  },
  {
   "cell_type": "code",
   "execution_count": 6,
   "id": "4f4ebecf",
   "metadata": {},
   "outputs": [],
   "source": [
    "agg = []\n",
    "literature_flavor = 'pubtator_title_or_abstract_in_any_gene2pubmed_paper'\n",
    "\n",
    "gene2lit = datasets.reference_gene2lit(\n",
    "    taxon, \n",
    "    literature_flavor)\n",
    "gene2lit = gene2lit[\n",
    "    gene2lit['gene_ncbi'].isin(ref_genes) & \n",
    "    gene2lit['pubmed_id'].isin(ref_literature)\n",
    "].copy()"
   ]
  },
  {
   "cell_type": "code",
   "execution_count": 7,
   "id": "9551a6b0",
   "metadata": {},
   "outputs": [],
   "source": [
    "studies.loc[(studies['qualifier'] == 'PubMed ID') | \n",
    "        (studies['qualifier'] == 'Pubmed ID') | \n",
    "        (studies['qualifier'] == 'pubmedID') | \n",
    "        (studies['qualifier'] == 'PubMed ID       ') | \n",
    "        (studies['qualifier'] == '''\"Pubmed ID\"''') | \n",
    "        (studies['qualifier'] == 'PubMedID') | \n",
    "        (studies['qualifier'] == 'PubMed Id') | \n",
    "        (studies['qualifier'] == 'PubmedID') |\n",
    "        (studies['qualifier'] == 'PubMed ID '), ['qualifier']] = 'pubmed_id'\n",
    "\n",
    "pubmed_ids_df  = studies[studies['qualifier'] == 'pubmed_id']\n",
    "\n",
    "pubmed_ids_df = pd.merge(contrasts, pubmed_ids_df, how='left').rename(columns={'value':'pubmed_id'})"
   ]
  },
  {
   "cell_type": "code",
   "execution_count": 8,
   "id": "e84ef25e",
   "metadata": {},
   "outputs": [
    {
     "name": "stdout",
     "output_type": "stream",
     "text": [
      "CPU times: total: 109 ms\n",
      "Wall time: 119 ms\n"
     ]
    }
   ],
   "source": [
    "%%time\n",
    "gene2pubmed = gene2lit #ncbi.gene2pubmed(taxon_ncbi=9606)\n",
    "large_pubs = gene2pubmed['pubmed_id'].value_counts()[gene2pubmed['pubmed_id'].value_counts() >= 100].index.values\n",
    "#gene2pubmed = gene2pubmed[~gene2pubmed['pubmed_id'].isin(large_pubs)]\n",
    "\n",
    "gene2pubmed_dict = gene2pubmed[~gene2pubmed['pubmed_id'].isin(large_pubs)].value_counts('gene_ncbi').to_dict()"
   ]
  },
  {
   "cell_type": "code",
   "execution_count": 9,
   "id": "076869e9",
   "metadata": {},
   "outputs": [],
   "source": [
    "gene2pubmed_get_genes_dict = gene2pubmed.groupby('pubmed_id')['gene_ncbi'].apply(set).to_dict()"
   ]
  },
  {
   "cell_type": "code",
   "execution_count": 10,
   "id": "4e3bba25",
   "metadata": {},
   "outputs": [
    {
     "name": "stdout",
     "output_type": "stream",
     "text": [
      "CPU times: total: 922 ms\n",
      "Wall time: 920 ms\n"
     ]
    }
   ],
   "source": [
    "%%time\n",
    "pubmed_ids_df = pubmed_ids_df[(pubmed_ids_df['comparison_key'].isin(np.unique(main['comparison_key']))) & \n",
    "              (pubmed_ids_df['pubmed_id'].isin(gene2pubmed['pubmed_id'].astype(str)))].dropna()\\\n",
    "\n",
    "pubmed_ids_df['pubmed_id'] = pubmed_ids_df['pubmed_id'].astype(int)"
   ]
  },
  {
   "cell_type": "code",
   "execution_count": 11,
   "id": "8942979e",
   "metadata": {},
   "outputs": [],
   "source": [
    "pubmed_id_to_comparison_dict = pubmed_ids_df.groupby('pubmed_id')['comparison_key'].apply(set).to_dict()"
   ]
  },
  {
   "cell_type": "code",
   "execution_count": 12,
   "id": "966f269a",
   "metadata": {},
   "outputs": [
    {
     "name": "stdout",
     "output_type": "stream",
     "text": [
      "CPU times: total: 11.4 s\n",
      "Wall time: 11.4 s\n"
     ]
    }
   ],
   "source": [
    "%%time\n",
    "fdr_thresh = 0.05\n",
    "de_cond = (main['p-value'] < fdr_thresh)\n",
    "\n",
    "main['abs_log2foldchange'] = np.abs(main['log2foldchange'])\n",
    "median_abs_log2foldchange = main[de_cond].groupby('comparison_key').median()['abs_log2foldchange']\n",
    "\n",
    "main_slice = pd.merge(pd.merge(pubmed_ids_df, gene2pubmed), main[de_cond], on=['comparison_key', 'gene_ncbi'])\n",
    "median_abs_log2foldchange_mentioned_genes = main_slice.groupby('comparison_key').median()['abs_log2foldchange']\n",
    "\n",
    "comparison_by_comparison_df = \\\n",
    "pd.DataFrame({'median_abs_log2foldchange_all_genes':median_abs_log2foldchange, \n",
    "              'median_abs_log2foldchange_mentioned_genes':median_abs_log2foldchange_mentioned_genes})\n",
    "\n",
    "comparison_by_comparison_df = pd.merge(comparison_by_comparison_df.reset_index(), \n",
    "                                       main[['comparison_key', 'type']].drop_duplicates())\n",
    "\n",
    "de_dict = main[de_cond].groupby('comparison_key')['gene_ncbi'].apply(set).to_dict()\n",
    "\n",
    "main_slice = pd.merge(pd.merge(pubmed_ids_df, gene2pubmed), main[de_cond], on=['comparison_key', 'gene_ncbi'], how='inner')\n",
    "de_dict_mentioned_genes = main_slice.groupby('comparison_key')['gene_ncbi'].apply(set).to_dict()"
   ]
  },
  {
   "cell_type": "code",
   "execution_count": 13,
   "id": "49032f39",
   "metadata": {},
   "outputs": [],
   "source": [
    "def de_dict_get(comparison_key):\n",
    "    if comparison_key in list(de_dict.keys()):\n",
    "        return de_dict.get(comparison_key)\n",
    "    else:\n",
    "        return set()"
   ]
  },
  {
   "cell_type": "code",
   "execution_count": 14,
   "id": "7f5d073b",
   "metadata": {},
   "outputs": [
    {
     "name": "stdout",
     "output_type": "stream",
     "text": [
      "N RNA-seq comparisons : 501\n",
      "N RNA-seq studies : 250\n"
     ]
    }
   ],
   "source": [
    "prot_genes = set(gene_info[gene_info['type_of_gene'] == 'protein-coding']['gene_ncbi'])\n",
    "medianprops = dict(linestyle='solid', linewidth=2, color='k')\n",
    "whiskerprops = dict(linestyle='solid', linewidth=2, color='k')\n",
    "capprops = dict(linestyle='solid', linewidth=2, color='k')\n",
    "\n",
    "pad = 0.2\n",
    "\n",
    "# both\n",
    "comparison_keys = set(comparison_by_comparison_df['comparison_key'].values)\n",
    "comparison_keys = list(comparison_keys & set(pubmed_ids_df['comparison_key'].values))\n",
    "print('N RNA-seq comparisons : ' + str(len(comparison_keys)))\n",
    "print('N RNA-seq studies : ' + \\\n",
    "      str(len(pubmed_ids_df[pubmed_ids_df['comparison_key'].isin(comparison_keys)]['pubmed_id'].unique())))\n",
    "\n",
    "n_samp = 100\n",
    "de_sets = []\n",
    "de_mentioned_sets = []\n",
    "#de_mentioned_sets_null = []\n",
    "de_citations_mentioned_sets = []\n",
    "citations_mentioned_sets = []\n",
    "for comparison_key in comparison_keys:\n",
    "    de_list = de_dict.get(comparison_key)\n",
    "    #de_list_mentioned_genes = de_dict_mentioned_genes.get(comparison_key)\n",
    "    \n",
    "    if de_dict_mentioned_genes.get(comparison_key):\n",
    "        de_list_mentioned_genes = de_dict_mentioned_genes.get(comparison_key)\n",
    "    else:\n",
    "        de_list_mentioned_genes = set()\n",
    "        \n",
    "    #for n_n in range(n_samp):\n",
    "    # de_mentioned_sets_null.append(set(np.random.choice(list(de_list), \n",
    "    #                                                       replace=False, size=len(de_list_mentioned_genes))))\n",
    "        \n",
    "    de_sets.append(de_list)\n",
    "    de_mentioned_sets.append(de_list_mentioned_genes)\n",
    "    \n",
    "de_list = set().union(*de_sets) & prot_genes\n",
    "de_list_mentioned_genes = set().union(*de_mentioned_sets) & prot_genes\n",
    "#de_list_mentioned_genes_null = set().union(*de_mentioned_sets_null)"
   ]
  },
  {
   "cell_type": "code",
   "execution_count": 15,
   "id": "41ed2e71",
   "metadata": {},
   "outputs": [
    {
     "data": {
      "text/plain": [
       "18408"
      ]
     },
     "execution_count": 15,
     "metadata": {},
     "output_type": "execute_result"
    }
   ],
   "source": [
    "len(de_list)"
   ]
  },
  {
   "cell_type": "code",
   "execution_count": 16,
   "id": "ff684b15",
   "metadata": {},
   "outputs": [
    {
     "data": {
      "text/plain": [
       "161"
      ]
     },
     "execution_count": 16,
     "metadata": {},
     "output_type": "execute_result"
    }
   ],
   "source": [
    "len(de_list_mentioned_genes)"
   ]
  },
  {
   "cell_type": "code",
   "execution_count": 17,
   "id": "7769432a",
   "metadata": {},
   "outputs": [],
   "source": [
    "def make_pivot(main_df, type_exp='array'):\n",
    "    if type_exp == None:\n",
    "        pivot = main.pivot_table(index='gene_ncbi', \n",
    "                                 columns='comparison_key', \n",
    "                                 values='differentially_expressed')\n",
    "    else:\n",
    "        pivot = main[main['type'] == type_exp].pivot_table(index='gene_ncbi', \n",
    "                                                           columns='comparison_key', \n",
    "                                                           values='differentially_expressed')\n",
    "    return pivot\n",
    "        \n",
    "main['differentially_expressed'] = main['p-value'] < 0.05\n",
    "\n",
    "pivot = make_pivot(main, type_exp='rna_seq')"
   ]
  },
  {
   "cell_type": "code",
   "execution_count": 18,
   "id": "e3042c16",
   "metadata": {},
   "outputs": [],
   "source": [
    "p_de = pivot.sum(axis=1)/(len(pivot.columns) - pivot.isna().sum(axis=1))"
   ]
  },
  {
   "cell_type": "code",
   "execution_count": 19,
   "id": "29c64c3a",
   "metadata": {},
   "outputs": [],
   "source": [
    "table['p_de'] = p_de"
   ]
  },
  {
   "cell_type": "code",
   "execution_count": 20,
   "id": "f66cbef2",
   "metadata": {},
   "outputs": [],
   "source": [
    "table['n_pubs'] = [gene2pubmed_dict.get(x) for x in table.index.values]\n",
    "table['n_pubs'] = table['n_pubs'].fillna(0.0)"
   ]
  },
  {
   "cell_type": "code",
   "execution_count": 21,
   "id": "65181f42",
   "metadata": {},
   "outputs": [],
   "source": [
    "table['defined_hugo'] = table['symbol_from_nomenclature_authority'] != '-'"
   ]
  },
  {
   "cell_type": "code",
   "execution_count": 22,
   "id": "6802e7cc",
   "metadata": {},
   "outputs": [],
   "source": [
    "table['n_synonyms'] = table['synonyms'].apply(lambda x: len(x.split('|')))"
   ]
  },
  {
   "cell_type": "code",
   "execution_count": 23,
   "id": "0ed2c5e1",
   "metadata": {},
   "outputs": [],
   "source": [
    "table.loc[table['synonyms'] == '-', 'n_synonyms'] = 0"
   ]
  },
  {
   "cell_type": "code",
   "execution_count": 24,
   "id": "1b4f8acd",
   "metadata": {},
   "outputs": [],
   "source": [
    "#table.to_csv('../data/main_table_221115.csv')"
   ]
  },
  {
   "cell_type": "markdown",
   "id": "0d50ab53",
   "metadata": {},
   "source": [
    "N mouse phenotypes"
   ]
  },
  {
   "cell_type": "code",
   "execution_count": 25,
   "id": "9dc9ed6f",
   "metadata": {},
   "outputs": [],
   "source": [
    "homologene = ncbi.homologene()\n",
    "\n",
    "mouse_homology_table = homologene[homologene['taxon_ncbi'].isin([10090, 9606])]\\\n",
    ".drop_duplicates(subset=['homologene_group', 'taxon_ncbi'])\\\n",
    ".pivot(index='homologene_group', columns='taxon_ncbi', values='gene_ncbi').dropna()\n",
    "\n",
    "impc = ebi.impc(dataset='phenotype_hits_per_gene')\n",
    "impc = pd.merge(impc, mouse_homology_table, left_on='gene_ncbi', right_on=10090)[['phenotype', 9606]]\n",
    "impc.columns = ['phenotype', 'gene_ncbi']\n",
    "\n",
    "mouse_pheno_dict = impc[impc['gene_ncbi'].isin(gene_info.index.values)]['gene_ncbi'].value_counts().to_dict()\n",
    "table['n_mouse_pheno'] = [mouse_pheno_dict.get(x) for x in table.index.values]\n",
    "table['n_mouse_pheno'] = table['n_mouse_pheno'].fillna(0.0)\n",
    "table['mouse_pheno'] = table['n_mouse_pheno'] > 0"
   ]
  },
  {
   "cell_type": "markdown",
   "id": "e252b635",
   "metadata": {},
   "source": [
    "N GWAS hits"
   ]
  },
  {
   "cell_type": "code",
   "execution_count": 26,
   "id": "1274611c",
   "metadata": {},
   "outputs": [],
   "source": [
    "gwas = ebi.gwas(dataset='associations')\n",
    "\n",
    "gwas_gene_ids = []\n",
    "for val in gwas['snp_gene_ids'].values:\n",
    "    if type(val) == str:\n",
    "        if ',' in val:\n",
    "            val = val.split(', ')\n",
    "            gwas_gene_ids.append(val)\n",
    "        else:\n",
    "            gwas_gene_ids.append([val])\n",
    "            \n",
    "gwas_gene_ids = [item for sublist in gwas_gene_ids for item in sublist]\n",
    "\n",
    "for val in gwas['upstream_gene_id'].dropna().values:\n",
    "    gwas_gene_ids.append(val)\n",
    "    \n",
    "for val in gwas['downstream_gene_id'].dropna().values:\n",
    "    gwas_gene_ids.append(val)\n",
    "    \n",
    "gwas_df = pd.DataFrame({'gene_ensembl':gwas_gene_ids}).value_counts().reset_index().rename(columns={0:'n_gwas'})\n",
    "gwas_df = pd.merge(gwas_df, gene_info[['gene_ensembl', 'gene_ncbi']])"
   ]
  },
  {
   "cell_type": "code",
   "execution_count": 27,
   "id": "c021e97d",
   "metadata": {},
   "outputs": [],
   "source": [
    "table['n_gwas'] = gwas_df.set_index('gene_ncbi')['n_gwas']\n",
    "table['n_gwas'] = table['n_gwas'].fillna(0.0)"
   ]
  },
  {
   "cell_type": "markdown",
   "id": "488b91f2",
   "metadata": {},
   "source": [
    "RNA expression-based measures"
   ]
  },
  {
   "cell_type": "code",
   "execution_count": 28,
   "id": "0635399a",
   "metadata": {},
   "outputs": [],
   "source": [
    "hpa_tissue = pd.read_csv('../data/rna_tissue_consensus.tsv', sep='\\t')\n",
    "hpa_tissue = pd.merge(hpa_tissue, \n",
    "                      gene_info[['gene_ensembl','gene_ncbi']], \n",
    "                      left_on='Gene', right_on='gene_ensembl')\n",
    "hpa_tissue['detectable'] = hpa_tissue['nTPM'] >= 1"
   ]
  },
  {
   "cell_type": "code",
   "execution_count": 29,
   "id": "f6af02fe",
   "metadata": {},
   "outputs": [],
   "source": [
    "table['detectable_portion'] = hpa_tissue.groupby('gene_ncbi').mean()['detectable']"
   ]
  },
  {
   "cell_type": "code",
   "execution_count": 30,
   "id": "603802e9",
   "metadata": {},
   "outputs": [],
   "source": [
    "table['tissue_median'] = hpa_tissue.groupby('gene_ncbi').median()['nTPM']"
   ]
  },
  {
   "cell_type": "code",
   "execution_count": 31,
   "id": "d31e0b03",
   "metadata": {},
   "outputs": [],
   "source": [
    "hpa_cell = pd.read_csv('../data/rna_celline.tsv', sep='\\t')\n",
    "hpa_cell = pd.merge(hpa_cell, \n",
    "                      gene_info[['gene_ensembl','gene_ncbi']], \n",
    "                      left_on='Gene', right_on='gene_ensembl')\n",
    "hpa_cell = hpa_cell[hpa_cell['Cell line'] == 'HeLa']\n",
    "table['hela_expression'] = hpa_cell.set_index('gene_ncbi')['nTPM']"
   ]
  },
  {
   "cell_type": "markdown",
   "id": "53a78364",
   "metadata": {},
   "source": [
    "Mendelian inheritance"
   ]
  },
  {
   "cell_type": "code",
   "execution_count": 32,
   "id": "39183463",
   "metadata": {},
   "outputs": [],
   "source": [
    "auto_dom_df = pd.read_csv('../data/HPO_autosomal_dominant_genes_220920.csv')\n",
    "auto_rec_df = pd.read_csv('../data/HPO_autosomal_recessive_genes_220920.csv')\n",
    "auto_dom_df = auto_dom_df.rename(columns={'GENE_ENTREZ_ID':'gene_ncbi'})\n",
    "auto_rec_df = auto_rec_df.rename(columns={'GENE_ENTREZ_ID':'gene_ncbi'})\n",
    "mendel_df = pd.concat([auto_dom_df, auto_rec_df])"
   ]
  },
  {
   "cell_type": "code",
   "execution_count": 33,
   "id": "981303f1",
   "metadata": {},
   "outputs": [],
   "source": [
    "table['mendelian_inheritance'] = table.index.isin(mendel_df['gene_ncbi'])"
   ]
  },
  {
   "cell_type": "markdown",
   "id": "02514b49",
   "metadata": {},
   "source": [
    "Model organisms & primate specificity"
   ]
  },
  {
   "cell_type": "code",
   "execution_count": 34,
   "id": "a6447080",
   "metadata": {},
   "outputs": [],
   "source": [
    "homologene = ncbi.homologene()"
   ]
  },
  {
   "cell_type": "code",
   "execution_count": 35,
   "id": "ee3468da",
   "metadata": {},
   "outputs": [],
   "source": [
    "#homologene['taxon_ncbi'] = homologene['taxon_ncbi'].replace(559292, 4932)"
   ]
  },
  {
   "cell_type": "code",
   "execution_count": 36,
   "id": "5aa1be53",
   "metadata": {},
   "outputs": [],
   "source": [
    "human_taxid = 9606\n",
    "mouse_taxid = 10090\n",
    "rat_taxid = 10116\n",
    "celegans_taxid = 6239\n",
    "dmelanogaster_taxid = 7227\n",
    "yeast_taxid = 559292\n",
    "drerio_taxid = 7955\n",
    "\n",
    "homologene_pivot = homologene[homologene['taxon_ncbi'].isin([human_taxid, \n",
    "                                                             mouse_taxid, \n",
    "                                                             rat_taxid, \n",
    "                                                             celegans_taxid, \n",
    "                                                             dmelanogaster_taxid, \n",
    "                                                             yeast_taxid, \n",
    "                                                             drerio_taxid])]\\\n",
    ".drop_duplicates(subset=['homologene_group', 'taxon_ncbi']).pivot(index='homologene_group', columns='taxon_ncbi') > 0\n",
    "homologene_pivot = homologene_pivot['gene_ncbi'].reset_index().reset_index(drop=True)\n",
    "\n",
    "homologene_pivot = pd.merge(homologene[homologene['taxon_ncbi'] == human_taxid][['gene_ncbi', 'homologene_group']], \n",
    "                            homologene_pivot, \n",
    "                            how='left')\\\n",
    "[['gene_ncbi', mouse_taxid, rat_taxid, celegans_taxid, dmelanogaster_taxid, yeast_taxid, drerio_taxid]]\n",
    "homologene_pivot = homologene_pivot.rename(columns={mouse_taxid:'mouse', \n",
    "                                                    rat_taxid:'rat', \n",
    "                                                    celegans_taxid:'c_elegans', \n",
    "                                                    dmelanogaster_taxid:'d_melanogaster', \n",
    "                                                    yeast_taxid:'yeast', \n",
    "                                                    drerio_taxid:'zebrafish'})"
   ]
  },
  {
   "cell_type": "code",
   "execution_count": 37,
   "id": "31771368",
   "metadata": {},
   "outputs": [],
   "source": [
    "table = pd.merge(table.reset_index(), \n",
    "         pd.merge(table.reset_index(), homologene_pivot, how='left')\\\n",
    "[['gene_ncbi', 'mouse', 'rat', 'c_elegans', 'd_melanogaster', 'yeast', 'zebrafish']].fillna(False), how='left')\\\n",
    ".set_index('gene_ncbi')"
   ]
  },
  {
   "cell_type": "code",
   "execution_count": 38,
   "id": "65c3987f",
   "metadata": {},
   "outputs": [],
   "source": [
    "homologene['primate'] = homologene['taxon_ncbi'].isin(pd.read_csv('../data/primate_taxonid_list.txt', header=None)[0].values)"
   ]
  },
  {
   "cell_type": "code",
   "execution_count": 39,
   "id": "21ce611b",
   "metadata": {},
   "outputs": [],
   "source": [
    "homologene_groupby = homologene.groupby('homologene_group').mean()"
   ]
  },
  {
   "cell_type": "code",
   "execution_count": 40,
   "id": "03a22fec",
   "metadata": {},
   "outputs": [],
   "source": [
    "primate_spec_genes = homologene[homologene['homologene_group'].isin(\\\n",
    "                                               homologene_groupby[homologene_groupby['primate'] == 1.0].index.values)\n",
    "          & (homologene['taxon_ncbi'] == 9606)]['gene_ncbi'].values"
   ]
  },
  {
   "cell_type": "code",
   "execution_count": 41,
   "id": "a84fb12c",
   "metadata": {},
   "outputs": [],
   "source": [
    "table['primate_specific'] = table.index.isin(primate_spec_genes)"
   ]
  },
  {
   "cell_type": "markdown",
   "id": "4fab688b",
   "metadata": {},
   "source": [
    "Publications in model organisms"
   ]
  },
  {
   "cell_type": "code",
   "execution_count": 42,
   "id": "d99c7c09",
   "metadata": {},
   "outputs": [
    {
     "name": "stdout",
     "output_type": "stream",
     "text": [
      "CPU times: total: 1min 1s\n",
      "Wall time: 1min 1s\n"
     ]
    }
   ],
   "source": [
    "%%time\n",
    "taxon_name_dict = {mouse_taxid:'mouse', rat_taxid:'rat', celegans_taxid:'c_elegans', \n",
    " dmelanogaster_taxid:'d_melanogaster', drerio_taxid:'zebrafish', yeast_taxid:'yeast'}\n",
    "\n",
    "for taxon, org in taxon_name_dict.items():\n",
    "\n",
    "    homologene_merge = pd.merge(homologene[homologene['taxon_ncbi'].isin([human_taxid])][['homologene_group', 'gene_ncbi']],\n",
    "             homologene[homologene['taxon_ncbi'].isin([taxon])][['homologene_group', 'gene_ncbi']], \n",
    "             on='homologene_group')\n",
    "    homologene_merge.columns = ['homologene_group', 'gene_ncbi_human', 'gene_ncbi_model']\n",
    "\n",
    "    gene_flavor = ''\n",
    "    \n",
    "    ref_genes = datasets.reference_genes(taxon, gene_flavor)\n",
    "\n",
    "    ref_literature = datasets.reference_publications(taxon)\n",
    "\n",
    "    agg = []\n",
    "    literature_flavor = 'pubtator_title_or_abstract_in_any_gene2pubmed_paper'\n",
    "\n",
    "    gene2lit = datasets.reference_gene2lit(\n",
    "            taxon, \n",
    "            literature_flavor)\n",
    "        \n",
    "    gene2lit = gene2lit[\n",
    "        gene2lit['gene_ncbi'].isin(ref_genes) & \n",
    "        gene2lit['pubmed_id'].isin(ref_literature)\n",
    "    ].copy()\n",
    "\n",
    "    gene2lit = pd.merge(gene2lit, homologene_merge, left_on='gene_ncbi', right_on='gene_ncbi_model')\n",
    "\n",
    "    table['n_' + org + '_pubs'] = (\n",
    "        gene2lit.drop_duplicates(\n",
    "        subset=['pubmed_id', 'gene_ncbi_human']).\n",
    "        groupby('gene_ncbi_human').count()['pubmed_id']\n",
    "    )\n",
    "\n",
    "    table['n_' + org + '_pubs'] = table.loc[table[org]]['n_' + org + '_pubs'].fillna(0.0)"
   ]
  },
  {
   "cell_type": "markdown",
   "id": "7b7e7533",
   "metadata": {},
   "source": [
    "HPA"
   ]
  },
  {
   "cell_type": "code",
   "execution_count": 43,
   "id": "d25491ec",
   "metadata": {},
   "outputs": [],
   "source": [
    "hpa_df = pd.read_csv('../data/proteinatlas_19002e78.tsv', sep='\\t')"
   ]
  },
  {
   "cell_type": "code",
   "execution_count": 44,
   "id": "a28c05c6",
   "metadata": {},
   "outputs": [],
   "source": [
    "hpa_df = mapper.symbol_2_gene_ncbi(hpa_df.rename(columns={'Gene':'symbol'}).set_index('symbol'), taxon_ncbi=9606)"
   ]
  },
  {
   "cell_type": "code",
   "execution_count": 45,
   "id": "7916e854",
   "metadata": {},
   "outputs": [],
   "source": [
    "hpa_df = hpa_df[~hpa_df.index.duplicated(keep='first')]"
   ]
  },
  {
   "cell_type": "code",
   "execution_count": 46,
   "id": "a5085dac",
   "metadata": {},
   "outputs": [],
   "source": [
    "table['nextprot_evidence'] = hpa_df['NeXtProt evidence'] == 'Evidence at protein level'\n",
    "table['nextprot_evidence'] = table['nextprot_evidence'].fillna(False)"
   ]
  },
  {
   "cell_type": "code",
   "execution_count": 47,
   "id": "6ac65e18",
   "metadata": {},
   "outputs": [],
   "source": [
    "table['hpa_evidence'] = hpa_df['HPA evidence'] == 'Evidence at protein level'\n",
    "table['hpa_evidence'] = table['hpa_evidence'].fillna(False)"
   ]
  },
  {
   "cell_type": "code",
   "execution_count": 48,
   "id": "7747685b",
   "metadata": {},
   "outputs": [],
   "source": [
    "table['uniprot_evidence'] = hpa_df['UniProt evidence'] == 'Evidence at protein level'\n",
    "table['uniprot_evidence'] = table['uniprot_evidence'].fillna(False)"
   ]
  },
  {
   "cell_type": "code",
   "execution_count": 49,
   "id": "d6c63903",
   "metadata": {},
   "outputs": [],
   "source": [
    "table['membrane_protein'] = hpa_df['Protein class'].str.contains('membrane proteins')\n",
    "table['membrane_protein'] = table['membrane_protein'].fillna(False)"
   ]
  },
  {
   "cell_type": "code",
   "execution_count": 50,
   "id": "52d04a40",
   "metadata": {},
   "outputs": [],
   "source": [
    "table['antibody'] = ~hpa_df['Antibody'].isna()\n",
    "table['antibody'] = table['antibody'].fillna(False)"
   ]
  },
  {
   "cell_type": "code",
   "execution_count": 51,
   "id": "6419886a",
   "metadata": {},
   "outputs": [
    {
     "name": "stdout",
     "output_type": "stream",
     "text": [
      "Gene synonym\n",
      "Ensembl\n",
      "Gene description\n",
      "Uniprot\n",
      "Chromosome\n",
      "Position\n",
      "Protein class\n",
      "Biological process\n",
      "Molecular function\n",
      "Disease involvement\n",
      "Evidence\n",
      "HPA evidence\n",
      "UniProt evidence\n",
      "NeXtProt evidence\n",
      "RNA tissue specificity\n",
      "RNA tissue distribution\n",
      "RNA tissue specificity score\n",
      "RNA tissue specific nTPM\n",
      "RNA single cell type specificity\n",
      "RNA single cell type distribution\n",
      "RNA single cell type specificity score\n",
      "RNA single cell type specific nTPM\n",
      "RNA cancer specificity\n",
      "RNA cancer distribution\n",
      "RNA cancer specificity score\n",
      "RNA cancer specific FPKM\n",
      "RNA brain regional specificity\n",
      "RNA brain regional distribution\n",
      "RNA brain regional specificity score\n",
      "RNA brain regional specific nTPM\n",
      "RNA blood cell specificity\n",
      "RNA blood cell distribution\n",
      "RNA blood cell specificity score\n",
      "RNA blood cell specific nTPM\n",
      "RNA blood lineage specificity\n",
      "RNA blood lineage distribution\n",
      "RNA blood lineage specificity score\n",
      "RNA blood lineage specific nTPM\n",
      "RNA cell line specificity\n",
      "RNA cell line distribution\n",
      "RNA cell line specificity score\n",
      "RNA cell line specific nTPM\n",
      "RNA mouse brain regional specificity\n",
      "RNA mouse brain regional distribution\n",
      "RNA mouse brain regional specificity score\n",
      "RNA mouse brain regional specific nTPM\n",
      "RNA pig brain regional specificity\n",
      "RNA pig brain regional distribution\n",
      "RNA pig brain regional specificity score\n",
      "RNA pig brain regional specific nTPM\n",
      "Antibody\n",
      "Reliability (IH)\n",
      "Reliability (Mouse Brain)\n",
      "Reliability (IF)\n",
      "Subcellular location\n",
      "Secretome location\n",
      "CCD Protein\n",
      "CCD Transcript\n",
      "Blood concentration - Conc. blood IM [pg/L]\n",
      "Blood concentration - Conc. blood MS [pg/L]\n",
      "Blood expression cluster\n",
      "Tissue expression cluster\n",
      "Cell line expression cluster\n",
      "Single cell expression cluster\n",
      "Subcellular main location\n",
      "Subcellular additional location\n",
      "Antibody RRID\n",
      "Pathology prognostics - Breast cancer\n",
      "Pathology prognostics - Cervical cancer\n",
      "Pathology prognostics - Colorectal cancer\n",
      "Pathology prognostics - Endometrial cancer\n",
      "Pathology prognostics - Glioma\n",
      "Pathology prognostics - Head and neck cancer\n",
      "Pathology prognostics - Liver cancer\n",
      "Pathology prognostics - Lung cancer\n",
      "Pathology prognostics - Melanoma\n",
      "Pathology prognostics - Ovarian cancer\n",
      "Pathology prognostics - Pancreatic cancer\n",
      "Pathology prognostics - Prostate cancer\n",
      "Pathology prognostics - Renal cancer\n",
      "Pathology prognostics - Stomach cancer\n",
      "Pathology prognostics - Testis cancer\n",
      "Pathology prognostics - Thyroid cancer\n",
      "Pathology prognostics - Urothelial cancer\n",
      "Tissue RNA - adipose tissue [nTPM]\n",
      "Tissue RNA - adrenal gland [nTPM]\n",
      "Tissue RNA - amygdala [nTPM]\n",
      "Tissue RNA - appendix [nTPM]\n",
      "Tissue RNA - basal ganglia [nTPM]\n",
      "Tissue RNA - bone marrow [nTPM]\n",
      "Tissue RNA - breast [nTPM]\n",
      "Tissue RNA - cerebellum [nTPM]\n",
      "Tissue RNA - cerebral cortex [nTPM]\n",
      "Tissue RNA - cervix [nTPM]\n",
      "Tissue RNA - choroid plexus [nTPM]\n",
      "Tissue RNA - colon [nTPM]\n",
      "Tissue RNA - duodenum [nTPM]\n",
      "Tissue RNA - endometrium 1 [nTPM]\n",
      "Tissue RNA - epididymis [nTPM]\n",
      "Tissue RNA - esophagus [nTPM]\n",
      "Tissue RNA - fallopian tube [nTPM]\n",
      "Tissue RNA - gallbladder [nTPM]\n",
      "Tissue RNA - heart muscle [nTPM]\n",
      "Tissue RNA - hippocampal formation [nTPM]\n",
      "Tissue RNA - hypothalamus [nTPM]\n",
      "Tissue RNA - kidney [nTPM]\n",
      "Tissue RNA - liver [nTPM]\n",
      "Tissue RNA - lung [nTPM]\n",
      "Tissue RNA - lymph node [nTPM]\n",
      "Tissue RNA - medulla oblongata [nTPM]\n",
      "Tissue RNA - midbrain [nTPM]\n",
      "Tissue RNA - ovary [nTPM]\n",
      "Tissue RNA - pancreas [nTPM]\n",
      "Tissue RNA - parathyroid gland [nTPM]\n",
      "Tissue RNA - pituitary gland [nTPM]\n",
      "Tissue RNA - placenta [nTPM]\n",
      "Tissue RNA - pons [nTPM]\n",
      "Tissue RNA - prostate [nTPM]\n",
      "Tissue RNA - rectum [nTPM]\n",
      "Tissue RNA - retina [nTPM]\n",
      "Tissue RNA - salivary gland [nTPM]\n",
      "Tissue RNA - seminal vesicle [nTPM]\n",
      "Tissue RNA - skeletal muscle [nTPM]\n",
      "Tissue RNA - skin 1 [nTPM]\n",
      "Tissue RNA - small intestine [nTPM]\n",
      "Tissue RNA - smooth muscle [nTPM]\n",
      "Tissue RNA - spinal cord [nTPM]\n",
      "Tissue RNA - spleen [nTPM]\n",
      "Tissue RNA - stomach 1 [nTPM]\n",
      "Tissue RNA - testis [nTPM]\n",
      "Tissue RNA - thalamus [nTPM]\n",
      "Tissue RNA - thymus [nTPM]\n",
      "Tissue RNA - thyroid gland [nTPM]\n",
      "Tissue RNA - tongue [nTPM]\n",
      "Tissue RNA - tonsil [nTPM]\n",
      "Tissue RNA - urinary bladder [nTPM]\n",
      "Tissue RNA - vagina [nTPM]\n",
      "Tissue RNA - white matter [nTPM]\n",
      "Cell RNA - A-431 [nTPM]\n",
      "Cell RNA - A549 [nTPM]\n",
      "Cell RNA - AF22 [nTPM]\n",
      "Cell RNA - AN3-CA [nTPM]\n",
      "Cell RNA - ASC diff [nTPM]\n",
      "Cell RNA - ASC TERT1 [nTPM]\n",
      "Cell RNA - BEWO [nTPM]\n",
      "Cell RNA - BJ [nTPM]\n",
      "Cell RNA - BJ hTERT+ [nTPM]\n",
      "Cell RNA - BJ hTERT+ SV40 Large T+ [nTPM]\n",
      "Cell RNA - BJ hTERT+ SV40 Large T+ RasG12V [nTPM]\n",
      "Cell RNA - CACO-2 [nTPM]\n",
      "Cell RNA - CAPAN-2 [nTPM]\n",
      "Cell RNA - Daudi [nTPM]\n",
      "Cell RNA - EFO-21 [nTPM]\n",
      "Cell RNA - fHDF/TERT166 [nTPM]\n",
      "Cell RNA - GAMG [nTPM]\n",
      "Cell RNA - HaCaT [nTPM]\n",
      "Cell RNA - HAP1 [nTPM]\n",
      "Cell RNA - HBEC3-KT [nTPM]\n",
      "Cell RNA - HBF TERT88 [nTPM]\n",
      "Cell RNA - HDLM-2 [nTPM]\n",
      "Cell RNA - HEK 293 [nTPM]\n",
      "Cell RNA - HEL [nTPM]\n",
      "Cell RNA - HeLa [nTPM]\n",
      "Cell RNA - Hep G2 [nTPM]\n",
      "Cell RNA - HHSteC [nTPM]\n",
      "Cell RNA - HL-60 [nTPM]\n",
      "Cell RNA - HMC-1 [nTPM]\n",
      "Cell RNA - HSkMC [nTPM]\n",
      "Cell RNA - hTCEpi [nTPM]\n",
      "Cell RNA - hTEC/SVTERT24-B [nTPM]\n",
      "Cell RNA - hTERT-HME1 [nTPM]\n",
      "Cell RNA - hTERT-RPE1 [nTPM]\n",
      "Cell RNA - HUVEC TERT2 [nTPM]\n",
      "Cell RNA - JURKAT [nTPM]\n",
      "Cell RNA - K-562 [nTPM]\n",
      "Cell RNA - Karpas-707 [nTPM]\n",
      "Cell RNA - LHCN-M2 [nTPM]\n",
      "Cell RNA - MCF7 [nTPM]\n",
      "Cell RNA - MOLT-4 [nTPM]\n",
      "Cell RNA - NB-4 [nTPM]\n",
      "Cell RNA - NTERA-2 [nTPM]\n",
      "Cell RNA - OE19 [nTPM]\n",
      "Cell RNA - PC-3 [nTPM]\n",
      "Cell RNA - REH [nTPM]\n",
      "Cell RNA - RH-30 [nTPM]\n",
      "Cell RNA - RPMI-8226 [nTPM]\n",
      "Cell RNA - RPTEC TERT1 [nTPM]\n",
      "Cell RNA - RT4 [nTPM]\n",
      "Cell RNA - SCLC-21H [nTPM]\n",
      "Cell RNA - SH-SY5Y [nTPM]\n",
      "Cell RNA - SiHa [nTPM]\n",
      "Cell RNA - SK-BR-3 [nTPM]\n",
      "Cell RNA - SK-MEL-30 [nTPM]\n",
      "Cell RNA - SuSa [nTPM]\n",
      "Cell RNA - T-47d [nTPM]\n",
      "Cell RNA - THP-1 [nTPM]\n",
      "Cell RNA - TIME [nTPM]\n",
      "Cell RNA - U-138 MG [nTPM]\n",
      "Cell RNA - U-2 OS [nTPM]\n",
      "Cell RNA - U-2197 [nTPM]\n",
      "Cell RNA - U-251 MG [nTPM]\n",
      "Cell RNA - U-266/70 [nTPM]\n",
      "Cell RNA - U-266/84 [nTPM]\n",
      "Cell RNA - U-698 [nTPM]\n",
      "Cell RNA - U-87 MG [nTPM]\n",
      "Cell RNA - U-937 [nTPM]\n",
      "Cell RNA - WM-115 [nTPM]\n",
      "Blood RNA - basophil [nTPM]\n",
      "Blood RNA - classical monocyte [nTPM]\n",
      "Blood RNA - eosinophil [nTPM]\n",
      "Blood RNA - gdT-cell [nTPM]\n",
      "Blood RNA - intermediate monocyte [nTPM]\n",
      "Blood RNA - MAIT T-cell [nTPM]\n",
      "Blood RNA - memory B-cell [nTPM]\n",
      "Blood RNA - memory CD4 T-cell [nTPM]\n",
      "Blood RNA - memory CD8 T-cell [nTPM]\n",
      "Blood RNA - myeloid DC [nTPM]\n",
      "Blood RNA - naive B-cell [nTPM]\n",
      "Blood RNA - naive CD4 T-cell [nTPM]\n",
      "Blood RNA - naive CD8 T-cell [nTPM]\n",
      "Blood RNA - neutrophil [nTPM]\n",
      "Blood RNA - NK-cell [nTPM]\n",
      "Blood RNA - non-classical monocyte [nTPM]\n",
      "Blood RNA - plasmacytoid DC [nTPM]\n",
      "Blood RNA - T-reg [nTPM]\n",
      "Blood RNA - total PBMC [nTPM]\n",
      "Brain RNA - amygdala [nTPM]\n",
      "Brain RNA - basal ganglia [nTPM]\n",
      "Brain RNA - cerebellum [nTPM]\n",
      "Brain RNA - cerebral cortex [nTPM]\n",
      "Brain RNA - hippocampal formation [nTPM]\n",
      "Brain RNA - hypothalamus [nTPM]\n",
      "Brain RNA - medulla oblongata [nTPM]\n",
      "Brain RNA - midbrain [nTPM]\n",
      "Brain RNA - pons [nTPM]\n",
      "Brain RNA - spinal cord [nTPM]\n",
      "Brain RNA - thalamus [nTPM]\n",
      "Brain RNA - white matter [nTPM]\n",
      "Single Cell Type RNA - Adipocytes [nTPM]\n",
      "Single Cell Type RNA - Alveolar cells type 1 [nTPM]\n",
      "Single Cell Type RNA - Alveolar cells type 2 [nTPM]\n",
      "Single Cell Type RNA - Astrocytes [nTPM]\n",
      "Single Cell Type RNA - B-cells [nTPM]\n",
      "Single Cell Type RNA - Basal keratinocytes [nTPM]\n",
      "Single Cell Type RNA - Basal prostatic cells [nTPM]\n",
      "Single Cell Type RNA - Basal respiratory cells [nTPM]\n",
      "Single Cell Type RNA - Basal squamous epithelial cells [nTPM]\n",
      "Single Cell Type RNA - Bipolar cells [nTPM]\n",
      "Single Cell Type RNA - Breast glandular cells [nTPM]\n",
      "Single Cell Type RNA - Breast myoepithelial cells [nTPM]\n",
      "Single Cell Type RNA - Cardiomyocytes [nTPM]\n",
      "Single Cell Type RNA - Cholangiocytes [nTPM]\n",
      "Single Cell Type RNA - Club cells [nTPM]\n",
      "Single Cell Type RNA - Collecting duct cells [nTPM]\n",
      "Single Cell Type RNA - Cone photoreceptor cells [nTPM]\n",
      "Single Cell Type RNA - Cytotrophoblasts [nTPM]\n",
      "Single Cell Type RNA - dendritic cells [nTPM]\n",
      "Single Cell Type RNA - Distal enterocytes [nTPM]\n",
      "Single Cell Type RNA - Distal tubular cells [nTPM]\n",
      "Single Cell Type RNA - Ductal cells [nTPM]\n",
      "Single Cell Type RNA - Early spermatids [nTPM]\n",
      "Single Cell Type RNA - Endometrial ciliated cells [nTPM]\n",
      "Single Cell Type RNA - Endometrial stromal cells [nTPM]\n",
      "Single Cell Type RNA - Endothelial cells [nTPM]\n",
      "Single Cell Type RNA - Enteroendocrine cells [nTPM]\n",
      "Single Cell Type RNA - Erythroid cells [nTPM]\n",
      "Single Cell Type RNA - Excitatory neurons [nTPM]\n",
      "Single Cell Type RNA - Exocrine glandular cells [nTPM]\n",
      "Single Cell Type RNA - Extravillous trophoblasts [nTPM]\n",
      "Single Cell Type RNA - Fibroblasts [nTPM]\n",
      "Single Cell Type RNA - Gastric mucus-secreting cells [nTPM]\n",
      "Single Cell Type RNA - Glandular and luminal cells [nTPM]\n",
      "Single Cell Type RNA - granulocytes [nTPM]\n",
      "Single Cell Type RNA - Granulosa cells [nTPM]\n",
      "Single Cell Type RNA - Hepatic stellate cells [nTPM]\n",
      "Single Cell Type RNA - Hepatocytes [nTPM]\n",
      "Single Cell Type RNA - Hofbauer cells [nTPM]\n",
      "Single Cell Type RNA - Horizontal cells [nTPM]\n",
      "Single Cell Type RNA - Inhibitory neurons [nTPM]\n",
      "Single Cell Type RNA - Intestinal goblet cells [nTPM]\n",
      "Single Cell Type RNA - Ionocytes [nTPM]\n",
      "Single Cell Type RNA - Kupffer cells [nTPM]\n",
      "Single Cell Type RNA - Langerhans cells [nTPM]\n",
      "Single Cell Type RNA - Late spermatids [nTPM]\n",
      "Single Cell Type RNA - Leydig cells [nTPM]\n",
      "Single Cell Type RNA - Macrophages [nTPM]\n",
      "Single Cell Type RNA - Melanocytes [nTPM]\n",
      "Single Cell Type RNA - Microglial cells [nTPM]\n",
      "Single Cell Type RNA - monocytes [nTPM]\n",
      "Single Cell Type RNA - Muller glia cells [nTPM]\n",
      "Single Cell Type RNA - NK-cells [nTPM]\n",
      "Single Cell Type RNA - Oligodendrocyte precursor cells [nTPM]\n",
      "Single Cell Type RNA - Oligodendrocytes [nTPM]\n",
      "Single Cell Type RNA - Pancreatic endocrine cells [nTPM]\n",
      "Single Cell Type RNA - Paneth cells [nTPM]\n",
      "Single Cell Type RNA - Peritubular cells [nTPM]\n",
      "Single Cell Type RNA - Plasma cells [nTPM]\n",
      "Single Cell Type RNA - Prostatic glandular cells [nTPM]\n",
      "Single Cell Type RNA - Proximal enterocytes [nTPM]\n",
      "Single Cell Type RNA - Proximal tubular cells [nTPM]\n",
      "Single Cell Type RNA - Respiratory ciliated cells [nTPM]\n",
      "Single Cell Type RNA - Rod photoreceptor cells [nTPM]\n",
      "Single Cell Type RNA - Sertoli cells [nTPM]\n",
      "Single Cell Type RNA - Skeletal myocytes [nTPM]\n",
      "Single Cell Type RNA - Smooth muscle cells [nTPM]\n",
      "Single Cell Type RNA - Spermatocytes [nTPM]\n",
      "Single Cell Type RNA - Spermatogonia [nTPM]\n",
      "Single Cell Type RNA - Squamous epithelial cells [nTPM]\n",
      "Single Cell Type RNA - Suprabasal keratinocytes [nTPM]\n",
      "Single Cell Type RNA - Syncytiotrophoblasts [nTPM]\n",
      "Single Cell Type RNA - T-cells [nTPM]\n",
      "Single Cell Type RNA - Theca cells [nTPM]\n",
      "Single Cell Type RNA - Undifferentiated cells [nTPM]\n",
      "Single Cell Type RNA - Urothelial cells [nTPM]\n"
     ]
    }
   ],
   "source": [
    "for col in hpa_df.columns:\n",
    "    print(col)"
   ]
  },
  {
   "cell_type": "code",
   "execution_count": 52,
   "id": "8f2f6e9a",
   "metadata": {},
   "outputs": [],
   "source": [
    "table['approved_ih'] = hpa_df['Reliability (IH)'].isin(['Supported', 'Approved', 'Enhanced'])\n",
    "table['approved_ih'] = table['approved_ih'].fillna(False)\n",
    "table['approved_if'] = hpa_df['Reliability (IF)'].isin(['Supported', 'Approved', 'Enhanced'])\n",
    "table['approved_if'] = table['approved_if'].fillna(False)"
   ]
  },
  {
   "cell_type": "markdown",
   "id": "2fc55d27",
   "metadata": {},
   "source": [
    "IDG understudied proteins"
   ]
  },
  {
   "cell_type": "code",
   "execution_count": 53,
   "id": "afcc0581",
   "metadata": {},
   "outputs": [],
   "source": [
    "table['idg_understudied'] = table['symbol_from_nomenclature_authority']\\\n",
    ".isin(pd.read_json('../data/IDG_TargetList_CurrentVersion.json')['Gene'].values)"
   ]
  },
  {
   "cell_type": "markdown",
   "id": "aec1693c",
   "metadata": {},
   "source": [
    "AddGene"
   ]
  },
  {
   "cell_type": "code",
   "execution_count": 54,
   "id": "cf6402a4",
   "metadata": {},
   "outputs": [],
   "source": [
    "import json\n",
    "\n",
    "with open('../data/addgene-list-data.json') as f:\n",
    "    data = json.loads(f.read())\n",
    "    \n",
    "addgene = pd.DataFrame(data['data'])"
   ]
  },
  {
   "cell_type": "code",
   "execution_count": 55,
   "id": "da240018",
   "metadata": {},
   "outputs": [],
   "source": [
    "table['plasmid'] = table.index.isin(addgene['entrez-id'].values.astype(int))"
   ]
  },
  {
   "cell_type": "markdown",
   "id": "0fb79eb6",
   "metadata": {},
   "source": [
    "CHEMBL"
   ]
  },
  {
   "cell_type": "code",
   "execution_count": 56,
   "id": "10af3ff5",
   "metadata": {},
   "outputs": [],
   "source": [
    "chembl_df = pd.read_csv('../data/chembl_220920.tsv', sep='\\t')"
   ]
  },
  {
   "cell_type": "code",
   "execution_count": 57,
   "id": "ec9a28a2",
   "metadata": {},
   "outputs": [],
   "source": [
    "uniprot = ebi.uniprot(dataset='uniprot_to_ncbi_gene', taxon_ncbi='vip')"
   ]
  },
  {
   "cell_type": "code",
   "execution_count": 58,
   "id": "d38005e8",
   "metadata": {},
   "outputs": [],
   "source": [
    "uniprot_ids = []\n",
    "\n",
    "for entry in chembl_df['UniProt Accessions']:\n",
    "    if type(entry) == str:\n",
    "        entries = entry.split('|')\n",
    "        for uniprot_id in entries:\n",
    "            uniprot_ids.append(uniprot_id)"
   ]
  },
  {
   "cell_type": "code",
   "execution_count": 59,
   "id": "8bfbf044",
   "metadata": {},
   "outputs": [],
   "source": [
    "druggable_genes = uniprot[uniprot['protein_uniprot'].isin(uniprot_ids) & (uniprot['taxon_ncbi'] == 9606)]['gene_ncbi'].values"
   ]
  },
  {
   "cell_type": "code",
   "execution_count": 60,
   "id": "08108634",
   "metadata": {},
   "outputs": [],
   "source": [
    "table['compound'] = table.index.isin(druggable_genes)"
   ]
  },
  {
   "cell_type": "markdown",
   "id": "10de7baf",
   "metadata": {},
   "source": [
    "Various annotations"
   ]
  },
  {
   "cell_type": "code",
   "execution_count": 61,
   "id": "c4b17ad1",
   "metadata": {},
   "outputs": [
    {
     "name": "stdout",
     "output_type": "stream",
     "text": [
      "CPU times: total: 6.02 s\n",
      "Wall time: 6.03 s\n"
     ]
    }
   ],
   "source": [
    "%%time\n",
    "msigdb = pd.read_parquet('../data/msigdb.parquet')\n",
    "\n",
    "msigdb_names = pd.read_xml('../data/msigdb_v7.5.xml').dropna(subset=['MEMBERS_EZID'])\n",
    "\n",
    "msigdb_names_slice = msigdb_names[msigdb_names['CONTRIBUTOR_ORG'].isin(['Gene Ontology Consortium', \n",
    "                                      'Reactome', \n",
    "                                      'The Jackson Laboratory (JAX)', \n",
    "                                      'WikiPathways', \n",
    "                                      'NCI, NIH and Nature Publishing Group', \n",
    "                                      'Kyoto Encyclopedia of Genes and Genomes', 'BioCarta'])]\n",
    "curated_sets = msigdb_names_slice['SYSTEMATIC_NAME'].values"
   ]
  },
  {
   "cell_type": "code",
   "execution_count": 62,
   "id": "0420348b",
   "metadata": {},
   "outputs": [],
   "source": [
    "msigdb = msigdb[msigdb['year'] == 2022]"
   ]
  },
  {
   "cell_type": "code",
   "execution_count": 63,
   "id": "4e55ffc0",
   "metadata": {},
   "outputs": [],
   "source": [
    "contributor_dict = msigdb_names_slice.groupby('CONTRIBUTOR_ORG')['SYSTEMATIC_NAME'].apply(list).to_dict()"
   ]
  },
  {
   "cell_type": "code",
   "execution_count": 64,
   "id": "d9ace73a",
   "metadata": {},
   "outputs": [],
   "source": [
    "name = 'n_biocarta'\n",
    "contributor = 'BioCarta'\n",
    "table[name] = \\\n",
    "msigdb[msigdb['SYSTEMATIC_NAME'].isin(contributor_dict.get(contributor))].groupby('gene_ncbi').count()['year']\n",
    "table[name] = table[name].fillna(0)"
   ]
  },
  {
   "cell_type": "code",
   "execution_count": 65,
   "id": "a48cdb75",
   "metadata": {},
   "outputs": [],
   "source": [
    "name = 'n_reactome'\n",
    "contributor = 'Reactome'\n",
    "table[name] = \\\n",
    "msigdb[msigdb['SYSTEMATIC_NAME'].isin(contributor_dict.get(contributor))].groupby('gene_ncbi').count()['year']\n",
    "table[name] = table[name].fillna(0)"
   ]
  },
  {
   "cell_type": "code",
   "execution_count": 66,
   "id": "c281bbb5",
   "metadata": {},
   "outputs": [],
   "source": [
    "name = 'n_hpo'\n",
    "contributor = 'The Jackson Laboratory (JAX)'\n",
    "table[name] = \\\n",
    "msigdb[msigdb['SYSTEMATIC_NAME'].isin(contributor_dict.get(contributor))].groupby('gene_ncbi').count()['year']\n",
    "table[name] = table[name].fillna(0)"
   ]
  },
  {
   "cell_type": "code",
   "execution_count": 67,
   "id": "51e443a0",
   "metadata": {},
   "outputs": [],
   "source": [
    "name = 'n_wikipathways'\n",
    "contributor = 'WikiPathways'\n",
    "table[name] = \\\n",
    "msigdb[msigdb['SYSTEMATIC_NAME'].isin(contributor_dict.get(contributor))].groupby('gene_ncbi').count()['year']\n",
    "table[name] = table[name].fillna(0)"
   ]
  },
  {
   "cell_type": "code",
   "execution_count": 68,
   "id": "25c9aeea",
   "metadata": {},
   "outputs": [],
   "source": [
    "name = 'n_pid'\n",
    "contributor = 'NCI, NIH and Nature Publishing Group'\n",
    "table[name] = \\\n",
    "msigdb[msigdb['SYSTEMATIC_NAME'].isin(contributor_dict.get(contributor))].groupby('gene_ncbi').count()['year']\n",
    "table[name] = table[name].fillna(0)"
   ]
  },
  {
   "cell_type": "code",
   "execution_count": 69,
   "id": "6d2df54c",
   "metadata": {},
   "outputs": [],
   "source": [
    "name = 'n_kegg'\n",
    "contributor = 'Kyoto Encyclopedia of Genes and Genomes'\n",
    "table[name] = \\\n",
    "msigdb[msigdb['SYSTEMATIC_NAME'].isin(contributor_dict.get(contributor))].groupby('gene_ncbi').count()['year']\n",
    "table[name] = table[name].fillna(0)"
   ]
  },
  {
   "cell_type": "code",
   "execution_count": 70,
   "id": "170b971e",
   "metadata": {},
   "outputs": [],
   "source": [
    "name = 'n_go'\n",
    "contributor = 'Gene Ontology Consortium'\n",
    "table[name] = \\\n",
    "msigdb[msigdb['SYSTEMATIC_NAME'].isin(contributor_dict.get(contributor))].groupby('gene_ncbi').count()['year']\n",
    "table[name] = table[name].fillna(0)"
   ]
  },
  {
   "cell_type": "code",
   "execution_count": 71,
   "id": "3b17b441",
   "metadata": {
    "scrolled": false
   },
   "outputs": [],
   "source": [
    "table['protein_coding'] = table['type_of_gene'] == 'protein-coding'"
   ]
  },
  {
   "cell_type": "markdown",
   "id": "778f8575",
   "metadata": {},
   "source": [
    "Gene length"
   ]
  },
  {
   "cell_type": "code",
   "execution_count": 72,
   "id": "58210003",
   "metadata": {},
   "outputs": [],
   "source": [
    "gene_length = access_framework.genbank_gene(9606)[['gene_ncbi','SumACGT']]"
   ]
  },
  {
   "cell_type": "code",
   "execution_count": 73,
   "id": "877d6339",
   "metadata": {},
   "outputs": [],
   "source": [
    "table['gene_length'] = gene_length.set_index('gene_ncbi')['SumACGT']"
   ]
  },
  {
   "cell_type": "markdown",
   "id": "ef02cc26",
   "metadata": {},
   "source": [
    "Loss of function tolerance"
   ]
  },
  {
   "cell_type": "code",
   "execution_count": 74,
   "id": "d669c7f7",
   "metadata": {},
   "outputs": [],
   "source": [
    "df = publications.karczewski_2020(dataset='full_constraint_metrics', to_ncbi='unambiguous')\n",
    "df = df[df['canonical']].reset_index()\n",
    "df = df[['gene_ncbi', 'pli']].dropna()\n",
    "df['loss_of_function_intolerant'] = df['pli'] > 0.9\n",
    "df = df.sort_values('loss_of_function_intolerant', \n",
    "                    ascending=False).drop_duplicates(subset=['gene_ncbi'], keep='first')\n",
    "table['loss_of_function_intolerant'] = df.set_index('gene_ncbi')['loss_of_function_intolerant']"
   ]
  },
  {
   "cell_type": "markdown",
   "id": "b0c077a5",
   "metadata": {},
   "source": [
    "Patents"
   ]
  },
  {
   "cell_type": "code",
   "execution_count": 75,
   "id": "76f97349",
   "metadata": {},
   "outputs": [],
   "source": [
    "patented = pd.read_csv('../data/patented_genes_rosenfeld_2013.csv', header=3)['Matching Gene'].values"
   ]
  },
  {
   "cell_type": "code",
   "execution_count": 76,
   "id": "bbc6f478",
   "metadata": {},
   "outputs": [],
   "source": [
    "table['previously_patented'] = table['symbol_from_nomenclature_authority'].isin(patented)"
   ]
  },
  {
   "cell_type": "markdown",
   "id": "aa800ed7",
   "metadata": {},
   "source": [
    "Hydrophobicity"
   ]
  },
  {
   "cell_type": "code",
   "execution_count": 77,
   "id": "7f740552",
   "metadata": {},
   "outputs": [],
   "source": [
    "amino_acid_derived = access_framework.aminoacids_swissprot(9606)"
   ]
  },
  {
   "cell_type": "code",
   "execution_count": 78,
   "id": "00eb217c",
   "metadata": {},
   "outputs": [],
   "source": [
    "table['normalized_gravy'] = amino_acid_derived.set_index('gene_ncbi')['gravy_ignoring_O_and_U']"
   ]
  },
  {
   "cell_type": "markdown",
   "id": "7c1dc778",
   "metadata": {},
   "source": [
    "Druggability"
   ]
  },
  {
   "cell_type": "code",
   "execution_count": 79,
   "id": "43f60b8b",
   "metadata": {},
   "outputs": [],
   "source": [
    "druggability = pd.read_csv('../data/druggability_finan_et_al_2017.csv')"
   ]
  },
  {
   "cell_type": "code",
   "execution_count": 80,
   "id": "5c1a354c",
   "metadata": {},
   "outputs": [],
   "source": [
    "table['druggable'] = table['gene_ensembl'].isin(druggability['ensembl_gene_id'])"
   ]
  },
  {
   "cell_type": "code",
   "execution_count": null,
   "id": "7e7d2efe",
   "metadata": {},
   "outputs": [],
   "source": []
  },
  {
   "cell_type": "code",
   "execution_count": null,
   "id": "76a6ef84",
   "metadata": {},
   "outputs": [],
   "source": []
  },
  {
   "cell_type": "code",
   "execution_count": 81,
   "id": "83167d01",
   "metadata": {},
   "outputs": [],
   "source": [
    "table.to_csv('../data/main_table_221115.csv')"
   ]
  },
  {
   "cell_type": "markdown",
   "id": "7027c544",
   "metadata": {},
   "source": [
    "Subject counts"
   ]
  },
  {
   "cell_type": "code",
   "execution_count": 82,
   "id": "7cb75658",
   "metadata": {},
   "outputs": [
    {
     "name": "stderr",
     "output_type": "stream",
     "text": [
      "C:\\Users\\richa\\AppData\\Local\\Temp\\ipykernel_12608\\1687289751.py:1: DtypeWarning: Columns (60) have mixed types. Specify dtype option on import or set low_memory=False.\n",
      "  table = pd.read_csv('../data/main_table_221115.csv')\n"
     ]
    }
   ],
   "source": [
    "table = pd.read_csv('../data/main_table_221115.csv')"
   ]
  },
  {
   "cell_type": "code",
   "execution_count": 83,
   "id": "82835fa6",
   "metadata": {},
   "outputs": [],
   "source": [
    "gene2pubmed_counts = pd.read_csv('../data/gene2pubmed_subject_counts_221005.csv')\n",
    "top_terms = gene2pubmed_counts.columns[1:]"
   ]
  },
  {
   "cell_type": "code",
   "execution_count": 84,
   "id": "b1ebe25d",
   "metadata": {},
   "outputs": [],
   "source": [
    "table = pd.merge(table, gene2pubmed_counts, how='left')"
   ]
  },
  {
   "cell_type": "code",
   "execution_count": 85,
   "id": "ab7472de",
   "metadata": {},
   "outputs": [],
   "source": [
    "table[top_terms] = table[top_terms].fillna(0.0)"
   ]
  },
  {
   "cell_type": "code",
   "execution_count": 86,
   "id": "eb2168ca",
   "metadata": {},
   "outputs": [],
   "source": [
    "table.to_csv('../data/main_table_with_subject_counts_221116.csv', index=False)"
   ]
  },
  {
   "cell_type": "code",
   "execution_count": 87,
   "id": "1594ca1a",
   "metadata": {},
   "outputs": [
    {
     "name": "stderr",
     "output_type": "stream",
     "text": [
      "C:\\Users\\richa\\AppData\\Local\\Temp\\ipykernel_12608\\916916246.py:1: DtypeWarning: Columns (60) have mixed types. Specify dtype option on import or set low_memory=False.\n",
      "  table = pd.read_csv('../data/main_table_with_subject_counts_221116.csv')\n"
     ]
    }
   ],
   "source": [
    "table = pd.read_csv('../data/main_table_with_subject_counts_221116.csv')"
   ]
  },
  {
   "cell_type": "code",
   "execution_count": 88,
   "id": "6f0fdc57",
   "metadata": {},
   "outputs": [],
   "source": [
    "pd.DataFrame(table.columns).to_csv('../data/main_table_columns.csv', index=False, header=None)"
   ]
  },
  {
   "cell_type": "code",
   "execution_count": null,
   "id": "7234bd3f",
   "metadata": {},
   "outputs": [],
   "source": []
  }
 ],
 "metadata": {
  "kernelspec": {
   "display_name": "Python 3 (ipykernel)",
   "language": "python",
   "name": "python3"
  },
  "language_info": {
   "codemirror_mode": {
    "name": "ipython",
    "version": 3
   },
   "file_extension": ".py",
   "mimetype": "text/x-python",
   "name": "python",
   "nbconvert_exporter": "python",
   "pygments_lexer": "ipython3",
   "version": "3.9.12"
  }
 },
 "nbformat": 4,
 "nbformat_minor": 5
}
