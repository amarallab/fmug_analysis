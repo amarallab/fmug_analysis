{
 "cells": [
  {
   "cell_type": "code",
   "execution_count": 1,
   "id": "ec7991ec",
   "metadata": {},
   "outputs": [],
   "source": [
    "import numpy as np\n",
    "import pandas as pd\n",
    "import scipy\n",
    "\n",
    "from IPython.display import clear_output\n",
    "\n",
    "import sys\n",
    "sys.path.append('../../../../Documents/GitHub/gustav/src/')\n",
    "\n",
    "from gustav import ebi, ncbi, nlm, biogrid, nih\n",
    "from gustav import publications\n",
    "from gustav import github\n",
    "from gustav import access_framework\n",
    "from gustav import mapper\n",
    "\n",
    "import matplotlib as mpl\n",
    "import matplotlib.pyplot as plt\n",
    "import seaborn as sns\n",
    "\n",
    "sys.path.append('../general/src/')\n",
    "from manuscript import export\n",
    "from manuscript import inout\n",
    "from manuscript import datasets\n",
    "from manuscript import tools\n",
    "\n",
    "from sklearn.metrics import auc\n",
    "from scipy.stats import fisher_exact\n",
    "pd.options.display.precision = 3\n",
    "pd.options.display.expand_frame_repr = False\n",
    "pd.options.display.max_columns = 20"
   ]
  },
  {
   "cell_type": "code",
   "execution_count": 2,
   "id": "ba0f2a60",
   "metadata": {},
   "outputs": [
    {
     "name": "stderr",
     "output_type": "stream",
     "text": [
      "C:\\Users\\richa\\Documents\\GitHub\\promising_genes\\notebooks\\../../../../Documents/GitHub/gustav/src\\gustav\\utils.py:52: FutureWarning: In a future version of pandas all arguments of DataFrame.drop except for the argument 'labels' will be keyword-only.\n",
      "  df_with_delimiter.drop(column, 1).reset_index(),\n",
      "C:\\Users\\richa\\Documents\\GitHub\\promising_genes\\notebooks\\../../../../Documents/GitHub/gustav/src\\gustav\\utils.py:63: FutureWarning: In a future version of pandas all arguments of DataFrame.drop except for the argument 'labels' will be keyword-only.\n",
      "  joined = joined.drop('helper_index', 1)\n",
      "C:\\Users\\richa\\Documents\\GitHub\\promising_genes\\notebooks\\../../../../Documents/GitHub/gustav/src\\gustav\\utils.py:52: FutureWarning: In a future version of pandas all arguments of DataFrame.drop except for the argument 'labels' will be keyword-only.\n",
      "  df_with_delimiter.drop(column, 1).reset_index(),\n",
      "C:\\Users\\richa\\Documents\\GitHub\\promising_genes\\notebooks\\../../../../Documents/GitHub/gustav/src\\gustav\\utils.py:63: FutureWarning: In a future version of pandas all arguments of DataFrame.drop except for the argument 'labels' will be keyword-only.\n",
      "  joined = joined.drop('helper_index', 1)\n"
     ]
    }
   ],
   "source": [
    "taxon = 9606\n",
    "gene_flavor = 'ou'\n",
    "ref_genes = datasets.reference_genes(taxon, gene_flavor)\n",
    "gene_info = ncbi.gene_info(taxon, mode='unambiguous_ensembl')"
   ]
  },
  {
   "cell_type": "code",
   "execution_count": 3,
   "id": "60eb53fd",
   "metadata": {},
   "outputs": [],
   "source": [
    "ref_literature = datasets.reference_publications(taxon)"
   ]
  },
  {
   "cell_type": "code",
   "execution_count": 4,
   "id": "61e9a6e1",
   "metadata": {},
   "outputs": [],
   "source": [
    "agg = []\n",
    "literature_flavor = 'pubtator_title_or_abstract_in_any_gene2pubmed_paper'\n",
    "\n",
    "gene2lit = datasets.reference_gene2lit(\n",
    "    taxon, \n",
    "    literature_flavor)\n",
    "gene2lit = gene2lit[\n",
    "    gene2lit['gene_ncbi'].isin(ref_genes) & \n",
    "    gene2lit['pubmed_id'].isin(ref_literature)\n",
    "].copy()"
   ]
  },
  {
   "cell_type": "code",
   "execution_count": 5,
   "id": "dd67ae5e",
   "metadata": {},
   "outputs": [
    {
     "name": "stdout",
     "output_type": "stream",
     "text": [
      "CPU times: total: 125 ms\n",
      "Wall time: 134 ms\n"
     ]
    }
   ],
   "source": [
    "%%time\n",
    "gene2pubmed = gene2lit #ncbi.gene2pubmed(taxon_ncbi=9606)\n",
    "large_pubs = gene2pubmed['pubmed_id'].value_counts()[gene2pubmed['pubmed_id'].value_counts() >= 100].index.values\n",
    "#gene2pubmed = gene2pubmed[~gene2pubmed['pubmed_id'].isin(large_pubs)]\n",
    "\n",
    "gene2pubmed_dict = gene2pubmed[~gene2pubmed['pubmed_id'].isin(large_pubs)].value_counts('gene_ncbi').to_dict()"
   ]
  },
  {
   "cell_type": "markdown",
   "id": "2b984946",
   "metadata": {},
   "source": [
    "# EBI-GXA"
   ]
  },
  {
   "cell_type": "code",
   "execution_count": 6,
   "id": "9fb70502",
   "metadata": {},
   "outputs": [
    {
     "name": "stderr",
     "output_type": "stream",
     "text": [
      "C:\\Users\\richa\\Documents\\GitHub\\promising_genes\\notebooks\\../../../../Documents/GitHub/gustav/src\\gustav\\utils.py:52: FutureWarning: In a future version of pandas all arguments of DataFrame.drop except for the argument 'labels' will be keyword-only.\n",
      "  df_with_delimiter.drop(column, 1).reset_index(),\n",
      "C:\\Users\\richa\\Documents\\GitHub\\promising_genes\\notebooks\\../../../../Documents/GitHub/gustav/src\\gustav\\utils.py:63: FutureWarning: In a future version of pandas all arguments of DataFrame.drop except for the argument 'labels' will be keyword-only.\n",
      "  joined = joined.drop('helper_index', 1)\n"
     ]
    },
    {
     "name": "stdout",
     "output_type": "stream",
     "text": [
      "CPU times: total: 21.5 s\n",
      "Wall time: 21.9 s\n"
     ]
    }
   ],
   "source": [
    "%%time\n",
    "\n",
    "taxon = 9606\n",
    "\n",
    "gene_info = ncbi.gene_info(taxon, mode='unambiguous_ensembl')\n",
    "\n",
    "ref_genes = gene_info[\n",
    "    (gene_info['type_of_gene']=='protein-coding') &\n",
    "    (gene_info['nomenclature_status']=='O')   # Carries an official gene symbol\n",
    "]['gene_ncbi']\n",
    "\n",
    "de = ebi.gxa(\n",
    "    'de_{}_entrez'.format(taxon),\n",
    "    columns=['comparison_key', 'gene_ncbi', 'p-value', 'log2foldchange']\n",
    ")\n",
    "\n",
    "de = de.drop_duplicates(subset=['comparison_key', 'gene_ncbi'], keep='first')\n",
    "\n",
    "contrasts = ebi.gxa(\n",
    "    'contrasts',\n",
    "    columns=['comparison_key', 'experiment']\n",
    ")\n",
    "\n",
    "studies = ebi.gxa(\n",
    "    'studies',\n",
    "    columns=['experiment', 'qualifier', 'value']\n",
    ")\n",
    "\n",
    "study_types = studies[\n",
    "    studies['qualifier'].str.contains('[AEExperimentType]', regex=False)\n",
    "].drop_duplicates()\n",
    "study_types['value'] = study_types['value'].str.strip(' ').str.strip('\"')\n",
    "study_types = study_types[['experiment', 'value']].rename(columns={'value': 'type'})\n",
    "study_types = study_types.drop_duplicates()\n",
    "\n",
    "study_types = study_types.drop_duplicates('experiment', keep=False)\n",
    "\n",
    "study_types = study_types[\n",
    "    study_types['type'].isin(\n",
    "        [\n",
    "           'transcription profiling by array',\n",
    "           'RNA-seq of coding RNA' \n",
    "        ]\n",
    "    )\n",
    "].replace(\n",
    "    {\n",
    "       'transcription profiling by array': 'array',\n",
    "       'RNA-seq of coding RNA': 'rna_seq' \n",
    "    }\n",
    ")\n",
    "\n",
    "main = pd.merge(\n",
    "    de,\n",
    "    pd.merge(\n",
    "        contrasts,\n",
    "        study_types\n",
    "    )[['comparison_key', 'type']]\n",
    ")\n",
    "\n",
    "main = main[main['gene_ncbi'].isin(ref_genes)]"
   ]
  },
  {
   "cell_type": "code",
   "execution_count": 22,
   "id": "ff9e24cb",
   "metadata": {},
   "outputs": [],
   "source": [
    "studies.loc[(studies['qualifier'] == 'PubMed ID') | \n",
    "        (studies['qualifier'] == 'Pubmed ID') | \n",
    "        (studies['qualifier'] == 'pubmedID') | \n",
    "        (studies['qualifier'] == 'PubMed ID       ') | \n",
    "        (studies['qualifier'] == '''\"Pubmed ID\"''') | \n",
    "        (studies['qualifier'] == 'PubMedID') | \n",
    "        (studies['qualifier'] == 'PubMed Id') | \n",
    "        (studies['qualifier'] == 'PubmedID') |\n",
    "        (studies['qualifier'] == 'PubMed ID '), ['qualifier']] = 'pubmed_id'\n",
    "\n",
    "pubmed_ids_df  = studies[studies['qualifier'] == 'pubmed_id']\n",
    "\n",
    "pubmed_ids_df = pd.merge(contrasts, pubmed_ids_df, how='left').rename(columns={'value':'pubmed_id'})"
   ]
  },
  {
   "cell_type": "code",
   "execution_count": 23,
   "id": "e3dcfe06",
   "metadata": {},
   "outputs": [
    {
     "data": {
      "text/plain": [
       "28892060    115\n",
       "24885658     65\n",
       "31806758     63\n",
       "17394647     60\n",
       "23180784     52\n",
       "           ... \n",
       "26891258      1\n",
       "23327667      1\n",
       "17420462      1\n",
       "22383093      1\n",
       "18156220      1\n",
       "Name: pubmed_id, Length: 2550, dtype: int64"
      ]
     },
     "execution_count": 23,
     "metadata": {},
     "output_type": "execute_result"
    }
   ],
   "source": [
    "pubmed_ids_df['pubmed_id'].value_counts()"
   ]
  },
  {
   "cell_type": "code",
   "execution_count": 24,
   "id": "a3e1d1a9",
   "metadata": {},
   "outputs": [
    {
     "data": {
      "text/plain": [
       "28892060    110\n",
       "24885658     65\n",
       "23935999     31\n",
       "25314013     31\n",
       "16478798     24\n",
       "           ... \n",
       "25397880      1\n",
       "25488971      1\n",
       "23254957      1\n",
       "21810943      1\n",
       "21928115      1\n",
       "Name: pubmed_id, Length: 976, dtype: int64"
      ]
     },
     "execution_count": 24,
     "metadata": {},
     "output_type": "execute_result"
    }
   ],
   "source": [
    "pubmed_ids_df[pubmed_ids_df['comparison_key'].isin(np.unique(main['comparison_key']))]['pubmed_id'].value_counts()"
   ]
  },
  {
   "cell_type": "code",
   "execution_count": 25,
   "id": "55350df8",
   "metadata": {},
   "outputs": [
    {
     "name": "stdout",
     "output_type": "stream",
     "text": [
      "CPU times: total: 906 ms\n",
      "Wall time: 905 ms\n"
     ]
    }
   ],
   "source": [
    "%%time\n",
    "pubmed_ids_df = pubmed_ids_df[(pubmed_ids_df['comparison_key'].isin(np.unique(main['comparison_key']))) & \n",
    "              (pubmed_ids_df['pubmed_id'].isin(gene2pubmed['pubmed_id'].astype(str)))].dropna()\\\n",
    "\n",
    "pubmed_ids_df['pubmed_id'] = pubmed_ids_df['pubmed_id'].astype(int)"
   ]
  },
  {
   "cell_type": "code",
   "execution_count": 29,
   "id": "75158755",
   "metadata": {},
   "outputs": [
    {
     "data": {
      "text/plain": [
       "22833572    22\n",
       "25968456    10\n",
       "25475719    10\n",
       "24971610     8\n",
       "22970192     7\n",
       "            ..\n",
       "20179017     1\n",
       "23922103     1\n",
       "23610125     1\n",
       "23267084     1\n",
       "24086395     1\n",
       "Name: pubmed_id, Length: 252, dtype: int64"
      ]
     },
     "execution_count": 29,
     "metadata": {},
     "output_type": "execute_result"
    }
   ],
   "source": [
    "pubmed_ids_df['pubmed_id'].value_counts()"
   ]
  },
  {
   "cell_type": "code",
   "execution_count": 26,
   "id": "882cb4fe",
   "metadata": {},
   "outputs": [
    {
     "name": "stdout",
     "output_type": "stream",
     "text": [
      "CPU times: total: 656 ms\n",
      "Wall time: 665 ms\n"
     ]
    }
   ],
   "source": [
    "%%time\n",
    "fdr_thresh = 0.05\n",
    "de_cond = (main['p-value'] < fdr_thresh)\n",
    "new_main = pd.merge(main[de_cond], pubmed_ids_df[['comparison_key', 'pubmed_id']])"
   ]
  },
  {
   "cell_type": "code",
   "execution_count": 27,
   "id": "457e1b6c",
   "metadata": {},
   "outputs": [
    {
     "data": {
      "text/plain": [
       "0          22991305\n",
       "6560       23024189\n",
       "6700       23707782\n",
       "8316       23824327\n",
       "9988       23871666\n",
       "             ...   \n",
       "1407653    24971610\n",
       "1415694    26313692\n",
       "1424187    25648896\n",
       "1428406    26735015\n",
       "1432477    23825313\n",
       "Name: pubmed_id, Length: 250, dtype: int32"
      ]
     },
     "execution_count": 27,
     "metadata": {},
     "output_type": "execute_result"
    }
   ],
   "source": [
    "new_main['pubmed_id'].drop_duplicates()"
   ]
  },
  {
   "cell_type": "code",
   "execution_count": 10,
   "id": "bf23077a",
   "metadata": {},
   "outputs": [],
   "source": [
    "new_main['pubmed_id'].drop_duplicates().to_csv('../data/transcriptomics_pubmed_ids.csv', index=False)"
   ]
  },
  {
   "cell_type": "code",
   "execution_count": 14,
   "id": "9319f857",
   "metadata": {},
   "outputs": [
    {
     "name": "stdout",
     "output_type": "stream",
     "text": [
      "CPU times: total: 23.2 s\n",
      "Wall time: 26.9 s\n"
     ]
    }
   ],
   "source": [
    "%%time\n",
    "icite = nih.icite(dataset='citations')"
   ]
  },
  {
   "cell_type": "code",
   "execution_count": 21,
   "id": "ad7fcea1",
   "metadata": {},
   "outputs": [],
   "source": [
    "def get_genes(main, fdr_thresh = 0.05):\n",
    "    # apply filters and p-value threshold here\n",
    "    de_cond = (main['p-value'] <= fdr_thresh)\n",
    "    gwas = pd.merge(main[de_cond], pubmed_ids_df[['comparison_key', 'pubmed_id']])\n",
    "    \n",
    "    print(str(len(set(gwas['pubmed_id'].values))) + ' transcriptomics articles')\n",
    "\n",
    "    de_dict = gwas.groupby('pubmed_id')['gene_ncbi'].apply(set).to_dict()\n",
    "    de_dict_mentioned_genes = (\n",
    "        gene2pubmed[gene2pubmed['pubmed_id']\n",
    "                    .isin(gwas['pubmed_id'])]\n",
    "        .groupby('pubmed_id')['gene_ncbi']\n",
    "        .apply(set).to_dict()\n",
    "    )\n",
    "\n",
    "    np.random.seed(49)\n",
    "    n_samp = 100\n",
    "    de_sets = []\n",
    "    de_mentioned_sets = []\n",
    "    de_mentioned_sets_null = []\n",
    "    de_citations_mentioned_sets = []\n",
    "    citations_mentioned_sets = []\n",
    "    for comparison_key in np.unique(gwas['pubmed_id'].values):\n",
    "        de_list = de_dict.get(comparison_key)\n",
    "\n",
    "        if de_dict_mentioned_genes.get(comparison_key):\n",
    "            de_list_mentioned_genes = de_dict_mentioned_genes.get(comparison_key)\n",
    "        else:\n",
    "            de_list_mentioned_genes = set()\n",
    "\n",
    "        for n_n in range(n_samp):\n",
    "            de_mentioned_sets_null.append(set(np.random.choice(list(de_list), \n",
    "                                                               replace=False, size=len(de_list_mentioned_genes & de_list))))\n",
    "\n",
    "        de_sets.append(de_list)\n",
    "        de_mentioned_sets.append(de_list_mentioned_genes)\n",
    "    de_list_mentioned_genes_null = set().union(*de_mentioned_sets_null)\n",
    "\n",
    "    icite_slice = icite[icite['referenced'].isin(gwas['pubmed_id'])].copy()\n",
    "\n",
    "    icite_slice = pd.merge(icite_slice, gene2pubmed, left_on='citing', right_on='pubmed_id')\n",
    "\n",
    "    icite_slice = pd.merge(gwas[['gene_ncbi', 'pubmed_id']].drop_duplicates(), \n",
    "                     icite_slice, \n",
    "                     left_on='pubmed_id', right_on='referenced')\n",
    "\n",
    "    icite_slice = icite_slice[icite_slice['gene_ncbi_x'] == icite_slice['gene_ncbi_y']]\n",
    "\n",
    "    fig = plt.figure(figsize=(8,5))\n",
    "    ax = plt.gca()\n",
    "    pad = 0.2\n",
    "\n",
    "    prot_genes = set(gene_info[gene_info['type_of_gene'] == 'protein-coding']['gene_ncbi'])\n",
    "\n",
    "    de_list = set(gwas['gene_ncbi']) & prot_genes #.union(*de_sets) & prot_genes\n",
    "    de_list_mentioned_genes = de_list & set(gene2pubmed[gene2pubmed['pubmed_id'].isin(gwas['pubmed_id'])]['gene_ncbi']) & prot_genes\n",
    "    de_list_mentioned_genes_null = set().union(*de_mentioned_sets_null) & prot_genes\n",
    "    de_citations_mentioned_sets = de_list & set(icite_slice['gene_ncbi_y'])\n",
    "    #itations_mentioned_sets = set().union(*citations_mentioned_sets) & prot_genes\n",
    "    medianprops = dict(linestyle='solid', linewidth=2, color='k')\n",
    "    whiskerprops = dict(linestyle='solid', linewidth=2, color='k')\n",
    "    capprops = dict(linestyle='solid', linewidth=2, color='k')\n",
    "\n",
    "    data = [(pd.DataFrame([gene2pubmed_dict.get(x) for x in prot_genes]).fillna(0.0) + 1)[0].values,\n",
    "            (pd.DataFrame([gene2pubmed_dict.get(x) for x in de_list]).fillna(0.0) + 1)[0].values,\n",
    "            (pd.DataFrame([gene2pubmed_dict.get(x) for x in de_list_mentioned_genes_null]).fillna(0.0) + 1)[0].values,\n",
    "           (pd.DataFrame([gene2pubmed_dict.get(x) for x in de_list_mentioned_genes]).fillna(0.0) + 1)[0].values, \n",
    "            (pd.DataFrame([gene2pubmed_dict.get(x) for x in de_citations_mentioned_sets]).fillna(0.0) + 1)[0].values]\n",
    "\n",
    "    ax.boxplot(data, widths=2*pad-(pad/4), positions=np.arange(len(data))+1, whis=[2.5,97.5], patch_artist=True,\n",
    "               boxprops=dict(facecolor=sns.color_palette()[0], linewidth=2), \n",
    "               whiskerprops=whiskerprops, capprops=capprops, medianprops=medianprops)\n",
    "\n",
    "    ax.set_xlim([1-2.5*pad, 5+2.5*pad])\n",
    "    ax.set_yscale('log')\n",
    "    ax.set_xticks([1,2,3,4,5], labels=['all protein-\\ncoding genes',\n",
    "                                     'transcriptomics hits', \n",
    "                                     'null expectation',\n",
    "                                   'transcriptomics hits\\npromoted to\\ntitle/abstract', \n",
    "                                   'transcriptomics hits\\npromoted to\\ntitle/abstract\\nin citing papers'])\n",
    "\n",
    "    df_array = []\n",
    "    for gene_set, label in zip([prot_genes, \n",
    "                de_list, \n",
    "                de_list_mentioned_genes_null, \n",
    "                de_list_mentioned_genes, \n",
    "                de_citations_mentioned_sets],\n",
    "                       ['genome', \n",
    "                        'hits', \n",
    "                        'mentioned_hits_null',\n",
    "                        'mentioned_hits', \n",
    "                        'citations_mentioned_hits']):\n",
    "        temp_df = pd.DataFrame({'gene_ncbi':list(gene_set)})\n",
    "        temp_df['set'] = label\n",
    "        df_array.append(temp_df)\n",
    "    temp_df = pd.concat(df_array)\n",
    "\n",
    "    temp_df.to_csv('../data/transcriptomics_hits_' + str(fdr_thresh) + '.csv', index=False)"
   ]
  },
  {
   "cell_type": "code",
   "execution_count": 23,
   "id": "e28534cd",
   "metadata": {
    "scrolled": false
   },
   "outputs": [
    {
     "name": "stdout",
     "output_type": "stream",
     "text": [
      "250 transcriptomics articles\n",
      "235 transcriptomics articles\n",
      "219 transcriptomics articles\n",
      "192 transcriptomics articles\n",
      "171 transcriptomics articles\n"
     ]
    },
    {
     "data": {
      "image/png": "[encoded data removed]",
      "text/plain": [
       "<Figure size 576x360 with 1 Axes>"
      ]
     },
     "metadata": {
      "needs_background": "light"
     },
     "output_type": "display_data"
    },
    {
     "data": {
      "image/png": "[encoded data removed]",
      "text/plain": [
       "<Figure size 576x360 with 1 Axes>"
      ]
     },
     "metadata": {
      "needs_background": "light"
     },
     "output_type": "display_data"
    },
    {
     "data": {
      "image/png": "[encoded data removed]",
      "text/plain": [
       "<Figure size 576x360 with 1 Axes>"
      ]
     },
     "metadata": {
      "needs_background": "light"
     },
     "output_type": "display_data"
    },
    {
     "data": {
      "image/png": "[encoded data removed]",
      "text/plain": [
       "<Figure size 576x360 with 1 Axes>"
      ]
     },
     "metadata": {
      "needs_background": "light"
     },
     "output_type": "display_data"
    },
    {
     "data": {
      "image/png": "[encoded data removed]",
      "text/plain": [
       "<Figure size 576x360 with 1 Axes>"
      ]
     },
     "metadata": {
      "needs_background": "light"
     },
     "output_type": "display_data"
    }
   ],
   "source": [
    "get_genes(main, fdr_thresh=0.05)\n",
    "get_genes(main, fdr_thresh=0.01)\n",
    "get_genes(main, fdr_thresh=0.001)\n",
    "get_genes(main, fdr_thresh=0.0001)\n",
    "get_genes(main, fdr_thresh=0.00001)"
   ]
  },
  {
   "cell_type": "markdown",
   "id": "1487f364",
   "metadata": {},
   "source": [
    "Fold-changes predict elevation to title/abstract?"
   ]
  },
  {
   "cell_type": "code",
   "execution_count": 106,
   "id": "d20af90a",
   "metadata": {},
   "outputs": [],
   "source": [
    "def get_genes_fc(main, fdr_thresh = 0.05):\n",
    "    # apply filters and p-value threshold here\n",
    "    de_cond = (main['p-value'] <= fdr_thresh)\n",
    "    \n",
    "    single_pubmed = (\n",
    "    pubmed_ids_df['pubmed_id'].value_counts()\n",
    "        [pubmed_ids_df['pubmed_id'].value_counts() == 1].index\n",
    "    )\n",
    "    \n",
    "    \n",
    "    gwas = pd.merge(main[de_cond], \n",
    "                    pubmed_ids_df[pubmed_ids_df['pubmed_id'].isin(single_pubmed)][['comparison_key', 'pubmed_id']])\n",
    "    print(str(len(set(gwas['pubmed_id'].values))) + ' transcriptomics articles')\n",
    "    gwas['up_reg'] = gwas['log2foldchange'] > 0\n",
    "    \n",
    "    de_dict = gwas.groupby(['pubmed_id', 'up_reg'])['gene_ncbi'].apply(set).to_dict()\n",
    "    de_dict_mentioned_genes = (\n",
    "        gene2pubmed[gene2pubmed['pubmed_id']\n",
    "                    .isin(gwas['pubmed_id'])]\n",
    "        .groupby('pubmed_id')['gene_ncbi']\n",
    "        .apply(set).to_dict()\n",
    "    )\n",
    "    \n",
    "    gwas['mentioned'] = [de_dict_mentioned_genes.get(comparison_key) for comparison_key in gwas['pubmed_id']]\n",
    "    gwas['gene_in_mentioned'] = [gene in sett for gene, sett in zip(gwas['gene_ncbi'], gwas['mentioned'])]\n",
    "    \n",
    "    gwas_merge = pd.merge(gwas, gene2pubmed, on='pubmed_id')\n",
    "    gwas_merge = gwas_merge[gwas_merge['gene_ncbi_x'] == gwas_merge['gene_ncbi_y']]\n",
    "    return gwas"
   ]
  },
  {
   "cell_type": "code",
   "execution_count": 111,
   "id": "6dd652ef",
   "metadata": {},
   "outputs": [
    {
     "name": "stdout",
     "output_type": "stream",
     "text": [
      "129 transcriptomics articles\n"
     ]
    },
    {
     "data": {
      "text/html": [
       "<div>\n",
       "<style scoped>\n",
       "    .dataframe tbody tr th:only-of-type {\n",
       "        vertical-align: middle;\n",
       "    }\n",
       "\n",
       "    .dataframe tbody tr th {\n",
       "        vertical-align: top;\n",
       "    }\n",
       "\n",
       "    .dataframe thead th {\n",
       "        text-align: right;\n",
       "    }\n",
       "</style>\n",
       "<table border=\"1\" class=\"dataframe\">\n",
       "  <thead>\n",
       "    <tr style=\"text-align: right;\">\n",
       "      <th></th>\n",
       "      <th></th>\n",
       "      <th>comparison_key</th>\n",
       "      <th>gene_ncbi</th>\n",
       "      <th>p-value</th>\n",
       "      <th>log2foldchange</th>\n",
       "      <th>type</th>\n",
       "      <th>pubmed_id</th>\n",
       "      <th>mentioned</th>\n",
       "    </tr>\n",
       "    <tr>\n",
       "      <th>gene_in_mentioned</th>\n",
       "      <th>up_reg</th>\n",
       "      <th></th>\n",
       "      <th></th>\n",
       "      <th></th>\n",
       "      <th></th>\n",
       "      <th></th>\n",
       "      <th></th>\n",
       "      <th></th>\n",
       "    </tr>\n",
       "  </thead>\n",
       "  <tbody>\n",
       "    <tr>\n",
       "      <th rowspan=\"2\" valign=\"top\">False</th>\n",
       "      <th>False</th>\n",
       "      <td>165099</td>\n",
       "      <td>165099</td>\n",
       "      <td>165099</td>\n",
       "      <td>165099</td>\n",
       "      <td>165099</td>\n",
       "      <td>165099</td>\n",
       "      <td>165099</td>\n",
       "    </tr>\n",
       "    <tr>\n",
       "      <th>True</th>\n",
       "      <td>166637</td>\n",
       "      <td>166637</td>\n",
       "      <td>166637</td>\n",
       "      <td>166637</td>\n",
       "      <td>166637</td>\n",
       "      <td>166637</td>\n",
       "      <td>166637</td>\n",
       "    </tr>\n",
       "    <tr>\n",
       "      <th rowspan=\"2\" valign=\"top\">True</th>\n",
       "      <th>False</th>\n",
       "      <td>42</td>\n",
       "      <td>42</td>\n",
       "      <td>42</td>\n",
       "      <td>42</td>\n",
       "      <td>42</td>\n",
       "      <td>42</td>\n",
       "      <td>42</td>\n",
       "    </tr>\n",
       "    <tr>\n",
       "      <th>True</th>\n",
       "      <td>40</td>\n",
       "      <td>40</td>\n",
       "      <td>40</td>\n",
       "      <td>40</td>\n",
       "      <td>40</td>\n",
       "      <td>40</td>\n",
       "      <td>40</td>\n",
       "    </tr>\n",
       "  </tbody>\n",
       "</table>\n",
       "</div>"
      ],
      "text/plain": [
       "                          comparison_key  gene_ncbi  p-value  log2foldchange    type  pubmed_id  mentioned\n",
       "gene_in_mentioned up_reg                                                                                  \n",
       "False             False           165099     165099   165099          165099  165099     165099     165099\n",
       "                  True            166637     166637   166637          166637  166637     166637     166637\n",
       "True              False               42         42       42              42      42         42         42\n",
       "                  True                40         40       40              40      40         40         40"
      ]
     },
     "execution_count": 111,
     "metadata": {},
     "output_type": "execute_result"
    }
   ],
   "source": [
    "gwas = get_genes_fc(main, fdr_thresh=0.05)\n",
    "gwas.groupby(['gene_in_mentioned', 'up_reg']).count()"
   ]
  },
  {
   "cell_type": "code",
   "execution_count": 47,
   "id": "b14eeea4",
   "metadata": {},
   "outputs": [],
   "source": [
    "de_dict_mentioned_genes = (\n",
    "        gene2pubmed[gene2pubmed['pubmed_id']\n",
    "                    .isin(gwas['pubmed_id'])]\n",
    "        .groupby('pubmed_id')['gene_ncbi']\n",
    "        .apply(set).to_dict()\n",
    "    )"
   ]
  },
  {
   "cell_type": "code",
   "execution_count": 81,
   "id": "f8419150",
   "metadata": {},
   "outputs": [
    {
     "name": "stdout",
     "output_type": "stream",
     "text": [
      "130 articles\n"
     ]
    }
   ],
   "source": [
    "gwas_merge = get_genes_fc(main, fdr_thresh=0.05)"
   ]
  },
  {
   "cell_type": "code",
   "execution_count": 104,
   "id": "c592585b",
   "metadata": {},
   "outputs": [
    {
     "name": "stderr",
     "output_type": "stream",
     "text": [
      "C:\\Users\\richa\\anaconda3\\envs\\gene_env\\lib\\site-packages\\seaborn\\distributions.py:2619: FutureWarning: `distplot` is a deprecated function and will be removed in a future version. Please adapt your code to use either `displot` (a figure-level function with similar flexibility) or `histplot` (an axes-level function for histograms).\n",
      "  warnings.warn(msg, FutureWarning)\n",
      "C:\\Users\\richa\\anaconda3\\envs\\gene_env\\lib\\site-packages\\seaborn\\distributions.py:2619: FutureWarning: `distplot` is a deprecated function and will be removed in a future version. Please adapt your code to use either `displot` (a figure-level function with similar flexibility) or `histplot` (an axes-level function for histograms).\n",
      "  warnings.warn(msg, FutureWarning)\n"
     ]
    },
    {
     "data": {
      "text/plain": [
       "<AxesSubplot:xlabel='log2foldchange', ylabel='Density'>"
      ]
     },
     "execution_count": 104,
     "metadata": {},
     "output_type": "execute_result"
    },
    {
     "data": {
      "image/png": "[encoded data removed]",
      "text/plain": [
       "<Figure size 432x288 with 1 Axes>"
      ]
     },
     "metadata": {
      "needs_background": "light"
     },
     "output_type": "display_data"
    }
   ],
   "source": [
    "bins = np.arange(-12,12,1)\n",
    "sns.distplot(gwas['log2foldchange'], bins=bins)\n",
    "sns.distplot(gwas[gwas['gene_in_mentioned']]['log2foldchange'], bins=bins)"
   ]
  },
  {
   "cell_type": "code",
   "execution_count": 95,
   "id": "139e26d9",
   "metadata": {},
   "outputs": [
    {
     "name": "stderr",
     "output_type": "stream",
     "text": [
      "C:\\Users\\richa\\anaconda3\\envs\\gene_env\\lib\\site-packages\\pandas\\core\\arraylike.py:397: RuntimeWarning: invalid value encountered in log2\n",
      "  result = getattr(ufunc, method)(*inputs, **kwargs)\n"
     ]
    },
    {
     "data": {
      "text/plain": [
       "4585        NaN\n",
       "6966        NaN\n",
       "10735     0.585\n",
       "13708       NaN\n",
       "18837     2.202\n",
       "          ...  \n",
       "413886      NaN\n",
       "417283   -1.000\n",
       "419955      NaN\n",
       "422394      NaN\n",
       "428707    0.585\n",
       "Name: log2foldchange, Length: 82, dtype: float64"
      ]
     },
     "execution_count": 95,
     "metadata": {},
     "output_type": "execute_result"
    }
   ],
   "source": [
    "np.log2(gwas_merge['log2foldchange'])"
   ]
  },
  {
   "cell_type": "code",
   "execution_count": 60,
   "id": "2caac9d8",
   "metadata": {},
   "outputs": [],
   "source": [
    "gwas['mentioned'] = [de_dict_mentioned_genes.get(comparison_key) for comparison_key in gwas['pubmed_id']]"
   ]
  },
  {
   "cell_type": "code",
   "execution_count": 61,
   "id": "6ba4d9df",
   "metadata": {},
   "outputs": [],
   "source": [
    "gwas['gene_in_mentioned'] = [gene in sett for gene, sett in zip(gwas['gene_ncbi'], gwas['mentioned'])]"
   ]
  },
  {
   "cell_type": "code",
   "execution_count": 68,
   "id": "13227d28",
   "metadata": {},
   "outputs": [
    {
     "data": {
      "text/html": [
       "<div>\n",
       "<style scoped>\n",
       "    .dataframe tbody tr th:only-of-type {\n",
       "        vertical-align: middle;\n",
       "    }\n",
       "\n",
       "    .dataframe tbody tr th {\n",
       "        vertical-align: top;\n",
       "    }\n",
       "\n",
       "    .dataframe thead th {\n",
       "        text-align: right;\n",
       "    }\n",
       "</style>\n",
       "<table border=\"1\" class=\"dataframe\">\n",
       "  <thead>\n",
       "    <tr style=\"text-align: right;\">\n",
       "      <th></th>\n",
       "      <th></th>\n",
       "      <th>comparison_key</th>\n",
       "      <th>gene_ncbi</th>\n",
       "      <th>p-value</th>\n",
       "      <th>log2foldchange</th>\n",
       "      <th>type</th>\n",
       "      <th>pubmed_id</th>\n",
       "      <th>mentioned</th>\n",
       "    </tr>\n",
       "    <tr>\n",
       "      <th>gene_in_mentioned</th>\n",
       "      <th>up_reg</th>\n",
       "      <th></th>\n",
       "      <th></th>\n",
       "      <th></th>\n",
       "      <th></th>\n",
       "      <th></th>\n",
       "      <th></th>\n",
       "      <th></th>\n",
       "    </tr>\n",
       "  </thead>\n",
       "  <tbody>\n",
       "    <tr>\n",
       "      <th rowspan=\"2\" valign=\"top\">False</th>\n",
       "      <th>False</th>\n",
       "      <td>165099</td>\n",
       "      <td>165099</td>\n",
       "      <td>165099</td>\n",
       "      <td>165099</td>\n",
       "      <td>165099</td>\n",
       "      <td>165099</td>\n",
       "      <td>165099</td>\n",
       "    </tr>\n",
       "    <tr>\n",
       "      <th>True</th>\n",
       "      <td>166637</td>\n",
       "      <td>166637</td>\n",
       "      <td>166637</td>\n",
       "      <td>166637</td>\n",
       "      <td>166637</td>\n",
       "      <td>166637</td>\n",
       "      <td>166637</td>\n",
       "    </tr>\n",
       "    <tr>\n",
       "      <th rowspan=\"2\" valign=\"top\">True</th>\n",
       "      <th>False</th>\n",
       "      <td>42</td>\n",
       "      <td>42</td>\n",
       "      <td>42</td>\n",
       "      <td>42</td>\n",
       "      <td>42</td>\n",
       "      <td>42</td>\n",
       "      <td>42</td>\n",
       "    </tr>\n",
       "    <tr>\n",
       "      <th>True</th>\n",
       "      <td>40</td>\n",
       "      <td>40</td>\n",
       "      <td>40</td>\n",
       "      <td>40</td>\n",
       "      <td>40</td>\n",
       "      <td>40</td>\n",
       "      <td>40</td>\n",
       "    </tr>\n",
       "  </tbody>\n",
       "</table>\n",
       "</div>"
      ],
      "text/plain": [
       "                          comparison_key  gene_ncbi  p-value  log2foldchange    type  pubmed_id  mentioned\n",
       "gene_in_mentioned up_reg                                                                                  \n",
       "False             False           165099     165099   165099          165099  165099     165099     165099\n",
       "                  True            166637     166637   166637          166637  166637     166637     166637\n",
       "True              False               42         42       42              42      42         42         42\n",
       "                  True                40         40       40              40      40         40         40"
      ]
     },
     "execution_count": 68,
     "metadata": {},
     "output_type": "execute_result"
    }
   ],
   "source": [
    "gwas.groupby(['gene_in_mentioned', 'up_reg']).count()"
   ]
  },
  {
   "cell_type": "code",
   "execution_count": 77,
   "id": "466b875a",
   "metadata": {},
   "outputs": [
    {
     "data": {
      "text/html": [
       "<div>\n",
       "<style scoped>\n",
       "    .dataframe tbody tr th:only-of-type {\n",
       "        vertical-align: middle;\n",
       "    }\n",
       "\n",
       "    .dataframe tbody tr th {\n",
       "        vertical-align: top;\n",
       "    }\n",
       "\n",
       "    .dataframe thead th {\n",
       "        text-align: right;\n",
       "    }\n",
       "</style>\n",
       "<table border=\"1\" class=\"dataframe\">\n",
       "  <thead>\n",
       "    <tr style=\"text-align: right;\">\n",
       "      <th></th>\n",
       "      <th>pubmed_id</th>\n",
       "      <th>gene_ncbi</th>\n",
       "    </tr>\n",
       "  </thead>\n",
       "  <tbody>\n",
       "    <tr>\n",
       "      <th>0</th>\n",
       "      <td>87</td>\n",
       "      <td>27</td>\n",
       "    </tr>\n",
       "    <tr>\n",
       "      <th>1</th>\n",
       "      <td>87</td>\n",
       "      <td>170589</td>\n",
       "    </tr>\n",
       "    <tr>\n",
       "      <th>2</th>\n",
       "      <td>2009</td>\n",
       "      <td>8566</td>\n",
       "    </tr>\n",
       "    <tr>\n",
       "      <th>6</th>\n",
       "      <td>18198</td>\n",
       "      <td>92086</td>\n",
       "    </tr>\n",
       "    <tr>\n",
       "      <th>7</th>\n",
       "      <td>18469</td>\n",
       "      <td>1841</td>\n",
       "    </tr>\n",
       "    <tr>\n",
       "      <th>...</th>\n",
       "      <td>...</td>\n",
       "      <td>...</td>\n",
       "    </tr>\n",
       "    <tr>\n",
       "      <th>844056</th>\n",
       "      <td>33228346</td>\n",
       "      <td>6387</td>\n",
       "    </tr>\n",
       "    <tr>\n",
       "      <th>844057</th>\n",
       "      <td>33228346</td>\n",
       "      <td>7852</td>\n",
       "    </tr>\n",
       "    <tr>\n",
       "      <th>844062</th>\n",
       "      <td>33228505</td>\n",
       "      <td>1535</td>\n",
       "    </tr>\n",
       "    <tr>\n",
       "      <th>844063</th>\n",
       "      <td>33228505</td>\n",
       "      <td>4353</td>\n",
       "    </tr>\n",
       "    <tr>\n",
       "      <th>844371</th>\n",
       "      <td>33237144</td>\n",
       "      <td>79068</td>\n",
       "    </tr>\n",
       "  </tbody>\n",
       "</table>\n",
       "<p>650433 rows × 2 columns</p>\n",
       "</div>"
      ],
      "text/plain": [
       "        pubmed_id  gene_ncbi\n",
       "0              87         27\n",
       "1              87     170589\n",
       "2            2009       8566\n",
       "6           18198      92086\n",
       "7           18469       1841\n",
       "...           ...        ...\n",
       "844056   33228346       6387\n",
       "844057   33228346       7852\n",
       "844062   33228505       1535\n",
       "844063   33228505       4353\n",
       "844371   33237144      79068\n",
       "\n",
       "[650433 rows x 2 columns]"
      ]
     },
     "execution_count": 77,
     "metadata": {},
     "output_type": "execute_result"
    }
   ],
   "source": [
    "gene2pubmed"
   ]
  },
  {
   "cell_type": "code",
   "execution_count": null,
   "id": "c83d647b",
   "metadata": {},
   "outputs": [],
   "source": []
  }
 ],
 "metadata": {
  "kernelspec": {
   "display_name": "Python 3 (ipykernel)",
   "language": "python",
   "name": "python3"
  },
  "language_info": {
   "codemirror_mode": {
    "name": "ipython",
    "version": 3
   },
   "file_extension": ".py",
   "mimetype": "text/x-python",
   "name": "python",
   "nbconvert_exporter": "python",
   "pygments_lexer": "ipython3",
   "version": "3.9.12"
  }
 },
 "nbformat": 4,
 "nbformat_minor": 5
}
