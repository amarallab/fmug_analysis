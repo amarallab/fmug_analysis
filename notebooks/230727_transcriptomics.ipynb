{
 "cells": [
  {
   "cell_type": "code",
   "execution_count": 1,
   "id": "ec7991ec",
   "metadata": {},
   "outputs": [
    {
     "name": "stderr",
     "output_type": "stream",
     "text": [
      "C:\\Users\\richa\\anaconda3\\envs\\gene_env\\lib\\site-packages\\scipy\\__init__.py:146: UserWarning: A NumPy version >=1.17.3 and <1.25.0 is required for this version of SciPy (detected version 1.26.3\n",
      "  warnings.warn(f\"A NumPy version >={np_minversion} and <{np_maxversion}\"\n"
     ]
    }
   ],
   "source": [
    "import numpy as np\n",
    "import pandas as pd\n",
    "import scipy\n",
    "\n",
    "from IPython.display import clear_output\n",
    "\n",
    "import sys\n",
    "sys.path.append('../../../../Documents/GitHub/gustav/src/')\n",
    "\n",
    "from gustav import ebi, ncbi, nlm, biogrid, nih\n",
    "from gustav import publications\n",
    "from gustav import github\n",
    "from gustav import access_framework\n",
    "from gustav import mapper\n",
    "\n",
    "import matplotlib as mpl\n",
    "import matplotlib.pyplot as plt\n",
    "import seaborn as sns\n",
    "\n",
    "sys.path.append('../general/src/')\n",
    "from manuscript import export\n",
    "from manuscript import inout\n",
    "from manuscript import datasets\n",
    "from manuscript import tools\n",
    "\n",
    "from sklearn.metrics import auc\n",
    "from scipy.stats import fisher_exact\n",
    "pd.options.display.precision = 3\n",
    "pd.options.display.expand_frame_repr = False\n",
    "pd.options.display.max_columns = 20"
   ]
  },
  {
   "cell_type": "code",
   "execution_count": 2,
   "id": "ba0f2a60",
   "metadata": {},
   "outputs": [
    {
     "name": "stderr",
     "output_type": "stream",
     "text": [
      "C:\\Users\\richa\\Documents\\GitHub\\fmug_analysis\\notebooks\\../../../../Documents/GitHub/gustav/src\\gustav\\utils.py:52: FutureWarning: In a future version of pandas all arguments of DataFrame.drop except for the argument 'labels' will be keyword-only.\n",
      "  df_with_delimiter.drop(column, 1).reset_index(),\n",
      "C:\\Users\\richa\\Documents\\GitHub\\fmug_analysis\\notebooks\\../../../../Documents/GitHub/gustav/src\\gustav\\utils.py:63: FutureWarning: In a future version of pandas all arguments of DataFrame.drop except for the argument 'labels' will be keyword-only.\n",
      "  joined = joined.drop('helper_index', 1)\n",
      "C:\\Users\\richa\\Documents\\GitHub\\fmug_analysis\\notebooks\\../../../../Documents/GitHub/gustav/src\\gustav\\utils.py:52: FutureWarning: In a future version of pandas all arguments of DataFrame.drop except for the argument 'labels' will be keyword-only.\n",
      "  df_with_delimiter.drop(column, 1).reset_index(),\n",
      "C:\\Users\\richa\\Documents\\GitHub\\fmug_analysis\\notebooks\\../../../../Documents/GitHub/gustav/src\\gustav\\utils.py:63: FutureWarning: In a future version of pandas all arguments of DataFrame.drop except for the argument 'labels' will be keyword-only.\n",
      "  joined = joined.drop('helper_index', 1)\n"
     ]
    }
   ],
   "source": [
    "taxon = 9606\n",
    "gene_flavor = 'ou'\n",
    "ref_genes = datasets.reference_genes(taxon, gene_flavor)\n",
    "gene_info = ncbi.gene_info(taxon, mode='unambiguous_ensembl')"
   ]
  },
  {
   "cell_type": "code",
   "execution_count": 3,
   "id": "60eb53fd",
   "metadata": {},
   "outputs": [],
   "source": [
    "ref_literature = datasets.reference_publications(taxon)"
   ]
  },
  {
   "cell_type": "code",
   "execution_count": 4,
   "id": "61e9a6e1",
   "metadata": {},
   "outputs": [],
   "source": [
    "agg = []\n",
    "literature_flavor = 'pubtator_title_or_abstract_in_any_gene2pubmed_paper'\n",
    "\n",
    "gene2lit = datasets.reference_gene2lit(\n",
    "    taxon, \n",
    "    literature_flavor)\n",
    "gene2lit = gene2lit[\n",
    "    gene2lit['gene_ncbi'].isin(ref_genes) & \n",
    "    gene2lit['pubmed_id'].isin(ref_literature)\n",
    "].copy()"
   ]
  },
  {
   "cell_type": "code",
   "execution_count": 5,
   "id": "dd67ae5e",
   "metadata": {},
   "outputs": [
    {
     "name": "stdout",
     "output_type": "stream",
     "text": [
      "CPU times: total: 141 ms\n",
      "Wall time: 137 ms\n"
     ]
    }
   ],
   "source": [
    "%%time\n",
    "gene2pubmed = gene2lit #ncbi.gene2pubmed(taxon_ncbi=9606)\n",
    "large_pubs = gene2pubmed['pubmed_id'].value_counts()[gene2pubmed['pubmed_id'].value_counts() >= 100].index.values\n",
    "#gene2pubmed = gene2pubmed[~gene2pubmed['pubmed_id'].isin(large_pubs)]\n",
    "\n",
    "gene2pubmed_dict = gene2pubmed[~gene2pubmed['pubmed_id'].isin(large_pubs)].value_counts('gene_ncbi').to_dict()"
   ]
  },
  {
   "cell_type": "markdown",
   "id": "2b984946",
   "metadata": {},
   "source": [
    "# EBI-GXA"
   ]
  },
  {
   "cell_type": "code",
   "execution_count": 6,
   "id": "9fb70502",
   "metadata": {},
   "outputs": [
    {
     "name": "stderr",
     "output_type": "stream",
     "text": [
      "C:\\Users\\richa\\Documents\\GitHub\\fmug_analysis\\notebooks\\../../../../Documents/GitHub/gustav/src\\gustav\\utils.py:52: FutureWarning: In a future version of pandas all arguments of DataFrame.drop except for the argument 'labels' will be keyword-only.\n",
      "  df_with_delimiter.drop(column, 1).reset_index(),\n",
      "C:\\Users\\richa\\Documents\\GitHub\\fmug_analysis\\notebooks\\../../../../Documents/GitHub/gustav/src\\gustav\\utils.py:63: FutureWarning: In a future version of pandas all arguments of DataFrame.drop except for the argument 'labels' will be keyword-only.\n",
      "  joined = joined.drop('helper_index', 1)\n"
     ]
    },
    {
     "name": "stdout",
     "output_type": "stream",
     "text": [
      "CPU times: total: 21.8 s\n",
      "Wall time: 22.1 s\n"
     ]
    }
   ],
   "source": [
    "%%time\n",
    "\n",
    "taxon = 9606\n",
    "\n",
    "gene_info = ncbi.gene_info(taxon, mode='unambiguous_ensembl')\n",
    "\n",
    "ref_genes = gene_info[\n",
    "    (gene_info['type_of_gene']=='protein-coding') &\n",
    "    (gene_info['nomenclature_status']=='O')   # Carries an official gene symbol\n",
    "]['gene_ncbi']\n",
    "\n",
    "de = ebi.gxa(\n",
    "    'de_{}_entrez'.format(taxon),\n",
    "    columns=['comparison_key', 'gene_ncbi', 'p-value', 'log2foldchange']\n",
    ")\n",
    "\n",
    "de = de.drop_duplicates(subset=['comparison_key', 'gene_ncbi'], keep='first')\n",
    "\n",
    "contrasts = ebi.gxa(\n",
    "    'contrasts',\n",
    "    columns=['comparison_key', 'experiment']\n",
    ")\n",
    "\n",
    "studies = ebi.gxa(\n",
    "    'studies',\n",
    "    columns=['experiment', 'qualifier', 'value']\n",
    ")\n",
    "\n",
    "study_types = studies[\n",
    "    studies['qualifier'].str.contains('[AEExperimentType]', regex=False)\n",
    "].drop_duplicates()\n",
    "study_types['value'] = study_types['value'].str.strip(' ').str.strip('\"')\n",
    "study_types = study_types[['experiment', 'value']].rename(columns={'value': 'type'})\n",
    "study_types = study_types.drop_duplicates()\n",
    "\n",
    "study_types = study_types.drop_duplicates('experiment', keep=False)\n",
    "\n",
    "study_types = study_types[\n",
    "    study_types['type'].isin(\n",
    "        [\n",
    "           'transcription profiling by array',\n",
    "           'RNA-seq of coding RNA' \n",
    "        ]\n",
    "    )\n",
    "].replace(\n",
    "    {\n",
    "       'transcription profiling by array': 'array',\n",
    "       'RNA-seq of coding RNA': 'rna_seq' \n",
    "    }\n",
    ")\n",
    "\n",
    "main = pd.merge(\n",
    "    de,\n",
    "    pd.merge(\n",
    "        contrasts,\n",
    "        study_types\n",
    "    )[['comparison_key', 'type']]\n",
    ")\n",
    "\n",
    "main = main[main['gene_ncbi'].isin(ref_genes)]"
   ]
  },
  {
   "cell_type": "code",
   "execution_count": 7,
   "id": "ff9e24cb",
   "metadata": {},
   "outputs": [],
   "source": [
    "studies.loc[(studies['qualifier'] == 'PubMed ID') | \n",
    "        (studies['qualifier'] == 'Pubmed ID') | \n",
    "        (studies['qualifier'] == 'pubmedID') | \n",
    "        (studies['qualifier'] == 'PubMed ID       ') | \n",
    "        (studies['qualifier'] == '''\"Pubmed ID\"''') | \n",
    "        (studies['qualifier'] == 'PubMedID') | \n",
    "        (studies['qualifier'] == 'PubMed Id') | \n",
    "        (studies['qualifier'] == 'PubmedID') |\n",
    "        (studies['qualifier'] == 'PubMed ID '), ['qualifier']] = 'pubmed_id'\n",
    "\n",
    "pubmed_ids_df  = studies[studies['qualifier'] == 'pubmed_id']\n",
    "\n",
    "pubmed_ids_df = pd.merge(contrasts, pubmed_ids_df, how='left').rename(columns={'value':'pubmed_id'})"
   ]
  },
  {
   "cell_type": "code",
   "execution_count": 8,
   "id": "e3dcfe06",
   "metadata": {},
   "outputs": [
    {
     "data": {
      "text/plain": [
       "28892060    115\n",
       "24885658     65\n",
       "31806758     63\n",
       "17394647     60\n",
       "23180784     52\n",
       "           ... \n",
       "26891258      1\n",
       "23327667      1\n",
       "17420462      1\n",
       "22383093      1\n",
       "18156220      1\n",
       "Name: pubmed_id, Length: 2550, dtype: int64"
      ]
     },
     "execution_count": 8,
     "metadata": {},
     "output_type": "execute_result"
    }
   ],
   "source": [
    "# total records\n",
    "pubmed_ids_df['pubmed_id'].value_counts()"
   ]
  },
  {
   "cell_type": "code",
   "execution_count": 9,
   "id": "a3e1d1a9",
   "metadata": {},
   "outputs": [
    {
     "data": {
      "text/plain": [
       "28892060    110\n",
       "24885658     65\n",
       "23935999     31\n",
       "25314013     31\n",
       "16478798     24\n",
       "           ... \n",
       "25397880      1\n",
       "25488971      1\n",
       "23254957      1\n",
       "21810943      1\n",
       "21928115      1\n",
       "Name: pubmed_id, Length: 976, dtype: int64"
      ]
     },
     "execution_count": 9,
     "metadata": {},
     "output_type": "execute_result"
    }
   ],
   "source": [
    "# human experiments\n",
    "pubmed_ids_df[pubmed_ids_df['comparison_key'].isin(np.unique(main['comparison_key']))]['pubmed_id'].value_counts()"
   ]
  },
  {
   "cell_type": "code",
   "execution_count": 10,
   "id": "55350df8",
   "metadata": {},
   "outputs": [
    {
     "name": "stdout",
     "output_type": "stream",
     "text": [
      "CPU times: total: 1.02 s\n",
      "Wall time: 1.02 s\n"
     ]
    }
   ],
   "source": [
    "%%time\n",
    "pubmed_ids_df = pubmed_ids_df[(pubmed_ids_df['comparison_key'].isin(np.unique(main['comparison_key']))) & \n",
    "              (pubmed_ids_df['pubmed_id'].isin(gene2pubmed['pubmed_id'].astype(str)))].dropna()\\\n",
    "\n",
    "pubmed_ids_df['pubmed_id'] = pubmed_ids_df['pubmed_id'].astype(int)"
   ]
  },
  {
   "cell_type": "code",
   "execution_count": 11,
   "id": "75158755",
   "metadata": {},
   "outputs": [
    {
     "data": {
      "text/plain": [
       "22833572    22\n",
       "25968456    10\n",
       "25475719    10\n",
       "24971610     8\n",
       "22970192     7\n",
       "            ..\n",
       "20179017     1\n",
       "23922103     1\n",
       "23610125     1\n",
       "23267084     1\n",
       "24086395     1\n",
       "Name: pubmed_id, Length: 252, dtype: int64"
      ]
     },
     "execution_count": 11,
     "metadata": {},
     "output_type": "execute_result"
    }
   ],
   "source": [
    "# genes in title/abtract\n",
    "pubmed_ids_df['pubmed_id'].value_counts()"
   ]
  },
  {
   "cell_type": "code",
   "execution_count": 12,
   "id": "882cb4fe",
   "metadata": {},
   "outputs": [
    {
     "name": "stdout",
     "output_type": "stream",
     "text": [
      "CPU times: total: 609 ms\n",
      "Wall time: 618 ms\n"
     ]
    }
   ],
   "source": [
    "%%time\n",
    "fdr_thresh = 0.05\n",
    "de_cond = (main['p-value'] < fdr_thresh)\n",
    "new_main = pd.merge(main[de_cond], pubmed_ids_df[['comparison_key', 'pubmed_id']])"
   ]
  },
  {
   "cell_type": "code",
   "execution_count": 13,
   "id": "457e1b6c",
   "metadata": {},
   "outputs": [
    {
     "data": {
      "text/plain": [
       "0          22991305\n",
       "6560       23024189\n",
       "6700       23707782\n",
       "8316       23824327\n",
       "9988       23871666\n",
       "             ...   \n",
       "1407653    24971610\n",
       "1415694    26313692\n",
       "1424187    25648896\n",
       "1428406    26735015\n",
       "1432477    23825313\n",
       "Name: pubmed_id, Length: 250, dtype: int32"
      ]
     },
     "execution_count": 13,
     "metadata": {},
     "output_type": "execute_result"
    }
   ],
   "source": [
    "# hits in study\n",
    "new_main['pubmed_id'].drop_duplicates()"
   ]
  },
  {
   "cell_type": "code",
   "execution_count": 14,
   "id": "bf23077a",
   "metadata": {},
   "outputs": [],
   "source": [
    "#new_main['pubmed_id'].drop_duplicates().to_csv('../data/transcriptomics_pubmed_ids.csv', index=False)"
   ]
  },
  {
   "cell_type": "code",
   "execution_count": 15,
   "id": "9319f857",
   "metadata": {},
   "outputs": [
    {
     "name": "stdout",
     "output_type": "stream",
     "text": [
      "CPU times: total: 20.3 s\n",
      "Wall time: 23.4 s\n"
     ]
    }
   ],
   "source": [
    "%%time\n",
    "icite = nih.icite(dataset='citations')"
   ]
  },
  {
   "cell_type": "code",
   "execution_count": 16,
   "id": "ad7fcea1",
   "metadata": {},
   "outputs": [],
   "source": [
    "def get_genes(main, fdr_thresh = 0.05):\n",
    "    # apply filters and p-value threshold here\n",
    "    de_cond = (main['p-value'] <= fdr_thresh)\n",
    "    gwas = pd.merge(main[de_cond], pubmed_ids_df[['comparison_key', 'pubmed_id']])\n",
    "    \n",
    "    prot_genes = set(gene_info[gene_info['type_of_gene'] == 'protein-coding']['gene_ncbi'])\n",
    "    \n",
    "    print(str(len(set(gwas['pubmed_id'].values))) + ' transcriptomics articles')\n",
    "    \n",
    "    icite_slice = icite[icite['referenced'].isin(gwas['pubmed_id'])].copy()\n",
    "    icite_slice = pd.merge(icite_slice, gene2pubmed, left_on='citing', right_on='pubmed_id')\n",
    "    print(str(icite_slice['citing'].nunique()) + ' citing articles')\n",
    "\n",
    "    de_dict = gwas.groupby('pubmed_id')['gene_ncbi'].apply(set).to_dict()\n",
    "    de_dict_mentioned_genes = (\n",
    "        gene2pubmed[gene2pubmed['pubmed_id']\n",
    "                    .isin(gwas['pubmed_id'])]\n",
    "        .groupby('pubmed_id')['gene_ncbi']\n",
    "        .apply(set).to_dict()\n",
    "    )\n",
    "    de_dict_citations_mentioned_genes = icite_slice.groupby('referenced')['gene_ncbi'].apply(set).to_dict()\n",
    "\n",
    "    np.random.seed(49)\n",
    "    n_samp = 100\n",
    "    de_sets = []\n",
    "    de_mentioned_sets = []\n",
    "    de_mentioned_sets_null = []\n",
    "    de_citations_mentioned_sets = []\n",
    "    citations_mentioned_sets = []\n",
    "    result_df_array = []\n",
    "    citing_articles_array = []\n",
    "    for comparison_key in np.unique(gwas['pubmed_id'].values):\n",
    "        \n",
    "        ### Collect all sets of unique genes\n",
    "        de_list = de_dict.get(comparison_key) & prot_genes\n",
    "\n",
    "        if de_dict_mentioned_genes.get(comparison_key):\n",
    "            de_list_mentioned_genes = de_dict_mentioned_genes.get(comparison_key) & de_list\n",
    "        else:\n",
    "            de_list_mentioned_genes = set()\n",
    "            \n",
    "        if de_dict_citations_mentioned_genes.get(comparison_key):\n",
    "            de_list_citations_mentioned_genes = de_dict_citations_mentioned_genes.get(comparison_key) & de_list\n",
    "        else:\n",
    "            de_list_citations_mentioned_genes = set()\n",
    "            \n",
    "        citing_articles = []\n",
    "        citing_articles = icite_slice[(icite_slice['referenced'] == comparison_key) &\n",
    "                                          icite_slice['gene_ncbi'].isin(de_list)]['citing'].values\n",
    "        for citing_article in citing_articles:\n",
    "            citing_articles_array.append(citing_article)\n",
    "\n",
    "        for n_n in range(n_samp):\n",
    "            de_mentioned_sets_null.append(set(np.random.choice(list(de_list), \n",
    "                                                               replace=False, size=len(de_list_mentioned_genes))))\n",
    "\n",
    "        de_sets.append(de_list)\n",
    "        de_mentioned_sets.append(de_list_mentioned_genes)\n",
    "        de_citations_mentioned_sets.append(de_list_citations_mentioned_genes)\n",
    "        \n",
    "        ### Impute transition probabilities\n",
    "        result_df = pd.DataFrame()\n",
    "        result_df['gene_ncbi'] = list(de_list)\n",
    "        result_df['comparison'] = comparison_key\n",
    "        result_df['mentioned'] = result_df['gene_ncbi'].isin(de_list_mentioned_genes)\n",
    "        result_df['mentioned_citations'] = result_df['gene_ncbi'].isin(de_list_citations_mentioned_genes)\n",
    "        result_df_array.append(result_df)\n",
    "        \n",
    "    ### Collect unique genes\n",
    "    de_list = set().union(*de_sets)\n",
    "    de_list_mentioned = set().union(*de_mentioned_sets)\n",
    "    de_list_mentioned_genes_null = set().union(*de_mentioned_sets_null)\n",
    "    de_list_citations_mentioned = set().union(*de_citations_mentioned_sets)\n",
    "    \n",
    "    ### Collect data for each set\n",
    "    result_df = pd.concat(result_df_array)\n",
    "    \n",
    "    helper = result_df.groupby('comparison').sum()#['mentioned']\n",
    "    prohib_ids = helper[helper['mentioned'] == 0].index.values\n",
    "    result_df = result_df[~result_df['comparison'].isin(prohib_ids)]\n",
    "    result_df['hit'] = True\n",
    "    result_df = result_df.rename(columns={'comparison':'pubmed_id'})\n",
    "    print(str(len(set(result_df['pubmed_id'].values))) + ' valid transcriptomics articles')\n",
    "    print(str(len(np.unique(citing_articles_array))) + ' valid citing articles')\n",
    "    \n",
    "    result_df.to_csv('../data/transcriptomics_all_hits_' + str(fdr_thresh) + '.csv', index=False)\n",
    "    return result_df"
   ]
  },
  {
   "cell_type": "code",
   "execution_count": 17,
   "id": "e28534cd",
   "metadata": {
    "scrolled": false
   },
   "outputs": [
    {
     "name": "stdout",
     "output_type": "stream",
     "text": [
      "250 transcriptomics articles\n",
      "3482 citing articles\n",
      "148 valid transcriptomics articles\n",
      "1678 valid citing articles\n",
      "235 transcriptomics articles\n",
      "3224 citing articles\n",
      "128 valid transcriptomics articles\n",
      "1389 valid citing articles\n",
      "219 transcriptomics articles\n",
      "3077 citing articles\n",
      "107 valid transcriptomics articles\n",
      "1099 valid citing articles\n",
      "192 transcriptomics articles\n",
      "2579 citing articles\n",
      "80 valid transcriptomics articles\n",
      "886 valid citing articles\n",
      "171 transcriptomics articles\n",
      "2329 citing articles\n",
      "68 valid transcriptomics articles\n",
      "732 valid citing articles\n"
     ]
    },
    {
     "data": {
      "text/html": [
       "<div>\n",
       "<style scoped>\n",
       "    .dataframe tbody tr th:only-of-type {\n",
       "        vertical-align: middle;\n",
       "    }\n",
       "\n",
       "    .dataframe tbody tr th {\n",
       "        vertical-align: top;\n",
       "    }\n",
       "\n",
       "    .dataframe thead th {\n",
       "        text-align: right;\n",
       "    }\n",
       "</style>\n",
       "<table border=\"1\" class=\"dataframe\">\n",
       "  <thead>\n",
       "    <tr style=\"text-align: right;\">\n",
       "      <th></th>\n",
       "      <th>gene_ncbi</th>\n",
       "      <th>pubmed_id</th>\n",
       "      <th>mentioned</th>\n",
       "      <th>mentioned_citations</th>\n",
       "      <th>hit</th>\n",
       "    </tr>\n",
       "  </thead>\n",
       "  <tbody>\n",
       "    <tr>\n",
       "      <th>0</th>\n",
       "      <td>2048</td>\n",
       "      <td>17452456</td>\n",
       "      <td>False</td>\n",
       "      <td>False</td>\n",
       "      <td>True</td>\n",
       "    </tr>\n",
       "    <tr>\n",
       "      <th>1</th>\n",
       "      <td>55297</td>\n",
       "      <td>17452456</td>\n",
       "      <td>False</td>\n",
       "      <td>False</td>\n",
       "      <td>True</td>\n",
       "    </tr>\n",
       "    <tr>\n",
       "      <th>2</th>\n",
       "      <td>6146</td>\n",
       "      <td>17452456</td>\n",
       "      <td>False</td>\n",
       "      <td>False</td>\n",
       "      <td>True</td>\n",
       "    </tr>\n",
       "    <tr>\n",
       "      <th>3</th>\n",
       "      <td>79875</td>\n",
       "      <td>17452456</td>\n",
       "      <td>False</td>\n",
       "      <td>False</td>\n",
       "      <td>True</td>\n",
       "    </tr>\n",
       "    <tr>\n",
       "      <th>4</th>\n",
       "      <td>79877</td>\n",
       "      <td>17452456</td>\n",
       "      <td>False</td>\n",
       "      <td>False</td>\n",
       "      <td>True</td>\n",
       "    </tr>\n",
       "    <tr>\n",
       "      <th>...</th>\n",
       "      <td>...</td>\n",
       "      <td>...</td>\n",
       "      <td>...</td>\n",
       "      <td>...</td>\n",
       "      <td>...</td>\n",
       "    </tr>\n",
       "    <tr>\n",
       "      <th>1842</th>\n",
       "      <td>81875</td>\n",
       "      <td>29844126</td>\n",
       "      <td>False</td>\n",
       "      <td>False</td>\n",
       "      <td>True</td>\n",
       "    </tr>\n",
       "    <tr>\n",
       "      <th>1843</th>\n",
       "      <td>131034</td>\n",
       "      <td>29844126</td>\n",
       "      <td>False</td>\n",
       "      <td>False</td>\n",
       "      <td>True</td>\n",
       "    </tr>\n",
       "    <tr>\n",
       "      <th>1844</th>\n",
       "      <td>8175</td>\n",
       "      <td>29844126</td>\n",
       "      <td>False</td>\n",
       "      <td>False</td>\n",
       "      <td>True</td>\n",
       "    </tr>\n",
       "    <tr>\n",
       "      <th>1845</th>\n",
       "      <td>90102</td>\n",
       "      <td>29844126</td>\n",
       "      <td>False</td>\n",
       "      <td>False</td>\n",
       "      <td>True</td>\n",
       "    </tr>\n",
       "    <tr>\n",
       "      <th>1846</th>\n",
       "      <td>729085</td>\n",
       "      <td>29844126</td>\n",
       "      <td>False</td>\n",
       "      <td>False</td>\n",
       "      <td>True</td>\n",
       "    </tr>\n",
       "  </tbody>\n",
       "</table>\n",
       "<p>117036 rows × 5 columns</p>\n",
       "</div>"
      ],
      "text/plain": [
       "      gene_ncbi  pubmed_id  mentioned  mentioned_citations   hit\n",
       "0          2048   17452456      False                False  True\n",
       "1         55297   17452456      False                False  True\n",
       "2          6146   17452456      False                False  True\n",
       "3         79875   17452456      False                False  True\n",
       "4         79877   17452456      False                False  True\n",
       "...         ...        ...        ...                  ...   ...\n",
       "1842      81875   29844126      False                False  True\n",
       "1843     131034   29844126      False                False  True\n",
       "1844       8175   29844126      False                False  True\n",
       "1845      90102   29844126      False                False  True\n",
       "1846     729085   29844126      False                False  True\n",
       "\n",
       "[117036 rows x 5 columns]"
      ]
     },
     "execution_count": 17,
     "metadata": {},
     "output_type": "execute_result"
    }
   ],
   "source": [
    "result_df = get_genes(main, fdr_thresh=0.05)\n",
    "get_genes(main, fdr_thresh=0.01)\n",
    "get_genes(main, fdr_thresh=0.001)\n",
    "get_genes(main, fdr_thresh=0.0001)\n",
    "get_genes(main, fdr_thresh=0.00001)"
   ]
  },
  {
   "cell_type": "code",
   "execution_count": 18,
   "id": "c83d647b",
   "metadata": {},
   "outputs": [
    {
     "name": "stdout",
     "output_type": "stream",
     "text": [
      "18295\n",
      "161\n",
      "692\n"
     ]
    }
   ],
   "source": [
    "print(result_df[result_df['hit']]['gene_ncbi'].nunique())\n",
    "\n",
    "print(result_df[result_df['mentioned']]['gene_ncbi'].nunique())\n",
    "\n",
    "print(result_df[result_df['mentioned_citations']]['gene_ncbi'].nunique())"
   ]
  },
  {
   "cell_type": "code",
   "execution_count": null,
   "id": "85c3964a",
   "metadata": {},
   "outputs": [],
   "source": []
  }
 ],
 "metadata": {
  "kernelspec": {
   "display_name": "Python 3 (ipykernel)",
   "language": "python",
   "name": "python3"
  },
  "language_info": {
   "codemirror_mode": {
    "name": "ipython",
    "version": 3
   },
   "file_extension": ".py",
   "mimetype": "text/x-python",
   "name": "python",
   "nbconvert_exporter": "python",
   "pygments_lexer": "ipython3",
   "version": "3.9.12"
  }
 },
 "nbformat": 4,
 "nbformat_minor": 5
}
