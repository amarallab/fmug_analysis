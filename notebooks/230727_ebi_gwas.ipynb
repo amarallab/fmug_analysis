{
 "cells": [
  {
   "cell_type": "code",
   "execution_count": 2,
   "id": "ec7991ec",
   "metadata": {},
   "outputs": [],
   "source": [
    "import numpy as np\n",
    "import pandas as pd\n",
    "import scipy\n",
    "\n",
    "from IPython.display import clear_output\n",
    "\n",
    "import sys\n",
    "sys.path.append('../../../../Documents/GitHub/gustav/src/')\n",
    "\n",
    "from gustav import ebi, ncbi, nlm, biogrid, nih\n",
    "from gustav import publications\n",
    "from gustav import github\n",
    "from gustav import access_framework\n",
    "from gustav import mapper\n",
    "\n",
    "import matplotlib as mpl\n",
    "import matplotlib.pyplot as plt\n",
    "import seaborn as sns\n",
    "\n",
    "sys.path.append('../general/src/')\n",
    "from manuscript import export\n",
    "from manuscript import inout\n",
    "from manuscript import datasets\n",
    "from manuscript import tools\n",
    "\n",
    "from sklearn.metrics import auc\n",
    "from scipy.stats import fisher_exact\n",
    "pd.options.display.precision = 3\n",
    "pd.options.display.expand_frame_repr = False\n",
    "pd.options.display.max_columns = 20"
   ]
  },
  {
   "cell_type": "code",
   "execution_count": 3,
   "id": "ba0f2a60",
   "metadata": {},
   "outputs": [
    {
     "name": "stderr",
     "output_type": "stream",
     "text": [
      "C:\\Users\\richa\\Documents\\GitHub\\fmug_analysis\\notebooks\\../../../../Documents/GitHub/gustav/src\\gustav\\utils.py:52: FutureWarning: In a future version of pandas all arguments of DataFrame.drop except for the argument 'labels' will be keyword-only.\n",
      "  df_with_delimiter.drop(column, 1).reset_index(),\n",
      "C:\\Users\\richa\\Documents\\GitHub\\fmug_analysis\\notebooks\\../../../../Documents/GitHub/gustav/src\\gustav\\utils.py:63: FutureWarning: In a future version of pandas all arguments of DataFrame.drop except for the argument 'labels' will be keyword-only.\n",
      "  joined = joined.drop('helper_index', 1)\n",
      "C:\\Users\\richa\\Documents\\GitHub\\fmug_analysis\\notebooks\\../../../../Documents/GitHub/gustav/src\\gustav\\utils.py:52: FutureWarning: In a future version of pandas all arguments of DataFrame.drop except for the argument 'labels' will be keyword-only.\n",
      "  df_with_delimiter.drop(column, 1).reset_index(),\n",
      "C:\\Users\\richa\\Documents\\GitHub\\fmug_analysis\\notebooks\\../../../../Documents/GitHub/gustav/src\\gustav\\utils.py:63: FutureWarning: In a future version of pandas all arguments of DataFrame.drop except for the argument 'labels' will be keyword-only.\n",
      "  joined = joined.drop('helper_index', 1)\n"
     ]
    }
   ],
   "source": [
    "taxon = 9606\n",
    "gene_flavor = 'ou'\n",
    "ref_genes = datasets.reference_genes(taxon, gene_flavor)\n",
    "gene_info = ncbi.gene_info(taxon, mode='unambiguous_ensembl')"
   ]
  },
  {
   "cell_type": "code",
   "execution_count": 4,
   "id": "60eb53fd",
   "metadata": {},
   "outputs": [],
   "source": [
    "ref_literature = datasets.reference_publications(taxon)"
   ]
  },
  {
   "cell_type": "code",
   "execution_count": 5,
   "id": "61e9a6e1",
   "metadata": {},
   "outputs": [],
   "source": [
    "agg = []\n",
    "literature_flavor = 'pubtator_title_or_abstract_in_any_gene2pubmed_paper'\n",
    "\n",
    "gene2lit = datasets.reference_gene2lit(\n",
    "    taxon, \n",
    "    literature_flavor)\n",
    "gene2lit = gene2lit[\n",
    "    gene2lit['gene_ncbi'].isin(ref_genes) & \n",
    "    gene2lit['pubmed_id'].isin(ref_literature)\n",
    "].copy()"
   ]
  },
  {
   "cell_type": "code",
   "execution_count": 6,
   "id": "dd67ae5e",
   "metadata": {},
   "outputs": [
    {
     "name": "stdout",
     "output_type": "stream",
     "text": [
      "CPU times: total: 125 ms\n",
      "Wall time: 124 ms\n"
     ]
    }
   ],
   "source": [
    "%%time\n",
    "gene2pubmed = gene2lit #ncbi.gene2pubmed(taxon_ncbi=9606)\n",
    "large_pubs = gene2pubmed['pubmed_id'].value_counts()[gene2pubmed['pubmed_id'].value_counts() >= 100].index.values\n",
    "#gene2pubmed = gene2pubmed[~gene2pubmed['pubmed_id'].isin(large_pubs)]\n",
    "\n",
    "gene2pubmed_dict = gene2pubmed[~gene2pubmed['pubmed_id'].isin(large_pubs)].value_counts('gene_ncbi').to_dict()"
   ]
  },
  {
   "cell_type": "markdown",
   "id": "7d7d8029",
   "metadata": {},
   "source": [
    "# EBI-GWAS"
   ]
  },
  {
   "cell_type": "code",
   "execution_count": 7,
   "id": "b33bc275",
   "metadata": {},
   "outputs": [],
   "source": [
    "gwas = ebi.gwas(dataset='associations')"
   ]
  },
  {
   "cell_type": "code",
   "execution_count": 8,
   "id": "021b1937",
   "metadata": {},
   "outputs": [
    {
     "data": {
      "text/plain": [
       "35213538    18069\n",
       "34594039    17797\n",
       "32888494    16900\n",
       "30595370    14061\n",
       "34021172    13546\n",
       "            ...  \n",
       "21082022        1\n",
       "26198393        1\n",
       "27758888        1\n",
       "30971808        1\n",
       "21703177        1\n",
       "Name: pubmed_id, Length: 5162, dtype: int64"
      ]
     },
     "execution_count": 8,
     "metadata": {},
     "output_type": "execute_result"
    }
   ],
   "source": [
    "gwas['pubmed_id'].value_counts()"
   ]
  },
  {
   "cell_type": "code",
   "execution_count": 9,
   "id": "2ee10dea",
   "metadata": {},
   "outputs": [],
   "source": [
    "df_array = []\n",
    "\n",
    "# snp ids\n",
    "gwas_slice = gwas[gwas['snp_gene_ids'] != None].copy()\n",
    "\n",
    "gwas_slice['gene_id'] = gwas_slice['snp_gene_ids'].astype(str).str.split(', ')\n",
    "gwas_slice = gwas_slice.explode('gene_id')\n",
    "gwas_slice['type'] = 'snp'\n",
    "df_array.append(gwas_slice)\n",
    "\n",
    "# downstream ids\n",
    "gwas_slice = gwas[gwas['downstream_gene_id'] != None]\n",
    "gwas_slice['gene_id'] = gwas_slice['downstream_gene_id']\n",
    "gwas_slice['type'] = 'downstream'\n",
    "df_array.append(gwas_slice)\n",
    "\n",
    "# upstream ids\n",
    "gwas_slice = gwas[gwas['upstream_gene_id'] != None]\n",
    "gwas_slice['gene_id'] = gwas_slice['upstream_gene_id']\n",
    "gwas_slice['type'] = 'upstream'\n",
    "df_array.append(gwas_slice)\n",
    "\n",
    "gwas = pd.concat(df_array).dropna(subset=['gene_id'])\n",
    "gwas = gwas[(gwas['gene_id'].astype(str) != \"None\")]\n",
    "\n",
    "gwas = pd.merge(gwas, gene_info[['gene_ncbi', 'gene_ensembl']], left_on='gene_id', right_on='gene_ensembl')"
   ]
  },
  {
   "cell_type": "code",
   "execution_count": 10,
   "id": "41ed62f3",
   "metadata": {},
   "outputs": [
    {
     "data": {
      "text/plain": [
       "35213538    22721\n",
       "34594039    21592\n",
       "32888494    19722\n",
       "34503513    17612\n",
       "30595370    15661\n",
       "            ...  \n",
       "29097723        1\n",
       "21826085        1\n",
       "18987618        1\n",
       "29593015        1\n",
       "27455349        1\n",
       "Name: pubmed_id, Length: 4999, dtype: int64"
      ]
     },
     "execution_count": 10,
     "metadata": {},
     "output_type": "execute_result"
    }
   ],
   "source": [
    "# All records\n",
    "gwas['pubmed_id'].value_counts()"
   ]
  },
  {
   "cell_type": "code",
   "execution_count": 11,
   "id": "dba45a08",
   "metadata": {},
   "outputs": [
    {
     "data": {
      "text/plain": [
       "35213538    22721\n",
       "34594039    21592\n",
       "32888494    19722\n",
       "34503513    17612\n",
       "30595370    14928\n",
       "            ...  \n",
       "32895509        1\n",
       "22452962        1\n",
       "29453196        1\n",
       "29059430        1\n",
       "25758998        1\n",
       "Name: pubmed_id, Length: 3887, dtype: int64"
      ]
     },
     "execution_count": 11,
     "metadata": {},
     "output_type": "execute_result"
    }
   ],
   "source": [
    "# With hits\n",
    "gwas[(gwas['pvalue_mlog'] >= -np.log10(5e-8))]['pubmed_id'].value_counts()"
   ]
  },
  {
   "cell_type": "code",
   "execution_count": 12,
   "id": "d39021e6",
   "metadata": {},
   "outputs": [
    {
     "data": {
      "text/plain": [
       "34503513    14772\n",
       "35213538    12476\n",
       "34594039    12382\n",
       "32888494    12120\n",
       "30595370     8862\n",
       "            ...  \n",
       "23297363        1\n",
       "28468790        1\n",
       "27601451        1\n",
       "25338677        1\n",
       "33542107        1\n",
       "Name: pubmed_id, Length: 3500, dtype: int64"
      ]
     },
     "execution_count": 12,
     "metadata": {},
     "output_type": "execute_result"
    }
   ],
   "source": [
    "# Hits within gene\n",
    "gwas[(gwas['pvalue_mlog'] >= -np.log10(5e-8)) & (gwas['type'] == 'snp')]['pubmed_id'].value_counts()"
   ]
  },
  {
   "cell_type": "code",
   "execution_count": 13,
   "id": "97481abd",
   "metadata": {},
   "outputs": [
    {
     "data": {
      "text/plain": [
       "31761296    337\n",
       "29124443    112\n",
       "32581359     67\n",
       "26414677     45\n",
       "28754779     41\n",
       "           ... \n",
       "19561606      1\n",
       "21871595      1\n",
       "18327257      1\n",
       "18327256      1\n",
       "30992453      1\n",
       "Name: pubmed_id, Length: 651, dtype: int64"
      ]
     },
     "execution_count": 13,
     "metadata": {},
     "output_type": "execute_result"
    }
   ],
   "source": [
    "# Mentions gene in title/abstract\n",
    "gwas[(gwas['pvalue_mlog'] >= -np.log10(5e-8)) & \n",
    "     (gwas['type'] == 'snp') & \n",
    "     (gwas['pubmed_id'].isin(gene2pubmed['pubmed_id']))]['pubmed_id'].value_counts()"
   ]
  },
  {
   "cell_type": "code",
   "execution_count": 14,
   "id": "1f2241fb",
   "metadata": {},
   "outputs": [],
   "source": [
    "gwas_slice = gwas[(gwas['type'] == 'snp') & \n",
    "                (gwas['pubmed_id'].isin(gene2pubmed['pubmed_id'])) &\n",
    "                (gwas['pvalue_mlog'] >= -np.log10(5e-8))].copy()"
   ]
  },
  {
   "cell_type": "code",
   "execution_count": 15,
   "id": "342a72be",
   "metadata": {},
   "outputs": [],
   "source": [
    "#gwas_slice['pubmed_id'].drop_duplicates().to_csv('../data/gwas_pubmed_ids.csv', index=False)"
   ]
  },
  {
   "cell_type": "code",
   "execution_count": 16,
   "id": "9319f857",
   "metadata": {},
   "outputs": [
    {
     "name": "stdout",
     "output_type": "stream",
     "text": [
      "CPU times: total: 19 s\n",
      "Wall time: 19.7 s\n"
     ]
    }
   ],
   "source": [
    "%%time\n",
    "icite = nih.icite(dataset='citations')"
   ]
  },
  {
   "cell_type": "code",
   "execution_count": 17,
   "id": "3fc79341",
   "metadata": {},
   "outputs": [],
   "source": [
    "def get_genes(gwas, pval_thresh = 5e-8):\n",
    "    \n",
    "    prot_genes = set(gene_info[gene_info['type_of_gene'] == 'protein-coding']['gene_ncbi'])\n",
    "    \n",
    "    # apply filters and p-value threshold here\n",
    "    gwas = gwas[(gwas['type'] == 'snp') & \n",
    "                (gwas['pubmed_id'].isin(gene2pubmed['pubmed_id'])) &\n",
    "                (gwas['pvalue_mlog'] >= -np.log10(pval_thresh))].copy()\n",
    "    \n",
    "    print(str(len(set(gwas['pubmed_id'].values))) + ' GWAS articles')\n",
    "    \n",
    "    icite_slice = icite[icite['referenced'].isin(gwas['pubmed_id'])].copy()\n",
    "    icite_slice = pd.merge(icite_slice, gene2pubmed, left_on='citing', right_on='pubmed_id')\n",
    "    print(str(icite_slice['citing'].nunique()) + ' citing articles')\n",
    "\n",
    "    de_dict = gwas.groupby('pubmed_id')['gene_ncbi'].apply(set).to_dict()\n",
    "    de_dict_mentioned_genes = (\n",
    "        gene2pubmed[gene2pubmed['pubmed_id']\n",
    "                    .isin(gwas['pubmed_id'])]\n",
    "        .groupby('pubmed_id')['gene_ncbi']\n",
    "        .apply(set).to_dict()\n",
    "    )\n",
    "    de_dict_citations_mentioned_genes = icite_slice.groupby('referenced')['gene_ncbi'].apply(set).to_dict()\n",
    "\n",
    "    np.random.seed(49)\n",
    "    n_samp = 100\n",
    "    de_sets = []\n",
    "    de_mentioned_sets = []\n",
    "    de_mentioned_sets_null = []\n",
    "    de_citations_mentioned_sets = []\n",
    "    citations_mentioned_sets = []\n",
    "    result_df_array = []\n",
    "    citing_articles_array = []\n",
    "    for comparison_key in np.unique(gwas['pubmed_id'].values):\n",
    "        \n",
    "        ### Collect all sets of unique genes\n",
    "        de_list = de_dict.get(comparison_key) & prot_genes\n",
    "\n",
    "        if de_dict_mentioned_genes.get(comparison_key):\n",
    "            de_list_mentioned_genes = de_dict_mentioned_genes.get(comparison_key) & de_list\n",
    "        else:\n",
    "            de_list_mentioned_genes = set()\n",
    "            \n",
    "        if de_dict_citations_mentioned_genes.get(comparison_key):\n",
    "            de_list_citations_mentioned_genes = de_dict_citations_mentioned_genes.get(comparison_key) & de_list\n",
    "        else:\n",
    "            de_list_citations_mentioned_genes = set()\n",
    "            \n",
    "        citing_articles = []\n",
    "        citing_articles = icite_slice[(icite_slice['referenced'] == comparison_key) &\n",
    "                                          icite_slice['gene_ncbi'].isin(de_list)]['citing'].values\n",
    "        for citing_article in citing_articles:\n",
    "            citing_articles_array.append(citing_article)\n",
    "\n",
    "        for n_n in range(n_samp):\n",
    "            de_mentioned_sets_null.append(set(np.random.choice(list(de_list), \n",
    "                                                               replace=False, size=len(de_list_mentioned_genes))))\n",
    "\n",
    "        de_sets.append(de_list)\n",
    "        de_mentioned_sets.append(de_list_mentioned_genes)\n",
    "        de_citations_mentioned_sets.append(de_list_citations_mentioned_genes)\n",
    "        \n",
    "        ### Impute transition probabilities\n",
    "        result_df = pd.DataFrame()\n",
    "        result_df['gene_ncbi'] = list(de_list)\n",
    "        result_df['comparison'] = comparison_key\n",
    "        result_df['mentioned'] = result_df['gene_ncbi'].isin(de_list_mentioned_genes)\n",
    "        result_df['mentioned_citations'] = result_df['gene_ncbi'].isin(de_list_citations_mentioned_genes)\n",
    "        result_df_array.append(result_df)\n",
    "        \n",
    "    ### Collect unique genes\n",
    "    de_list = set().union(*de_sets)\n",
    "    de_list_mentioned = set().union(*de_mentioned_sets)\n",
    "    de_list_mentioned_genes_null = set().union(*de_mentioned_sets_null)\n",
    "    de_list_citations_mentioned = set().union(*de_citations_mentioned_sets)\n",
    "    \n",
    "    ### Collect data for each set\n",
    "    result_df = pd.concat(result_df_array)\n",
    "    \n",
    "    helper = result_df.groupby('comparison').sum()#['mentioned']\n",
    "    prohib_ids = helper[helper['mentioned'] == 0].index.values\n",
    "    result_df = result_df[~result_df['comparison'].isin(prohib_ids)]\n",
    "    result_df['hit'] = True\n",
    "    result_df = result_df.rename(columns={'comparison':'pubmed_id'})\n",
    "    print(str(len(set(result_df['pubmed_id'].values))) + ' valid GWAS articles')\n",
    "    print(str(len(np.unique(citing_articles_array))) + ' valid citing articles')\n",
    "    \n",
    "    result_df.to_csv('../data/gwas_all_hits_' + str(pval_thresh) + '.csv', index=False)\n",
    "    return result_df"
   ]
  },
  {
   "cell_type": "code",
   "execution_count": 18,
   "id": "e28534cd",
   "metadata": {
    "scrolled": true
   },
   "outputs": [
    {
     "name": "stdout",
     "output_type": "stream",
     "text": [
      "651 GWAS articles\n",
      "9451 citing articles\n",
      "450 valid GWAS articles\n",
      "3524 valid citing articles\n"
     ]
    }
   ],
   "source": [
    "#result_df = get_genes(gwas, pval_thresh=1e-5)\n",
    "result_df = get_genes(gwas, pval_thresh=5e-8)\n",
    "#result_df = get_genes(gwas, pval_thresh=1e-8)\n",
    "#result_df = get_genes(gwas, pval_thresh=1e-9)\n",
    "#result_df = get_genes(gwas, pval_thresh=1e-10)"
   ]
  },
  {
   "cell_type": "code",
   "execution_count": 19,
   "id": "8f931f28",
   "metadata": {},
   "outputs": [
    {
     "name": "stdout",
     "output_type": "stream",
     "text": [
      "1043\n",
      "413\n",
      "319\n"
     ]
    }
   ],
   "source": [
    "print(result_df[result_df['hit']]['gene_ncbi'].nunique())\n",
    "\n",
    "print(result_df[result_df['mentioned']]['gene_ncbi'].nunique())\n",
    "\n",
    "print(result_df[result_df['mentioned_citations']]['gene_ncbi'].nunique())"
   ]
  },
  {
   "cell_type": "code",
   "execution_count": null,
   "id": "0af0361a",
   "metadata": {},
   "outputs": [],
   "source": []
  }
 ],
 "metadata": {
  "kernelspec": {
   "display_name": "Python 3 (ipykernel)",
   "language": "python",
   "name": "python3"
  },
  "language_info": {
   "codemirror_mode": {
    "name": "ipython",
    "version": 3
   },
   "file_extension": ".py",
   "mimetype": "text/x-python",
   "name": "python",
   "nbconvert_exporter": "python",
   "pygments_lexer": "ipython3",
   "version": "3.9.12"
  }
 },
 "nbformat": 4,
 "nbformat_minor": 5
}
