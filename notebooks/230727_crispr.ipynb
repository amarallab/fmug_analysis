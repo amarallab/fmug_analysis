{
 "cells": [
  {
   "cell_type": "code",
   "execution_count": 1,
   "id": "ec7991ec",
   "metadata": {},
   "outputs": [
    {
     "name": "stderr",
     "output_type": "stream",
     "text": [
      "C:\\Users\\richa\\anaconda3\\envs\\gene_env\\lib\\site-packages\\scipy\\__init__.py:146: UserWarning: A NumPy version >=1.17.3 and <1.25.0 is required for this version of SciPy (detected version 1.26.3\n",
      "  warnings.warn(f\"A NumPy version >={np_minversion} and <{np_maxversion}\"\n"
     ]
    }
   ],
   "source": [
    "import numpy as np\n",
    "import pandas as pd\n",
    "import scipy\n",
    "\n",
    "from IPython.display import clear_output\n",
    "\n",
    "import sys\n",
    "sys.path.append('../../../../Documents/GitHub/gustav/src/')\n",
    "\n",
    "from gustav import ebi, ncbi, nlm, biogrid, nih\n",
    "from gustav import publications\n",
    "from gustav import github\n",
    "from gustav import access_framework\n",
    "from gustav import mapper\n",
    "\n",
    "import matplotlib as mpl\n",
    "import matplotlib.pyplot as plt\n",
    "import seaborn as sns\n",
    "\n",
    "sys.path.append('../general/src/')\n",
    "from manuscript import export\n",
    "from manuscript import inout\n",
    "from manuscript import datasets\n",
    "from manuscript import tools\n",
    "\n",
    "from sklearn.metrics import auc\n",
    "from scipy.stats import fisher_exact\n",
    "pd.options.display.precision = 3\n",
    "pd.options.display.expand_frame_repr = False\n",
    "pd.options.display.max_columns = 20"
   ]
  },
  {
   "cell_type": "code",
   "execution_count": 2,
   "id": "ba0f2a60",
   "metadata": {},
   "outputs": [
    {
     "name": "stderr",
     "output_type": "stream",
     "text": [
      "C:\\Users\\richa\\Documents\\GitHub\\fmug_analysis\\notebooks\\../../../../Documents/GitHub/gustav/src\\gustav\\utils.py:52: FutureWarning: In a future version of pandas all arguments of DataFrame.drop except for the argument 'labels' will be keyword-only.\n",
      "  df_with_delimiter.drop(column, 1).reset_index(),\n",
      "C:\\Users\\richa\\Documents\\GitHub\\fmug_analysis\\notebooks\\../../../../Documents/GitHub/gustav/src\\gustav\\utils.py:63: FutureWarning: In a future version of pandas all arguments of DataFrame.drop except for the argument 'labels' will be keyword-only.\n",
      "  joined = joined.drop('helper_index', 1)\n",
      "C:\\Users\\richa\\Documents\\GitHub\\fmug_analysis\\notebooks\\../../../../Documents/GitHub/gustav/src\\gustav\\utils.py:52: FutureWarning: In a future version of pandas all arguments of DataFrame.drop except for the argument 'labels' will be keyword-only.\n",
      "  df_with_delimiter.drop(column, 1).reset_index(),\n",
      "C:\\Users\\richa\\Documents\\GitHub\\fmug_analysis\\notebooks\\../../../../Documents/GitHub/gustav/src\\gustav\\utils.py:63: FutureWarning: In a future version of pandas all arguments of DataFrame.drop except for the argument 'labels' will be keyword-only.\n",
      "  joined = joined.drop('helper_index', 1)\n"
     ]
    }
   ],
   "source": [
    "taxon = 9606\n",
    "gene_flavor = 'ou'\n",
    "ref_genes = datasets.reference_genes(taxon, gene_flavor)\n",
    "gene_info = ncbi.gene_info(taxon, mode='unambiguous_ensembl')"
   ]
  },
  {
   "cell_type": "code",
   "execution_count": 3,
   "id": "60eb53fd",
   "metadata": {},
   "outputs": [],
   "source": [
    "ref_literature = datasets.reference_publications(taxon)"
   ]
  },
  {
   "cell_type": "code",
   "execution_count": 4,
   "id": "61e9a6e1",
   "metadata": {},
   "outputs": [],
   "source": [
    "agg = []\n",
    "literature_flavor = 'pubtator_title_or_abstract_in_any_gene2pubmed_paper'\n",
    "\n",
    "gene2lit = datasets.reference_gene2lit(\n",
    "    taxon, \n",
    "    literature_flavor)\n",
    "gene2lit = gene2lit[\n",
    "    gene2lit['gene_ncbi'].isin(ref_genes) & \n",
    "    gene2lit['pubmed_id'].isin(ref_literature)\n",
    "].copy()"
   ]
  },
  {
   "cell_type": "code",
   "execution_count": 5,
   "id": "dd67ae5e",
   "metadata": {},
   "outputs": [
    {
     "name": "stdout",
     "output_type": "stream",
     "text": [
      "CPU times: total: 141 ms\n",
      "Wall time: 124 ms\n"
     ]
    }
   ],
   "source": [
    "%%time\n",
    "gene2pubmed = gene2lit #ncbi.gene2pubmed(taxon_ncbi=9606)\n",
    "large_pubs = gene2pubmed['pubmed_id'].value_counts()[gene2pubmed['pubmed_id'].value_counts() >= 100].index.values\n",
    "#gene2pubmed = gene2pubmed[~gene2pubmed['pubmed_id'].isin(large_pubs)]\n",
    "\n",
    "gene2pubmed_dict = gene2pubmed[~gene2pubmed['pubmed_id'].isin(large_pubs)].value_counts('gene_ncbi').to_dict()"
   ]
  },
  {
   "cell_type": "markdown",
   "id": "2b984946",
   "metadata": {},
   "source": [
    "# BioGRID ORCS"
   ]
  },
  {
   "cell_type": "code",
   "execution_count": 6,
   "id": "4c593d49",
   "metadata": {},
   "outputs": [],
   "source": [
    "orcs_results = biogrid.orcs('results')\n",
    "orcs_studies = biogrid.orcs('studies')"
   ]
  },
  {
   "cell_type": "code",
   "execution_count": 7,
   "id": "7baf1ba7",
   "metadata": {},
   "outputs": [
    {
     "data": {
      "text/plain": [
       "29083409    340\n",
       "30971826    325\n",
       "29526696     45\n",
       "27260156     33\n",
       "28162770     19\n",
       "           ... \n",
       "32728216      1\n",
       "30898113      1\n",
       "32005668      1\n",
       "31353312      1\n",
       "28768188      1\n",
       "Name: source_id, Length: 114, dtype: int64"
      ]
     },
     "execution_count": 7,
     "metadata": {},
     "output_type": "execute_result"
    }
   ],
   "source": [
    "orcs_studies['source_id'].value_counts()"
   ]
  },
  {
   "cell_type": "code",
   "execution_count": 8,
   "id": "33961cec",
   "metadata": {},
   "outputs": [
    {
     "name": "stdout",
     "output_type": "stream",
     "text": [
      "113\n",
      "99\n"
     ]
    }
   ],
   "source": [
    "# studies with PMID\n",
    "orcs_studies = orcs_studies[(orcs_studies['source_type'] == 'pubmed')]\n",
    "print(len(orcs_studies['source_id'].value_counts()))\n",
    "# studies in human\n",
    "orcs_studies = orcs_studies[(orcs_studies['taxon_ncbi'] == 9606)]\n",
    "print(len(orcs_studies['source_id'].value_counts()))"
   ]
  },
  {
   "cell_type": "code",
   "execution_count": 9,
   "id": "da6a256d",
   "metadata": {},
   "outputs": [],
   "source": [
    "orcs_studies = orcs_studies[(orcs_studies['source_type'] == 'pubmed') & \n",
    "                            (orcs_studies['taxon_ncbi'] == 9606)]\n",
    "orcs_studies['source_id'] = orcs_studies['source_id'].astype(int)\n",
    "orcs_studies['pubmed_id'] = orcs_studies['source_id']\n",
    "orcs_studies = orcs_studies[orcs_studies['pubmed_id'].isin(gene2pubmed['pubmed_id'])]"
   ]
  },
  {
   "cell_type": "code",
   "execution_count": 10,
   "id": "775bb4fa",
   "metadata": {},
   "outputs": [
    {
     "data": {
      "text/plain": [
       "21"
      ]
     },
     "execution_count": 10,
     "metadata": {},
     "output_type": "execute_result"
    }
   ],
   "source": [
    "# studies with genes in title/abstract\n",
    "len(orcs_studies['source_id'].value_counts())"
   ]
  },
  {
   "cell_type": "code",
   "execution_count": 11,
   "id": "a953ddeb",
   "metadata": {},
   "outputs": [],
   "source": [
    "orcs_results = pd.merge(orcs_results, orcs_studies[['orcs_screen_id', 'pubmed_id']])\n",
    "orcs_results = orcs_results[orcs_results['hit'] == True].copy()\n",
    "orcs_results = orcs_results.drop_duplicates(['gene_ncbi', 'pubmed_id'])"
   ]
  },
  {
   "cell_type": "code",
   "execution_count": 12,
   "id": "3ba327e3",
   "metadata": {},
   "outputs": [
    {
     "data": {
      "text/plain": [
       "21"
      ]
     },
     "execution_count": 12,
     "metadata": {},
     "output_type": "execute_result"
    }
   ],
   "source": [
    "len(orcs_results['pubmed_id'].value_counts())"
   ]
  },
  {
   "cell_type": "code",
   "execution_count": 13,
   "id": "0549bf95",
   "metadata": {},
   "outputs": [],
   "source": [
    "#orcs_results['pubmed_id'].drop_duplicates().to_csv('../data/crispr_pubmed_ids.csv', index=False)"
   ]
  },
  {
   "cell_type": "code",
   "execution_count": 14,
   "id": "2bc09baf",
   "metadata": {},
   "outputs": [
    {
     "name": "stderr",
     "output_type": "stream",
     "text": [
      "C:\\Users\\richa\\anaconda3\\envs\\gene_env\\lib\\site-packages\\seaborn\\distributions.py:2619: FutureWarning: `distplot` is a deprecated function and will be removed in a future version. Please adapt your code to use either `displot` (a figure-level function with similar flexibility) or `histplot` (an axes-level function for histograms).\n",
      "  warnings.warn(msg, FutureWarning)\n"
     ]
    },
    {
     "data": {
      "text/plain": [
       "(-20.0, 60.0)"
      ]
     },
     "execution_count": 14,
     "metadata": {},
     "output_type": "execute_result"
    },
    {
     "data": {
      "image/png": "[encoded data removed]",
      "text/plain": [
       "<Figure size 432x288 with 1 Axes>"
      ]
     },
     "metadata": {
      "needs_background": "light"
     },
     "output_type": "display_data"
    }
   ],
   "source": [
    "bins = np.arange(-20,40,1)\n",
    "sns.distplot(orcs_results['score.1'], bins=bins)\n",
    "plt.xlim([-20,60])"
   ]
  },
  {
   "cell_type": "code",
   "execution_count": 15,
   "id": "9319f857",
   "metadata": {},
   "outputs": [
    {
     "name": "stdout",
     "output_type": "stream",
     "text": [
      "CPU times: total: 21.7 s\n",
      "Wall time: 24.5 s\n"
     ]
    }
   ],
   "source": [
    "%%time\n",
    "icite = nih.icite(dataset='citations')"
   ]
  },
  {
   "cell_type": "code",
   "execution_count": 25,
   "id": "3fc79341",
   "metadata": {},
   "outputs": [],
   "source": [
    "def get_genes(gwas):\n",
    "    \n",
    "    prot_genes = set(gene_info[gene_info['type_of_gene'] == 'protein-coding']['gene_ncbi'])\n",
    "    \n",
    "    # apply filters and p-value threshold here\n",
    "    gwas = gwas[(gwas['pubmed_id'].isin(gene2pubmed['pubmed_id']))].copy()\n",
    "    \n",
    "    print(str(len(set(gwas['pubmed_id'].values))) + ' CRISPR articles')\n",
    "    \n",
    "    icite_slice = icite[icite['referenced'].isin(gwas['pubmed_id'])].copy()\n",
    "    icite_slice = pd.merge(icite_slice, gene2pubmed, left_on='citing', right_on='pubmed_id')\n",
    "    print(icite_slice['citing'].nunique())\n",
    "\n",
    "    de_dict = gwas.groupby('pubmed_id')['gene_ncbi'].apply(set).to_dict()\n",
    "    de_dict_mentioned_genes = (\n",
    "        gene2pubmed[gene2pubmed['pubmed_id']\n",
    "                    .isin(gwas['pubmed_id'])]\n",
    "        .groupby('pubmed_id')['gene_ncbi']\n",
    "        .apply(set).to_dict()\n",
    "    )\n",
    "    de_dict_citations_mentioned_genes = icite_slice.groupby('referenced')['gene_ncbi'].apply(set).to_dict()\n",
    "\n",
    "    np.random.seed(49)\n",
    "    n_samp = 100\n",
    "    de_sets = []\n",
    "    de_mentioned_sets = []\n",
    "    de_mentioned_sets_null = []\n",
    "    de_citations_mentioned_sets = []\n",
    "    citations_mentioned_sets = []\n",
    "    result_df_array = []\n",
    "    for comparison_key in np.unique(gwas['pubmed_id'].values):\n",
    "        \n",
    "        ### Collect all sets of unique genes\n",
    "        de_list = de_dict.get(comparison_key) & prot_genes\n",
    "\n",
    "        if de_dict_mentioned_genes.get(comparison_key):\n",
    "            de_list_mentioned_genes = de_dict_mentioned_genes.get(comparison_key) & de_list\n",
    "        else:\n",
    "            de_list_mentioned_genes = set()\n",
    "            \n",
    "        if de_dict_citations_mentioned_genes.get(comparison_key):\n",
    "            de_list_citations_mentioned_genes = de_dict_citations_mentioned_genes.get(comparison_key) & de_list\n",
    "        else:\n",
    "            de_list_citations_mentioned_genes = set()\n",
    "\n",
    "        for n_n in range(n_samp):\n",
    "            de_mentioned_sets_null.append(set(np.random.choice(list(de_list), \n",
    "                                                               replace=False, size=len(de_list_mentioned_genes))))\n",
    "\n",
    "        de_sets.append(de_list)\n",
    "        de_mentioned_sets.append(de_list_mentioned_genes)\n",
    "        de_citations_mentioned_sets.append(de_list_citations_mentioned_genes)\n",
    "        \n",
    "        ### Impute transition probabilities\n",
    "        result_df = pd.DataFrame()\n",
    "        result_df['gene_ncbi'] = list(de_list)\n",
    "        result_df['comparison'] = comparison_key\n",
    "        result_df['mentioned'] = result_df['gene_ncbi'].isin(de_list_mentioned_genes)\n",
    "        result_df['mentioned_citations'] = result_df['gene_ncbi'].isin(de_list_citations_mentioned_genes)\n",
    "        result_df_array.append(result_df)\n",
    "        \n",
    "    ### Collect unique genes\n",
    "    de_list = set().union(*de_sets)\n",
    "    de_list_mentioned = set().union(*de_mentioned_sets)\n",
    "    de_list_mentioned_genes_null = set().union(*de_mentioned_sets_null)\n",
    "    de_list_citations_mentioned = set().union(*de_citations_mentioned_sets)\n",
    "    \n",
    "    ### Collect data for each set\n",
    "    result_df = pd.concat(result_df_array)\n",
    "    \n",
    "    helper = result_df.groupby('comparison').sum()#['mentioned']\n",
    "    prohib_ids = helper[helper['mentioned'] == 0].index.values\n",
    "    result_df = result_df[~result_df['comparison'].isin(prohib_ids)]\n",
    "    result_df['hit'] = True\n",
    "    result_df = result_df.rename(columns={'comparison':'pubmed_id'})\n",
    "    print(str(len(set(result_df['pubmed_id'].values))) + ' valid CRISPR articles')\n",
    "    \n",
    "    result_df.to_csv('../data/crispr_all_hits.csv', index=False)\n",
    "    return result_df"
   ]
  },
  {
   "cell_type": "code",
   "execution_count": 26,
   "id": "e28534cd",
   "metadata": {
    "scrolled": false
   },
   "outputs": [
    {
     "name": "stdout",
     "output_type": "stream",
     "text": [
      "21 CRISPR articles\n",
      "36\n",
      "15 valid CRISPR articles\n"
     ]
    },
    {
     "ename": "ValueError",
     "evalue": "too many values to unpack (expected 2)",
     "output_type": "error",
     "traceback": [
      "\u001b[1;31m---------------------------------------------------------------------------\u001b[0m",
      "\u001b[1;31mValueError\u001b[0m                                Traceback (most recent call last)",
      "Input \u001b[1;32mIn [26]\u001b[0m, in \u001b[0;36m<cell line: 1>\u001b[1;34m()\u001b[0m\n\u001b[1;32m----> 1\u001b[0m result_df, icite_slice \u001b[38;5;241m=\u001b[39m get_genes(orcs_results)\n",
      "\u001b[1;31mValueError\u001b[0m: too many values to unpack (expected 2)"
     ]
    }
   ],
   "source": [
    "result_df, icite_slice = get_genes(orcs_results)"
   ]
  },
  {
   "cell_type": "code",
   "execution_count": 24,
   "id": "1b6b5094",
   "metadata": {},
   "outputs": [
    {
     "name": "stdout",
     "output_type": "stream",
     "text": [
      "9268\n",
      "18\n",
      "19\n"
     ]
    }
   ],
   "source": [
    "print(result_df[result_df['hit']]['gene_ncbi'].nunique())\n",
    "\n",
    "print(result_df[result_df['mentioned']]['gene_ncbi'].nunique())\n",
    "\n",
    "print(result_df[result_df['mentioned_citations']]['gene_ncbi'].nunique())"
   ]
  },
  {
   "cell_type": "code",
   "execution_count": null,
   "id": "19e5cfc9",
   "metadata": {},
   "outputs": [],
   "source": []
  }
 ],
 "metadata": {
  "kernelspec": {
   "display_name": "Python 3 (ipykernel)",
   "language": "python",
   "name": "python3"
  },
  "language_info": {
   "codemirror_mode": {
    "name": "ipython",
    "version": 3
   },
   "file_extension": ".py",
   "mimetype": "text/x-python",
   "name": "python",
   "nbconvert_exporter": "python",
   "pygments_lexer": "ipython3",
   "version": "3.9.12"
  }
 },
 "nbformat": 4,
 "nbformat_minor": 5
}
