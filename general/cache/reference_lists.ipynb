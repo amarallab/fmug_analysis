{
 "cells": [
  {
   "cell_type": "code",
   "execution_count": 1,
   "id": "a7aacee4",
   "metadata": {},
   "outputs": [],
   "source": [
    "import sys"
   ]
  },
  {
   "cell_type": "code",
   "execution_count": 2,
   "id": "18606b6b",
   "metadata": {},
   "outputs": [],
   "source": [
    "sys.path.append('./../src/')\n",
    "\n",
    "from manuscript import export, inout\n",
    "\n",
    "sys.path.append(inout.gustav_path())\n",
    "from gustav import ncbi\n",
    "\n",
    "from gustav import nlm"
   ]
  },
  {
   "cell_type": "code",
   "execution_count": 3,
   "id": "c2c5b1cf",
   "metadata": {},
   "outputs": [],
   "source": [
    "user = 'general'\n",
    "save = True"
   ]
  },
  {
   "cell_type": "markdown",
   "id": "fcd1440b",
   "metadata": {},
   "source": [
    "# Reference literature"
   ]
  },
  {
   "cell_type": "code",
   "execution_count": 4,
   "id": "21c60b67",
   "metadata": {},
   "outputs": [],
   "source": [
    "ml = ncbi.pubmed('main', ['pubmed_id', 'year'])"
   ]
  },
  {
   "cell_type": "markdown",
   "id": "fb5bb8c7",
   "metadata": {},
   "source": [
    "## Find maximal year to consider"
   ]
  },
  {
   "cell_type": "code",
   "execution_count": 5,
   "id": "f9ced79d",
   "metadata": {},
   "outputs": [
    {
     "data": {
      "text/plain": [
       "<matplotlib.axes._subplots.AxesSubplot at 0x7f9858124050>"
      ]
     },
     "execution_count": 5,
     "metadata": {},
     "output_type": "execute_result"
    },
    {
     "data": {
      "image/png": "[encoded data removed]",
      "text/plain": [
       "<Figure size 432x288 with 1 Axes>"
      ]
     },
     "metadata": {
      "needs_background": "light"
     },
     "output_type": "display_data"
    }
   ],
   "source": [
    "ml['year'].value_counts().sort_index().plot()"
   ]
  },
  {
   "cell_type": "code",
   "execution_count": 6,
   "id": "f9e79adf",
   "metadata": {},
   "outputs": [
    {
     "data": {
      "text/plain": [
       "2002     558867\n",
       "2003     584275\n",
       "2004     620313\n",
       "2005     656588\n",
       "2006     685312\n",
       "2007     710771\n",
       "2008     751559\n",
       "2009     784759\n",
       "2010     823344\n",
       "2011     876275\n",
       "2012     940685\n",
       "2013     996409\n",
       "2014    1043878\n",
       "2015    1088755\n",
       "2016    1114134\n",
       "2017    1124450\n",
       "2018    1166587\n",
       "2019    1226646\n",
       "2020    1506074\n",
       "2021      16770\n",
       "Name: year, dtype: int64"
      ]
     },
     "execution_count": 6,
     "metadata": {},
     "output_type": "execute_result"
    }
   ],
   "source": [
    "ml['year'].value_counts().sort_index().tail(20)"
   ]
  },
  {
   "cell_type": "code",
   "execution_count": 7,
   "id": "2915ac1b",
   "metadata": {},
   "outputs": [],
   "source": [
    "ml = ml[ml['year']<=2020]"
   ]
  },
  {
   "cell_type": "markdown",
   "id": "a2d49653",
   "metadata": {},
   "source": [
    "## Find reserach publications"
   ]
  },
  {
   "cell_type": "code",
   "execution_count": 8,
   "id": "2c37820e",
   "metadata": {},
   "outputs": [],
   "source": [
    "forbidden_publication_types = [\n",
    "        'D016454:Review',\n",
    "        'D016422:Letter',\n",
    "        'D016420:Comment',\n",
    "        'D016421:Editorial',\n",
    "        'D016456:Historical Article',\n",
    "        'D016433:News',\n",
    "        'D019215:Biography',\n",
    "        'D016425:Published Erratum',\n",
    "        'D054711:Introductory Journal Article',\n",
    "        'D019477:Portrait',\n",
    "        'D017203:Interview',\n",
    "        'D016424:Overall',\n",
    "        'D017065:Practice Guideline',\n",
    "        'D059040:Video-Audio Media',\n",
    "        'D018431:Newspaper Article',\n",
    "        'D016417:Bibliography',\n",
    "        'D016440:Retraction of Publication',\n",
    "        'D016441:Retracted Publication',\n",
    "        'D019531:Lecture',\n",
    "        'D016435:Directory',\n",
    "        'D016419:Classical Article',\n",
    "        'D019484:Address',\n",
    "        'D029282:Patient Education Handout',\n",
    "        'D062210:Personal Narrative',\n",
    "        'D020493:Autobiography',\n",
    "        'D020485:Legislation',\n",
    "        'D016221:Festschrift',\n",
    "        'D016438:Duplicate Publication',\n",
    "        'D057405:Webcast',\n",
    "        'D064886:Dataset',\n",
    "        'D016437:Dictionary',\n",
    "        'D000075742:Expression of Concern',\n",
    "        'D016453:Periodical Index',\n",
    "        'D054710:Interactive Tutorial',\n",
    "        'D016426:Scientific Integrity Review',\n",
    "        'D020470:Collected Works',\n",
    "        'D057405:Webcasts',\n",
    "    ]"
   ]
  },
  {
   "cell_type": "code",
   "execution_count": 9,
   "id": "99079759",
   "metadata": {},
   "outputs": [],
   "source": [
    "publication_types = ncbi.pubmed(\n",
    "    'publication_types'\n",
    ")"
   ]
  },
  {
   "cell_type": "code",
   "execution_count": 10,
   "id": "c8017dd3",
   "metadata": {},
   "outputs": [],
   "source": [
    "publication_types['forbidden'] = publication_types['publication_types'].isin(\n",
    "    forbidden_publication_types\n",
    ")\n",
    "is_not_primary_research = publication_types.groupby('pubmed_id')['forbidden'].any()"
   ]
  },
  {
   "cell_type": "markdown",
   "id": "52b312ad",
   "metadata": {},
   "source": [
    "## Define reference and export"
   ]
  },
  {
   "cell_type": "markdown",
   "id": "1b4301dd",
   "metadata": {},
   "source": [
    "### Any "
   ]
  },
  {
   "cell_type": "code",
   "execution_count": 11,
   "id": "e5737a76",
   "metadata": {},
   "outputs": [],
   "source": [
    "reference_publications = ml[ml['pubmed_id'].isin(\n",
    "    is_not_primary_research[is_not_primary_research==False].index\n",
    ")][['pubmed_id']].drop_duplicates()"
   ]
  },
  {
   "cell_type": "code",
   "execution_count": 12,
   "id": "1bcf7146",
   "metadata": {},
   "outputs": [],
   "source": [
    "if save:\n",
    "    export.full_frame(user, 'references/literature.parquet', reference_publications)"
   ]
  },
  {
   "cell_type": "markdown",
   "id": "b8caed8c",
   "metadata": {},
   "source": [
    "### Subset: Human"
   ]
  },
  {
   "cell_type": "code",
   "execution_count": 13,
   "id": "bfa71bd0",
   "metadata": {},
   "outputs": [],
   "source": [
    "mesh = ncbi.pubmed('mesh_terms')\n",
    "human = mesh[mesh['mesh_terms']=='D006801:Humans']['pubmed_id']\n",
    "\n",
    "reference_publications_humans = reference_publications[\n",
    "    reference_publications['pubmed_id'].isin(human)\n",
    "]\n",
    "\n",
    "if save:\n",
    "    export.full_frame(user, 'references/literature_human.parquet', reference_publications_humans)"
   ]
  },
  {
   "cell_type": "markdown",
   "id": "1387489c",
   "metadata": {},
   "source": [
    "# model organisms"
   ]
  },
  {
   "cell_type": "code",
   "execution_count": 14,
   "id": "02dfb18f",
   "metadata": {},
   "outputs": [],
   "source": [
    "def get_mesh_children(ui_of_interest):\n",
    "    \"\"\"\n",
    "    Will identify the MeSH ui (e..g: D000001)\n",
    "    that are childen of provided MeSH\n",
    "    \n",
    "    Input:\n",
    "    ui    str e.g.: D000001\n",
    "    \n",
    "    Output\n",
    "    uis   set with childen ui of input ui\n",
    "    \n",
    "    \"\"\"\n",
    "\n",
    "    ui = nlm.mesh('ui2mn')\n",
    "    branch = ui[ui['ui'] == ui_of_interest]['mn'].values\n",
    "\n",
    "    pattern = r'^' + r'|'.join(branch)\n",
    "    \n",
    "    \n",
    "    return set(ui[ui['mn'].str.contains(pattern)]['ui'])"
   ]
  },
  {
   "cell_type": "code",
   "execution_count": 15,
   "id": "90ca025a",
   "metadata": {},
   "outputs": [],
   "source": [
    "extra_species={\n",
    "    'dmelanogaster': 'D004331:Drosophila melanogaster',\n",
    "    'rat': 'D051381:Rats',\n",
    "    'celegans': 'D017173:Caenorhabditis elegans',\n",
    "    'scerevisiae': 'D012441:Saccharomyces cerevisiae',\n",
    "    'drerio': 'D015027:Zebrafish',\n",
    "    'mouse': 'D051379:Mice'\n",
    "    \n",
    "    \n",
    "}"
   ]
  },
  {
   "cell_type": "code",
   "execution_count": 16,
   "id": "87751c13",
   "metadata": {},
   "outputs": [],
   "source": [
    "# c = mesh['mesh_terms'].value_counts()"
   ]
  },
  {
   "cell_type": "code",
   "execution_count": 17,
   "id": "676d4ce7",
   "metadata": {},
   "outputs": [],
   "source": [
    "mini_mesh = mesh[['mesh_terms']].drop_duplicates()\n",
    "mini_mesh['mn'] = mini_mesh['mesh_terms'].str.extract('(.*):', expand=False)"
   ]
  },
  {
   "cell_type": "code",
   "execution_count": null,
   "id": "941bb769",
   "metadata": {},
   "outputs": [],
   "source": []
  },
  {
   "cell_type": "code",
   "execution_count": 18,
   "id": "fe263207",
   "metadata": {},
   "outputs": [
    {
     "name": "stdout",
     "output_type": "stream",
     "text": [
      "dmelanogaster\n",
      "rat\n",
      "celegans\n",
      "scerevisiae\n",
      "drerio\n",
      "mouse\n"
     ]
    }
   ],
   "source": [
    "for species in extra_species.keys():\n",
    "    print(species)\n",
    "    mns = extra_species[species].split(':')[0]\n",
    "    \n",
    "    if isinstance(mns, str):\n",
    "        mns = [mns]\n",
    "    \n",
    "    meshs = set(mini_mesh[mini_mesh['mn'].isin(mns)]['mesh_terms'])\n",
    "\n",
    "    in_species = mesh[mesh['mesh_terms'].isin(meshs)]['pubmed_id']\n",
    "\n",
    "    reference_publications_in_species = reference_publications[\n",
    "        reference_publications['pubmed_id'].isin(in_species)\n",
    "    ]\n",
    "\n",
    "\n",
    "    if save:\n",
    "        export.full_frame(user, f'references/literature_{species}.parquet', reference_publications_in_species)\n",
    "    "
   ]
  },
  {
   "cell_type": "code",
   "execution_count": null,
   "id": "a02e52f7",
   "metadata": {},
   "outputs": [],
   "source": []
  },
  {
   "cell_type": "code",
   "execution_count": null,
   "id": "3f2f2e30",
   "metadata": {},
   "outputs": [],
   "source": []
  },
  {
   "cell_type": "code",
   "execution_count": null,
   "id": "e1d03bc1",
   "metadata": {},
   "outputs": [],
   "source": []
  }
 ],
 "metadata": {
  "kernelspec": {
   "display_name": "Python 3 (ipykernel)",
   "language": "python",
   "name": "python3"
  },
  "language_info": {
   "codemirror_mode": {
    "name": "ipython",
    "version": 3
   },
   "file_extension": ".py",
   "mimetype": "text/x-python",
   "name": "python",
   "nbconvert_exporter": "python",
   "pygments_lexer": "ipython3",
   "version": "3.9.12"
  }
 },
 "nbformat": 4,
 "nbformat_minor": 5
}
