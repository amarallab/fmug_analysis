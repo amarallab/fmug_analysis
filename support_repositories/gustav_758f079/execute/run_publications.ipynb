{
 "cells": [
  {
   "cell_type": "code",
   "execution_count": 1,
   "metadata": {},
   "outputs": [],
   "source": [
    "%load_ext autoreload\n",
    "%autoreload 2 "
   ]
  },
  {
   "cell_type": "code",
   "execution_count": 2,
   "metadata": {},
   "outputs": [],
   "source": [
    "import sys\n",
    "\n",
    "sys.path.append(\n",
    "    './../../prepare_gustav/src'\n",
    ")\n",
    "\n",
    "from preparator import publications, served, inout"
   ]
  },
  {
   "cell_type": "code",
   "execution_count": 3,
   "metadata": {},
   "outputs": [],
   "source": [
    "# publications.jiang_2020()\n",
    "\n",
    "# publications.blanco_melo_2020()\n",
    "\n",
    "# publications.uhlen_2015()\n",
    "\n",
    "# publications.karczewski_2020()\n",
    "\n",
    "# publications.partridge_2018()\n",
    "\n",
    "# publications.unnikrishnan_2018()\n",
    "\n",
    "\n",
    "publications.brehme_2014()\n",
    "\n",
    "publications.shemesh_2021()"
   ]
  }
 ],
 "metadata": {
  "kernelspec": {
   "display_name": "Python 3",
   "language": "python",
   "name": "python3"
  },
  "language_info": {
   "codemirror_mode": {
    "name": "ipython",
    "version": 3
   },
   "file_extension": ".py",
   "mimetype": "text/x-python",
   "name": "python",
   "nbconvert_exporter": "python",
   "pygments_lexer": "ipython3",
   "version": "3.7.7"
  },
  "toc": {
   "base_numbering": 1,
   "nav_menu": {},
   "number_sections": true,
   "sideBar": true,
   "skip_h1_title": false,
   "title_cell": "Table of Contents",
   "title_sidebar": "Contents",
   "toc_cell": false,
   "toc_position": {},
   "toc_section_display": true,
   "toc_window_display": false
  }
 },
 "nbformat": 4,
 "nbformat_minor": 4
}
